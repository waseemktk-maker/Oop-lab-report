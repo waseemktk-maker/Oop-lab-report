{
 "cells": [
  {
   "cell_type": "markdown",
   "id": "06b12380-2343-43bf-bfdc-b4c80ebe8c98",
   "metadata": {},
   "source": [
    " #  🎓 EE-271 OOP & Data Structures Lab Report \n"
   ]
  },
  {
   "cell_type": "code",
   "execution_count": null,
   "id": "36564e93-73a9-4335-9989-a8814fc5bf5f",
   "metadata": {},
   "outputs": [],
   "source": [
    "  #  📋 Lab Information\n",
    "#Lab No.: 4\n",
    "#Lab Title: Classes 1, objects, and instances\n",
    "#Lab Date: January 5, 2025"
   ]
  },
  {
   "cell_type": "code",
   "execution_count": null,
   "id": "4b786501-b045-40ef-899b-15efa4fbbba7",
   "metadata": {},
   "outputs": [],
   "source": []
  },
  {
   "cell_type": "markdown",
   "id": "9915aee5-366b-424b-91f3-aa5f98a41858",
   "metadata": {},
   "source": [
    "# TYPES OF QUEUE:"
   ]
  },
  {
   "cell_type": "markdown",
   "id": "e75e1429-c2ce-439f-9ece-3a68c176b69c",
   "metadata": {},
   "source": [
    "# 1DEQUE QUEUE:¶"
   ]
  },
  {
   "cell_type": "code",
   "execution_count": 2,
   "id": "8b4f94a1-5be8-470a-9440-bb159b0406f0",
   "metadata": {},
   "outputs": [],
   "source": [
    "class Queue:\n",
    "    def __init__(self):\n",
    "        \"\"\"\n",
    "        Initializes an empty queue.\n",
    "        \"\"\"\n",
    "        self.items = [] \n",
    "\n",
    "    def is_empty(self):\n",
    "        \"\"\"\n",
    "        Checks if the queue is empty.\n",
    "\n",
    "        Returns:\n",
    "            bool: True if the queue is empty, False otherwise.\n",
    "        \"\"\"\n",
    "        return self.items == []"
   ]
  },
  {
   "cell_type": "code",
   "execution_count": 4,
   "id": "4a165c8f-6228-4b20-b847-87efb24bf523",
   "metadata": {},
   "outputs": [],
   "source": [
    "def enqueue(self, item):\n",
    "        \"\"\"\n",
    "        Adds an item to the rear of the queue.\n",
    "\n",
    "        Args:\n",
    "            item: The item to be added to the queue.\n",
    "        \"\"\"\n",
    "        self.items.append(item)"
   ]
  },
  {
   "cell_type": "code",
   "execution_count": 6,
   "id": "41a1d230-ef2a-4905-9da3-df51c4d4f792",
   "metadata": {},
   "outputs": [],
   "source": [
    "def dequeue(self):\n",
    "        \"\"\"\n",
    "        Removes and returns the item from the front of the queue.\n",
    "\n",
    "        Returns:\n",
    "            The item removed from the front of the queue.\n",
    "\n",
    "        Raises:\n",
    "            IndexError: If the queue is empty.\n",
    "        \"\"\"\n",
    "        if self.is_empty():\n",
    "            raise IndexError(\"Queue is empty\")\n",
    "        return self.items.pop(0)"
   ]
  },
  {
   "cell_type": "code",
   "execution_count": 12,
   "id": "ef2059a2-c090-4279-9043-baf666921852",
   "metadata": {},
   "outputs": [],
   "source": [
    "from queue import Queue\n",
    "\n",
    "q = Queue()\n",
    "q.put(1)\n",
    "q.put(2)\n",
    "q.put(3)\n"
   ]
  },
  {
   "cell_type": "markdown",
   "id": "b6055495-3c8c-4f31-88f6-58551df2757a",
   "metadata": {},
   "source": [
    "# 2. DEQUE QUEUE:"
   ]
  },
  {
   "cell_type": "code",
   "execution_count": 16,
   "id": "1ebd5215-6213-45a6-8ef7-1fd2a15c93ae",
   "metadata": {},
   "outputs": [
    {
     "name": "stdout",
     "output_type": "stream",
     "text": [
      "Queue: [1, 2, 3]\n",
      "Dequeued: 1\n",
      "Dequeued: 2\n",
      "Queue is not empty.\n"
     ]
    }
   ],
   "source": [
    "class DequeQueue:\n",
    "    def __init__(self):\n",
    "        \"\"\"\n",
    "        Initializes a new instance of the DequeQueue class.\n",
    "        Creates an empty deque to store the elements of the queue.\n",
    "        \"\"\"\n",
    "        self.items = []\n",
    "\n",
    "    def is_empty(self):\n",
    "        \"\"\"\n",
    "        Returns True if the queue is empty, False otherwise.\n",
    "        \"\"\"\n",
    "        return len(self.items) == 0\n",
    "\n",
    "    def enqueue(self, item):\n",
    "        \"\"\"\n",
    "        Adds an item to the rear of the queue.\n",
    "        \"\"\"\n",
    "        self.items.append(item)\n",
    "\n",
    "    def dequeue(self):\n",
    "        \"\"\"\n",
    "        Removes and returns the item from the front of the queue.\n",
    "        Raises an IndexError if the queue is empty.\n",
    "        \"\"\"\n",
    "        if self.is_empty():\n",
    "            raise IndexError(\"Deque is empty\")\n",
    "        return self.items.pop(0)\n",
    "\n",
    "# Create a DequeQueue object\n",
    "my_queue = DequeQueue()\n",
    "\n",
    "# Enqueue three elements\n",
    "my_queue.enqueue(1)\n",
    "my_queue.enqueue(2)\n",
    "my_queue.enqueue(3)\n",
    "\n",
    "# Print the queue (for demonstration purposes)\n",
    "print(\"Queue:\", my_queue.items)\n",
    "\n",
    "# Dequeue two elements\n",
    "item1 = my_queue.dequeue()\n",
    "print(\"Dequeued:\", item1)\n",
    "item2 = my_queue.dequeue()\n",
    "print(\"Dequeued:\", item2)\n",
    "\n",
    "# Check if the queue is empty\n",
    "if my_queue.is_empty():\n",
    "    print(\"Queue is empty.\")\n",
    "else:\n",
    "    print(\"Queue is not empty.\")"
   ]
  },
  {
   "cell_type": "markdown",
   "id": "ddc8bbb4-4ce1-4082-a935-39f7a49074de",
   "metadata": {},
   "source": [
    "# 3. NODE BASE QUEUE:"
   ]
  },
  {
   "cell_type": "code",
   "execution_count": 19,
   "id": "d49bf82b-2032-4dd1-a5c0-a6999f5d3ef1",
   "metadata": {},
   "outputs": [
    {
     "name": "stdout",
     "output_type": "stream",
     "text": [
      "Queue after enqueueing:\n",
      "Front: 10\n",
      "Rear: 30\n",
      "Dequeued: 10\n",
      "Dequeued: 20\n",
      "Queue is not empty.\n"
     ]
    }
   ],
   "source": [
    "class Node:\n",
    "    \"\"\"\n",
    "    Represents a node in the queue.\n",
    "    \"\"\"\n",
    "    def __init__(self, data):\n",
    "        self.data = data\n",
    "        self.next = None\n",
    "\n",
    "class NodeQueue:\n",
    "    \"\"\"\n",
    "    Represents a queue using nodes.\n",
    "    \"\"\"\n",
    "    def __init__(self):\n",
    "        \"\"\"\n",
    "        Initializes an empty queue.\n",
    "        \"\"\"\n",
    "        self.front = None\n",
    "        self.rear = None\n",
    "\n",
    "    def is_empty(self):\n",
    "        \"\"\"\n",
    "        Checks if the queue is empty.\n",
    "        \"\"\"\n",
    "        return self.front is None\n",
    "\n",
    "    def enqueue(self, data):\n",
    "        \"\"\"\n",
    "        Adds a new node to the rear of the queue.\n",
    "        \"\"\"\n",
    "        new_node = Node(data)\n",
    "        if self.is_empty():\n",
    "            self.front = new_node\n",
    "            self.rear = new_node\n",
    "        else:\n",
    "            self.rear.next = new_node\n",
    "            self.rear = new_node\n",
    "\n",
    "    def dequeue(self):\n",
    "        \"\"\"\n",
    "        Removes and returns the data from the front of the queue.\n",
    "        \"\"\"\n",
    "        if self.is_empty():\n",
    "            raise IndexError(\"Queue is empty\")\n",
    "        \n",
    "        data = self.front.data\n",
    "        self.front = self.front.next\n",
    "        if self.front is None:\n",
    "            self.rear = None\n",
    "        return data\n",
    "\n",
    "# Example usage\n",
    "if __name__ == \"__main__\":\n",
    "    queue = NodeQueue()\n",
    "\n",
    "    # Enqueue three elements\n",
    "    queue.enqueue(10)\n",
    "    queue.enqueue(20)\n",
    "    queue.enqueue(30)\n",
    "\n",
    "    # Print the queue (not possible to directly print the entire queue structure)\n",
    "    print(\"Queue after enqueueing:\")\n",
    "    print(f\"Front: {queue.front.data}\")  # Print the data of the front node\n",
    "    print(f\"Rear: {queue.rear.data}\")  # Print the data of the rear node\n",
    "\n",
    "    # Dequeue two elements\n",
    "    print(f\"Dequeued: {queue.dequeue()}\")\n",
    "    print(f\"Dequeued: {queue.dequeue()}\")\n",
    "\n",
    "    # Check if the queue is empty\n",
    "    if queue.is_empty():\n",
    "        print(\"Queue is empty.\")\n",
    "    else:\n",
    "        print(\"Queue is not empty.\")"
   ]
  },
  {
   "cell_type": "code",
   "execution_count": null,
   "id": "3720fbdc-1d30-4968-9898-08f1c7e78d5b",
   "metadata": {},
   "outputs": [],
   "source": []
  }
 ],
 "metadata": {
  "kernelspec": {
   "display_name": "Python 3 (ipykernel)",
   "language": "python",
   "name": "python3"
  },
  "language_info": {
   "codemirror_mode": {
    "name": "ipython",
    "version": 3
   },
   "file_extension": ".py",
   "mimetype": "text/x-python",
   "name": "python",
   "nbconvert_exporter": "python",
   "pygments_lexer": "ipython3",
   "version": "3.12.4"
  }
 },
 "nbformat": 4,
 "nbformat_minor": 5
}
