{
 "cells": [
  {
   "cell_type": "markdown",
   "id": "2af23e29-158c-412b-b7ba-c099a5d5e6f4",
   "metadata": {},
   "source": [
    "# SEBGHAT ULLAH\n",
    "# 0523\n",
    "# lab07"
   ]
  },
  {
   "cell_type": "markdown",
   "id": "67b65ad1-db6f-47a3-8eff-5607fc30d772",
   "metadata": {},
   "source": [
    "# Lab report task:"
   ]
  },
  {
   "cell_type": "markdown",
   "id": "dfeb475e-c11b-4569-90cf-1d18e7e004c6",
   "metadata": {},
   "source": [
    "# Problem 1:"
   ]
  },
  {
   "cell_type": "code",
   "execution_count": 6,
   "id": "a5879d9a-24c8-4971-bc56-1ba9c22cb4f3",
   "metadata": {},
   "outputs": [
    {
     "name": "stdout",
     "output_type": "stream",
     "text": [
      "Area: 55\n"
     ]
    }
   ],
   "source": [
    "class Rectangle:\n",
    "    def __init__(self, width, height):\n",
    "        self.width = width\n",
    "        self.height = height\n",
    "    \n",
    "    def area(self):\n",
    "        return self.width * self.height\n",
    "\n",
    "# Example usage:\n",
    "rect = Rectangle(5, 11)\n",
    "print(\"Area:\", rect.area())\n"
   ]
  },
  {
   "cell_type": "markdown",
   "id": "0e628f07-643b-4a79-b0ca-b491428ce268",
   "metadata": {},
   "source": [
    "# Lab Work Task:"
   ]
  },
  {
   "cell_type": "markdown",
   "id": "710122e5-d3e2-41ed-8d31-c963e7b1080f",
   "metadata": {},
   "source": [
    "# Problem 1:"
   ]
  },
  {
   "cell_type": "code",
   "execution_count": 23,
   "id": "7a5897c9-e435-441f-9208-c5d1067483c4",
   "metadata": {},
   "outputs": [
    {
     "name": "stdout",
     "output_type": "stream",
     "text": [
      "Area: 50\n"
     ]
    }
   ],
   "source": [
    "class Rectangle:\n",
    "    def __init__(self, width, height):\n",
    "        self.width = width\n",
    "        self.height = height\n",
    "    \n",
    "    def area(self):\n",
    "        return self.width * self.height\n",
    "\n",
    "# Example usage:\n",
    "rect = Rectangle(5, 10)\n",
    "print(\"Area:\", rect.area())\n"
   ]
  },
  {
   "cell_type": "markdown",
   "id": "b6269dea-91f3-44ab-a141-d91b24b3173a",
   "metadata": {},
   "source": [
    "# Problem 2:"
   ]
  },
  {
   "cell_type": "code",
   "execution_count": 30,
   "id": "5a5d3bc1-b9dd-4424-bade-d603478e3f5e",
   "metadata": {},
   "outputs": [
    {
     "name": "stdout",
     "output_type": "stream",
     "text": [
      "Volume: 150\n"
     ]
    }
   ],
   "source": [
    "class Rectangle:\n",
    "    def __init__(self, width, height):\n",
    "        self.width = width\n",
    "        self.height = height\n",
    "    \n",
    "    def area(self):\n",
    "        return self.width * self.height\n",
    "\n",
    "class Cuboid(Rectangle):\n",
    "    def __init__(self, width, height, depth):\n",
    "        super().__init__(width, height)  # Call the parent class's constructor\n",
    "        self.depth = depth\n",
    "    \n",
    "    def volume(self):\n",
    "        return super().area() * self.depth  # Call the parent class's area method and multiply by depth\n",
    "\n",
    "# Example usage:\n",
    "cuboid = Cuboid(5, 10, 3)\n",
    "print(\"Volume:\", cuboid.volume())\n"
   ]
  },
  {
   "cell_type": "markdown",
   "id": "0c96f00d-c3b0-4880-93c7-fe035b983cc5",
   "metadata": {},
   "source": [
    "# Problem 3:"
   ]
  },
  {
   "cell_type": "code",
   "execution_count": 33,
   "id": "840386f3-765d-4ea6-ad78-cab18ba8ac8c",
   "metadata": {},
   "outputs": [
    {
     "name": "stdout",
     "output_type": "stream",
     "text": [
      "Sphere 1:\n",
      "Volume: 523.5987755982989\n",
      "Surface Area: 314.1592653589793\n",
      "\n",
      "Sphere 2:\n",
      "Volume: 113.09733552923254\n",
      "Surface Area: 113.09733552923255\n"
     ]
    }
   ],
   "source": [
    "import math\n",
    "\n",
    "class Circle:\n",
    "    def __init__(self, radius):\n",
    "        self.radius = radius\n",
    "\n",
    "    def area(self):\n",
    "        return math.pi * self.radius ** 2\n",
    "\n",
    "    def circumference(self):\n",
    "        return 2 * math.pi * self.radius\n",
    "\n",
    "class Sphere(Circle):\n",
    "    def __init__(self, radius):\n",
    "        super().__init__(radius)\n",
    "\n",
    "    def volume(self):\n",
    "        return (4/3) * math.pi * self.radius ** 3\n",
    "\n",
    "    def surface_area(self):\n",
    "        return 4 * math.pi * self.radius ** 2\n",
    "\n",
    "# Create two instances of the Sphere class\n",
    "sphere1 = Sphere(5)\n",
    "sphere2 = Sphere(3)\n",
    "\n",
    "# Call instance methods for sphere1\n",
    "print(\"Sphere 1:\")\n",
    "print(\"Volume:\", sphere1.volume())\n",
    "print(\"Surface Area:\", sphere1.surface_area())\n",
    "\n",
    "# Call instance methods for sphere2\n",
    "print(\"\\nSphere 2:\")\n",
    "print(\"Volume:\", sphere2.volume())\n",
    "print(\"Surface Area:\", sphere2.surface_area())"
   ]
  },
  {
   "cell_type": "markdown",
   "id": "ced41dde-6a94-4461-a56b-b4faf5fd8b66",
   "metadata": {},
   "source": [
    "# Problem 4:"
   ]
  },
  {
   "cell_type": "code",
   "execution_count": 36,
   "id": "5aba4665-b746-4952-94d7-8745334dc980",
   "metadata": {},
   "outputs": [
    {
     "name": "stdout",
     "output_type": "stream",
     "text": [
      "Point 1:\n",
      "Distance from origin: 3.7416573867739413\n",
      "\n",
      "Point 2:\n",
      "Distance from origin: 8.774964387392123\n"
     ]
    }
   ],
   "source": [
    "import math\n",
    "\n",
    "class Point2D:\n",
    "    def __init__(self, x, y):\n",
    "        self.x = x\n",
    "        self.y = y\n",
    "\n",
    "    def distance_from_origin(self):\n",
    "        return math.sqrt(self.x**2 + self.y**2)\n",
    "\n",
    "class Point3D(Point2D):\n",
    "    def __init__(self, x, y, z):\n",
    "        super().__init__(x, y)\n",
    "        self.z = z\n",
    "\n",
    "    def distance_from_origin(self):\n",
    "        return math.sqrt(self.x**2 + self.y**2 + self.z**2)\n",
    "\n",
    "# Create two instances of the Point3D class\n",
    "point1 = Point3D(1, 2, 3)\n",
    "point2 = Point3D(4, 5, 6)\n",
    "\n",
    "# Call instance methods for point1\n",
    "print(\"Point 1:\")\n",
    "print(\"Distance from origin:\", point1.distance_from_origin())\n",
    "\n",
    "# Call instance methods for point2\n",
    "print(\"\\nPoint 2:\")\n",
    "print(\"Distance from origin:\", point2.distance_from_origin())"
   ]
  },
  {
   "cell_type": "markdown",
   "id": "82e56a94-08e3-4ac8-8f98-8e0a26529300",
   "metadata": {},
   "source": [
    "# Problem 5:"
   ]
  },
  {
   "cell_type": "code",
   "execution_count": 39,
   "id": "28d8759d-e689-4e32-90cb-6860855ab12b",
   "metadata": {},
   "outputs": [],
   "source": [
    "class Employee:\n",
    "    \"\"\"Base class for all employees.\"\"\"\n",
    "\n",
    "    def __init__(self, name, id):\n",
    "        self.name = name\n",
    "        self.id = id\n",
    "\n",
    "    def calculate_payroll(self):\n",
    "        \"\"\"Abstract method to be implemented by subclasses.\"\"\"\n",
    "        raise NotImplementedError(\"Subclasses must implement calculate_payroll()\")\n",
    "\n",
    "    def __str__(self):\n",
    "        return f\"Employee: {self.name}, ID: {self.id}\""
   ]
  },
  {
   "cell_type": "code",
   "execution_count": null,
   "id": "3f1a1526-c275-40a4-9258-f0879455f583",
   "metadata": {},
   "outputs": [],
   "source": []
  },
  {
   "cell_type": "code",
   "execution_count": null,
   "id": "9ac63e18-d6bc-40b7-8613-ad5fede92ae6",
   "metadata": {},
   "outputs": [],
   "source": []
  },
  {
   "cell_type": "code",
   "execution_count": null,
   "id": "ef8c08e2-54ed-4885-89b0-684c41332ec3",
   "metadata": {},
   "outputs": [],
   "source": []
  },
  {
   "cell_type": "code",
   "execution_count": 41,
   "id": "d99cf0b3-069b-4f02-8f48-050be37ce1eb",
   "metadata": {},
   "outputs": [],
   "source": [
    "class Employee:\n",
    "    def __init__(self, id, name):\n",
    "        self.id = id\n",
    "        self.name = name\n",
    "\n",
    "    def calculate_payroll(self):\n",
    "        raise NotImplementedError(\"calculate_payroll() not implemented for base class\")\n",
    "\n",
    "class SalaryEmployee(Employee):\n",
    "    def __init__(self, id, name, weekly_salary):\n",
    "        super().__init__(id, name)\n",
    "        self.weekly_salary = weekly_salary\n",
    "\n",
    "    def calculate_payroll(self):\n",
    "        return self.weekly_salary"
   ]
  },
  {
   "cell_type": "code",
   "execution_count": null,
   "id": "75db44f2-c4f3-4e44-9ac0-e4b40c5d0a2f",
   "metadata": {},
   "outputs": [],
   "source": []
  },
  {
   "cell_type": "code",
   "execution_count": 43,
   "id": "163a37c7-ac29-49af-b3ef-cb53e08f94ab",
   "metadata": {},
   "outputs": [],
   "source": [
    "class Employee:\n",
    "    def __init__(self, id, name):\n",
    "        self.id = id\n",
    "        self.name = name\n",
    "\n",
    "    def calculate_payroll(self):\n",
    "        raise NotImplementedError(\"calculate_payroll() not implemented for base class\")\n",
    "\n",
    "class SalaryEmployee(Employee):\n",
    "    def __init__(self, id, name, weekly_salary):\n",
    "        super().__init__(id, name)\n",
    "        self.weekly_salary = weekly_salary\n",
    "\n",
    "    def calculate_payroll(self):\n",
    "        return self.weekly_salary\n",
    "\n",
    "class HourlyEmployee(Employee):\n",
    "    def __init__(self, id, name, hours_worked, hourly_rate):\n",
    "        super().__init__(id, name)\n",
    "        self.hours_worked = hours_worked\n",
    "        self.hourly_rate = hourly_rate\n",
    "\n",
    "    def calculate_payroll(self):\n",
    "        return self.hours_worked * self.hourly_rate"
   ]
  },
  {
   "cell_type": "code",
   "execution_count": 45,
   "id": "94589353-2363-4b13-b0ea-2ae3865a4f55",
   "metadata": {},
   "outputs": [],
   "source": [
    "from abc import ABC, abstractmethod\n",
    "\n",
    "class Employee(ABC):\n",
    "    def __init__(self, first_name, last_name):\n",
    "        self.first_name = first_name\n",
    "        self.last_name = last_name\n",
    "\n",
    "    @abstractmethod\n",
    "    def calculate_payroll(self):\n",
    "        pass\n",
    "\n",
    "class SalaryEmployee(Employee):\n",
    "    def __init__(self, first_name, last_name, weekly_salary):\n",
    "        super().__init__(first_name, last_name)\n",
    "        self.weekly_salary = weekly_salary\n",
    "\n",
    "    def calculate_payroll(self):\n",
    "        return self.weekly_salary\n",
    "\n",
    "class CommissionEmployee(SalaryEmployee):\n",
    "    def __init__(self, first_name, last_name, weekly_salary, commission):\n",
    "        super().__init__(first_name, last_name, weekly_salary)\n",
    "        self.commission = commission\n",
    "\n",
    "    def calculate_payroll(self):\n",
    "        fixed_salary = super().calculate_payroll() \n",
    "        return fixed_salary + self.commission"
   ]
  },
  {
   "cell_type": "code",
   "execution_count": 55,
   "id": "aad5bb3b-dbc5-4709-bcdb-fb147a97530a",
   "metadata": {},
   "outputs": [
    {
     "name": "stdout",
     "output_type": "stream",
     "text": [
      "5000\n"
     ]
    }
   ],
   "source": [
    "class Employee:\n",
    "    def __init__(self, name, salary):\n",
    "        self.name = name\n",
    "        self.salary = salary\n",
    "\n",
    "    def calculate_payroll(self):\n",
    "        return self.salary\n",
    "\n",
    "# Example usage\n",
    "employee = Employee(\"John Doe\", 5000)\n",
    "print(employee.calculate_payroll())\n"
   ]
  },
  {
   "cell_type": "code",
   "execution_count": 49,
   "id": "39aa0220-7d50-4e9c-8cdd-76b44f1b48d8",
   "metadata": {},
   "outputs": [],
   "source": [
    "from abc import ABC, abstractmethod\n",
    "\n",
    "class Employee(ABC):\n",
    "    def __init__(self, id, name):\n",
    "        self.id = id\n",
    "        self.name = name\n",
    "\n"
   ]
  },
  {
   "cell_type": "markdown",
   "id": "24748b6d-4c3d-4853-8259-6fd39d58083d",
   "metadata": {},
   "source": [
    "# Problem 6:"
   ]
  },
  {
   "cell_type": "code",
   "execution_count": 60,
   "id": "e15df8f7-ec0e-4451-98a0-4f64884639c7",
   "metadata": {},
   "outputs": [],
   "source": [
    "class Staff:\n",
    "    \"\"\"Base class for all staff members.\"\"\"\n",
    "\n",
    "    def __init__(self, name, employee_id, department):\n",
    "        self.name = name\n",
    "        self.employee_id = employee_id\n",
    "        self.department = department\n",
    "\n",
    "    def get_name(self):\n",
    "        return self.name\n",
    "\n",
    "    def get_employee_id(self):\n",
    "        return self.employee_id\n",
    "\n",
    "    def get_department(self):\n",
    "        return self.department\n",
    "\n",
    "    def __str__(self):\n",
    "        return f\"Name: {self.name}, Employee ID: {self.employee_id}, Department: {self.department}\"\n",
    "\n",
    "\n",
    "class Faculty(Staff):\n",
    "    \"\"\"Class for faculty members.\"\"\"\n",
    "\n",
    "    def __init__(self, name, employee_id, department, designation):\n",
    "        super().__init__(name, employee_id, department)\n",
    "        self.designation = designation\n",
    "\n",
    "    def get_designation(self):\n",
    "        return self.designation\n",
    "\n",
    "    def __str__(self):\n",
    "        return f\"{super().__str__()}, Designation: {self.designation}\"\n",
    "\n",
    "\n",
    "class Lecturer(Faculty):\n",
    "    \"\"\"Class for Lecturer.\"\"\"\n",
    "\n",
    "    def __init__(self, name, employee_id, department):\n",
    "        super().__init__(name, employee_id, department, \"Lecturer\")\n",
    "\n",
    "\n",
    "class AssistantProfessor(Faculty):\n",
    "    \"\"\"Class for Assistant Professor.\"\"\"\n",
    "\n",
    "    def __init__(self, name, employee_id, department):\n",
    "        super().__init__(name, employee_id, department, \"Assistant Professor\")\n",
    "\n",
    "\n",
    "class AssociateProfessor(Faculty):\n",
    "    \"\"\"Class for Associate Professor.\"\"\"\n",
    "\n",
    "    def __init__(self, name, employee_id, department):\n",
    "        super().__init__(name, employee_id, department, \"Associate Professor\")\n",
    "\n",
    "\n",
    "class Professor(Faculty):\n",
    "    \"\"\"Class for Professor.\"\"\"\n",
    "\n",
    "    def __init__(self, name, employee_id, department):\n",
    "        super().__init__(name, employee_id, department, \"Professor\")\n",
    "\n",
    "\n",
    "class Admin(Staff):\n",
    "    \"\"\"Class for administrative staff.\"\"\"\n",
    "\n",
    "    def __init__(self, name, employee_id, department, role):\n",
    "        super().__init__(name, employee_id, department)\n",
    "        self.role = role\n",
    "\n",
    "    def get_role(self):\n",
    "        return self.role\n",
    "\n",
    "    def __str__(self):\n",
    "        return f\"{super().__str__()}, Role: {self.role}\"\n",
    "\n",
    "\n",
    "class LabEngineer(Admin):\n",
    "    \"\"\"Class for Lab Engineer.\"\"\"\n",
    "\n",
    "    def __init__(self, name, employee_id, department):\n",
    "        super().__init__(name, employee_id, department, \"Lab Engineer\")\n",
    "\n",
    "\n",
    "class LabTechnician(Admin):\n",
    "    \"\"\"Class for Lab Technician.\"\"\"\n",
    "\n",
    "    def __init__(self, name, employee_id, department):\n",
    "        super().__init__(name, employee_id, department, \"Lab Technician\")\n",
    "\n",
    "\n",
    "class LabAssistant(Admin):\n",
    "    \"\"\"Class for Lab Assistant.\"\"\"\n",
    "\n",
    "    def __init__(self, name, employee_id, department):\n",
    "        super().__init__(name, employee_id, department, \"Lab Assistant\")\n",
    "\n",
    "\n",
    "class LabAttendant(Admin):\n",
    "    \"\"\"Class for Lab Attendant.\"\"\"\n",
    "\n",
    "    def __init__(self, name, employee_id, department):\n",
    "        super().__init__(name, employee_id, department, \"Lab Attendant\")"
   ]
  },
  {
   "cell_type": "code",
   "execution_count": null,
   "id": "9d99219c-8c04-457b-a47b-157620ad487d",
   "metadata": {},
   "outputs": [],
   "source": []
  }
 ],
 "metadata": {
  "kernelspec": {
   "display_name": "Python 3 (ipykernel)",
   "language": "python",
   "name": "python3"
  },
  "language_info": {
   "codemirror_mode": {
    "name": "ipython",
    "version": 3
   },
   "file_extension": ".py",
   "mimetype": "text/x-python",
   "name": "python",
   "nbconvert_exporter": "python",
   "pygments_lexer": "ipython3",
   "version": "3.12.4"
  }
 },
 "nbformat": 4,
 "nbformat_minor": 5
}
