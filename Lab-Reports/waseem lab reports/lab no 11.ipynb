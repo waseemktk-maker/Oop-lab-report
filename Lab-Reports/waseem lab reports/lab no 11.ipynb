{
 "cells": [
  {
   "cell_type": "markdown",
   "id": "ee4fe719-a401-4202-ba35-39dfda1e9dbc",
   "metadata": {},
   "source": [
    "# LAB REPORT TASK"
   ]
  },
  {
   "cell_type": "code",
   "execution_count": 2,
   "id": "f4248c1e-dc2a-4654-a185-b902449f831d",
   "metadata": {},
   "outputs": [
    {
     "name": "stdout",
     "output_type": "stream",
     "text": [
      "Popped: True\n",
      "Popped: Hello\n",
      "Popped: 3.14\n",
      "Top item: 10\n"
     ]
    }
   ],
   "source": [
    "class Node:\n",
    "    def __init__(self, data):\n",
    "        self.data = data\n",
    "        self.next = None\n",
    "\n",
    "class Stack:\n",
    "    def __init__(self):\n",
    "        self.top = None\n",
    "\n",
    "    def is_empty(self):\n",
    "        return self.top is None\n",
    "\n",
    "    def push(self, data):\n",
    "        new_node = Node(data)\n",
    "        new_node.next = self.top\n",
    "        self.top = new_node\n",
    "\n",
    "    def pop(self):\n",
    "        if self.is_empty():\n",
    "            return None \n",
    "        temp = self.top\n",
    "        self.top = self.top.next\n",
    "        temp.next = None\n",
    "        return temp.data\n",
    "\n",
    "    def peek(self):\n",
    "        if self.is_empty():\n",
    "            return None\n",
    "        return self.top.data\n",
    "\n",
    "# Create a stack object\n",
    "stack = Stack()\n",
    "\n",
    "# Push various data types onto the stack\n",
    "stack.push(10)  # Integer\n",
    "stack.push(3.14)  # Float\n",
    "stack.push(\"Hello\")  # String\n",
    "stack.push(True)  # Boolean\n",
    "\n",
    "# Pop and display the popped items\n",
    "print(\"Popped:\", stack.pop())  # Output: True\n",
    "print(\"Popped:\", stack.pop())  # Output: Hello\n",
    "print(\"Popped:\", stack.pop())  # Output: 3.14\n",
    "\n",
    "# Display the top item\n",
    "print(\"Top item:\", stack.peek())  # Output: 10"
   ]
  },
  {
   "cell_type": "markdown",
   "id": "8b69e678-e8a0-4ad5-9dc8-86f1e631e5ec",
   "metadata": {},
   "source": [
    "# 1. List Stack:"
   ]
  },
  {
   "cell_type": "code",
   "execution_count": 33,
   "id": "486b945c-2588-4bd5-a373-1477f7085853",
   "metadata": {},
   "outputs": [
    {
     "name": "stdout",
     "output_type": "stream",
     "text": [
      "Popped: True\n",
      "Popped: Hello\n",
      "Popped: 3.14\n",
      "Top item: 10\n"
     ]
    }
   ],
   "source": [
    "class Node:\n",
    "    def __init__(self, data):\n",
    "        self.data = data\n",
    "        self.next = None\n",
    "\n",
    "class Stack:\n",
    "    def __init__(self):\n",
    "        self.top = None\n",
    "\n",
    "    def is_empty(self):\n",
    "        return self.top is None\n",
    "\n",
    "    def push(self, data):\n",
    "        new_node = Node(data)\n",
    "        new_node.next = self.top\n",
    "        self.top = new_node\n",
    "\n",
    "    def pop(self):\n",
    "        if self.is_empty():\n",
    "            return None \n",
    "        temp = self.top\n",
    "        self.top = self.top.next\n",
    "        temp.next = None\n",
    "        return temp.data\n",
    "\n",
    "    def peek(self):\n",
    "        if self.is_empty():\n",
    "            return None\n",
    "        return self.top.data\n",
    "\n",
    "# Create a stack object\n",
    "stack = Stack()\n",
    "\n",
    "# Push various data types onto the stack\n",
    "stack.push(10)  # Integer\n",
    "stack.push(3.14)  # Float\n",
    "stack.push(\"Hello\")  # String\n",
    "stack.push(True)  # Boolean\n",
    "\n",
    "# Pop and display the popped items\n",
    "print(\"Popped:\", stack.pop())  # Output: True\n",
    "print(\"Popped:\", stack.pop())  # Output: Hello\n",
    "print(\"Popped:\", stack.pop())  # Output: 3.14\n",
    "\n",
    "# Display the top item\n",
    "print(\"Top item:\", stack.peek())  # Output: 10"
   ]
  },
  {
   "cell_type": "markdown",
   "id": "273d3abd-b714-4da7-a49c-5c874adbec6b",
   "metadata": {},
   "source": [
    "# Creating object of this class:"
   ]
  },
  {
   "cell_type": "code",
   "execution_count": 36,
   "id": "00e671eb-c1de-41ca-9dc7-4952b76e8785",
   "metadata": {},
   "outputs": [],
   "source": [
    "class Stack:\n",
    "    def __init__(self):\n",
    "        \"\"\"\n",
    "        Initializes an empty list to store stack elements.\n",
    "        \"\"\"\n",
    "        self.items = []\n",
    "\n",
    "    def is_empty(self):\n",
    "        \"\"\"\n",
    "        Checks if the stack is empty.\n",
    "        \"\"\"\n",
    "        return self.items == []\n",
    "\n",
    "    def push(self, item):\n",
    "        \"\"\"\n",
    "        Adds an item to the top of the stack.\n",
    "        \"\"\"\n",
    "        self.items.append(item)\n",
    "\n",
    "    def pop(self):\n",
    "        \"\"\"\n",
    "        Removes and returns the item from the top of the stack.\n",
    "        \"\"\"\n",
    "        if not self.is_empty():\n",
    "            return self.items.pop()\n",
    "        else:\n",
    "            raise IndexError(\"pop from empty stack\")\n",
    "\n",
    "    def peek(self):\n",
    "        \"\"\"\n",
    "        Returns the item from the top of the stack without removing it.\n",
    "        \"\"\"\n",
    "        if not self.is_empty():\n",
    "            return self.items[-1]\n",
    "        else:\n",
    "            raise IndexError(\"peek at empty stack\")\n",
    "\n",
    "    def size(self):\n",
    "        \"\"\"\n",
    "        Returns the number of elements in the stack.\n",
    "        \"\"\"\n",
    "        return len(self.items)"
   ]
  },
  {
   "cell_type": "markdown",
   "id": "4ac31597-e389-4422-bc62-9c4915610bd0",
   "metadata": {},
   "source": [
    "# 1. Deque Implementation:"
   ]
  },
  {
   "cell_type": "code",
   "execution_count": 39,
   "id": "a0073172-baae-46b7-9d78-b880f5cf40ca",
   "metadata": {},
   "outputs": [
    {
     "name": "stdout",
     "output_type": "stream",
     "text": [
      "1\n",
      "2\n",
      "3\n"
     ]
    }
   ],
   "source": [
    "from collections import deque\n",
    "\n",
    "# Create a queue\n",
    "queue = deque()\n",
    "\n",
    "# Enqueue elements\n",
    "queue.append(1)\n",
    "queue.append(2)\n",
    "queue.append(3)\n",
    "\n",
    "# Dequeue elements\n",
    "while queue:\n",
    "    print(queue.popleft())  # Output: 1 2 3"
   ]
  },
  {
   "cell_type": "code",
   "execution_count": 43,
   "id": "b6618b94-8254-4df4-abdc-2d4309cfd0d0",
   "metadata": {},
   "outputs": [],
   "source": [
    "from collections import deque\n",
    "\n",
    "class Deque:\n",
    "    def __init__(self):\n",
    "        self.items = deque()\n",
    "\n",
    "    def is_empty(self):\n",
    "        return len(self.items) == 0\n",
    "\n",
    "    def add_front(self, item):\n",
    "        self.items.appendleft(item)\n",
    "\n",
    "    def add_rear(self, item):\n",
    "        self.items.append(item)\n",
    "\n",
    "    def remove_front(self):\n",
    "        if self.is_empty():\n",
    "            raise IndexError(\"Deque is empty\")\n",
    "        return self.items.popleft()\n",
    "\n",
    "    def remove_rear(self):\n",
    "        if self.is_empty():\n",
    "            raise IndexError(\"Deque is empty\")\n",
    "        return self.items.pop()\n",
    "\n",
    "    def size(self):\n",
    "        return len(self.items)\n",
    "\n",
    "    def __str__(self):\n",
    "        return str(self.items)"
   ]
  },
  {
   "cell_type": "code",
   "execution_count": 45,
   "id": "052ddb56-f8e1-48b6-ba61-82db8f481955",
   "metadata": {},
   "outputs": [
    {
     "name": "stdout",
     "output_type": "stream",
     "text": [
      "[1, 2, 3]\n"
     ]
    }
   ],
   "source": [
    "class Stack:\n",
    "    def __init__(self):\n",
    "        self.items = []\n",
    "\n",
    "    def is_empty(self):\n",
    "        return self.items == []\n",
    "\n",
    "    def push(self, item):\n",
    "        \"\"\"\n",
    "        Adds an element to the top of the stack.\n",
    "\n",
    "        Args:\n",
    "            item: The element to be added to the stack.\n",
    "        \"\"\"\n",
    "        self.items.append(item)\n",
    "\n",
    "    def pop(self):\n",
    "        if self.is_empty():\n",
    "            raise IndexError(\"Stack is empty\")\n",
    "        return self.items.pop()\n",
    "\n",
    "    def peek(self):\n",
    "        if self.is_empty():\n",
    "            raise IndexError(\"Stack is empty\")\n",
    "        return self.items[-1]\n",
    "\n",
    "    def size(self):\n",
    "        return len(self.items)\n",
    "\n",
    "# Example usage:\n",
    "my_stack = Stack()\n",
    "my_stack.push(1)\n",
    "my_stack.push(2)\n",
    "my_stack.push(3)\n",
    "print(my_stack.items)  # Output: [1, 2, 3]"
   ]
  },
  {
   "cell_type": "code",
   "execution_count": 47,
   "id": "3668f1ed-09d1-4806-928b-d86fe4bb3c53",
   "metadata": {},
   "outputs": [
    {
     "name": "stdout",
     "output_type": "stream",
     "text": [
      "2\n",
      "2\n"
     ]
    }
   ],
   "source": [
    "from collections import deque\n",
    "\n",
    "# Using Deque\n",
    "stack_deque = deque()\n",
    "stack_deque.appendleft(1)\n",
    "stack_deque.appendleft(2)\n",
    "print(stack_deque.popleft())  # Output: 2\n",
    "\n",
    "# Using List\n",
    "stack_list = []\n",
    "stack_list.insert(0, 1)\n",
    "stack_list.insert(0, 2)\n",
    "print(stack_list.pop(0))  # Output: 2"
   ]
  },
  {
   "cell_type": "markdown",
   "id": "c15cbc93-a9c4-45da-a0d0-d17345e54c00",
   "metadata": {},
   "source": [
    "# 2. NODE BASE IMPLEMENTATION"
   ]
  },
  {
   "cell_type": "code",
   "execution_count": 50,
   "id": "c512f12d-a8dc-4cbc-8c29-acda51b1a528",
   "metadata": {},
   "outputs": [
    {
     "name": "stdout",
     "output_type": "stream",
     "text": [
      "3\n",
      "3\n",
      "2\n"
     ]
    }
   ],
   "source": [
    "class Node:\n",
    "    def __init__(self, data):\n",
    "        self.data = data\n",
    "        self.next = None\n",
    "\n",
    "class NodeStack:\n",
    "    def __init__(self):\n",
    "        self.top = None\n",
    "\n",
    "    def push(self, value):\n",
    "        new_node = Node(value)\n",
    "        new_node.next = self.top\n",
    "        self.top = new_node\n",
    "\n",
    "    def pop(self):\n",
    "        if self.is_empty():\n",
    "            raise IndexError(\"Stack is empty\")\n",
    "        temp = self.top\n",
    "        self.top = self.top.next\n",
    "        return temp.data\n",
    "\n",
    "    def peek(self):\n",
    "        if self.is_empty():\n",
    "            raise IndexError(\"Stack is empty\")\n",
    "        return self.top.data\n",
    "\n",
    "    def size(self):\n",
    "        count = 0\n",
    "        current = self.top\n",
    "        while current:\n",
    "            count += 1\n",
    "            current = current.next\n",
    "        return count\n",
    "\n",
    "    def is_empty(self):\n",
    "        return self.top is None\n",
    "\n",
    "# Example usage\n",
    "stack = NodeStack()\n",
    "stack.push(1)\n",
    "stack.push(2)\n",
    "stack.push(3)\n",
    "\n",
    "print(stack.peek())  # Output: 3\n",
    "print(stack.pop())   # Output: 3\n",
    "print(stack.size())  # Output: 2"
   ]
  },
  {
   "cell_type": "markdown",
   "id": "0f37f24b-e75f-4d5b-8e99-c37709287476",
   "metadata": {},
   "source": [
    "# 3. NOW CREATING INSTANCES:"
   ]
  },
  {
   "cell_type": "code",
   "execution_count": 53,
   "id": "a6eff82d-bc38-4128-9865-c7a9868a3b75",
   "metadata": {},
   "outputs": [
    {
     "name": "stdout",
     "output_type": "stream",
     "text": [
      "Top element: 3\n",
      "Popped element: 3\n",
      "Popped element: 2\n",
      "Stack size: 1\n",
      "Popped element: 1\n",
      "Is stack empty? True\n"
     ]
    }
   ],
   "source": [
    "class Node:\n",
    "    def __init__(self, data):\n",
    "        self.data = data\n",
    "        self.next = None\n",
    "\n",
    "class NodeStack:\n",
    "    def __init__(self):\n",
    "        self.top = None\n",
    "\n",
    "    def push(self, value):\n",
    "        new_node = Node(value)\n",
    "        new_node.next = self.top\n",
    "        self.top = new_node\n",
    "\n",
    "    def pop(self):\n",
    "        if self.is_empty():\n",
    "            raise IndexError(\"Stack is empty\")\n",
    "        temp = self.top\n",
    "        self.top = self.top.next\n",
    "        return temp.data\n",
    "\n",
    "    def peek(self):\n",
    "        if self.is_empty():\n",
    "            raise IndexError(\"Stack is empty\")\n",
    "        return self.top.data\n",
    "\n",
    "    def size(self):\n",
    "        count = 0\n",
    "        current = self.top\n",
    "        while current:\n",
    "            count += 1\n",
    "            current = current.next\n",
    "        return count\n",
    "\n",
    "    def is_empty(self):\n",
    "        return self.top is None\n",
    "\n",
    "# Create an instance of the NodeStack\n",
    "my_stack = NodeStack()\n",
    "\n",
    "# Push elements onto the stack\n",
    "my_stack.push(1)\n",
    "my_stack.push(2)\n",
    "my_stack.push(3)\n",
    "\n",
    "# Peek at the top element\n",
    "print(\"Top element:\", my_stack.peek())  # Output: Top element: 3\n",
    "\n",
    "# Pop elements from the stack\n",
    "print(\"Popped element:\", my_stack.pop())  # Output: Popped element: 3\n",
    "print(\"Popped element:\", my_stack.pop())  # Output: Popped element: 2\n",
    "\n",
    "# Check the size of the stack\n",
    "print(\"Stack size:\", my_stack.size())  # Output: Stack size: 1\n",
    "\n",
    "# Pop the remaining element\n",
    "print(\"Popped element:\", my_stack.pop())  # Output: Popped element: 1\n",
    "\n",
    "# Check if the stack is empty\n",
    "print(\"Is stack empty?\", my_stack.is_empty())  # Output: Is stack empty? True"
   ]
  },
  {
   "cell_type": "code",
   "execution_count": null,
   "id": "bf25af1b-4ec3-4d5e-9bde-f657df6b8abe",
   "metadata": {},
   "outputs": [],
   "source": []
  }
 ],
 "metadata": {
  "kernelspec": {
   "display_name": "Python 3 (ipykernel)",
   "language": "python",
   "name": "python3"
  },
  "language_info": {
   "codemirror_mode": {
    "name": "ipython",
    "version": 3
   },
   "file_extension": ".py",
   "mimetype": "text/x-python",
   "name": "python",
   "nbconvert_exporter": "python",
   "pygments_lexer": "ipython3",
   "version": "3.12.4"
  }
 },
 "nbformat": 4,
 "nbformat_minor": 5
}
