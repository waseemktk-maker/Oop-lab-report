{
 "cells": [
  {
   "cell_type": "markdown",
   "id": "821c76c5-736a-421b-af2f-2243e3ed5bbc",
   "metadata": {},
   "source": [
    "# Lab report task:"
   ]
  },
  {
   "cell_type": "code",
   "execution_count": 5,
   "id": "8fb0557e-7dd4-4789-94c9-db36fe283c7e",
   "metadata": {},
   "outputs": [],
   "source": [
    "from math import pi\n",
    "\n",
    "class Circle:\n",
    "    \"\"\"\n",
    "    This class represents a circle with a given radius.\n",
    "    \"\"\"\n",
    "\n"
   ]
  },
  {
   "cell_type": "code",
   "execution_count": 7,
   "id": "38362237-1a14-4655-8c69-7a99c9d652ba",
   "metadata": {},
   "outputs": [],
   "source": [
    "def __init__(self, radius: float) -> None:\n",
    "        \"\"\"\n",
    "        Initializes a Circle object.\n",
    "\n",
    "        Args:\n",
    "            radius: The radius of the circle. Must be a non-negative float.\n",
    "\n",
    "        Raises:\n",
    "            ValueError: If the radius is negative.\n",
    "        \"\"\"\n",
    "        if radius < 0:\n",
    "            raise ValueError(\"Radius cannot be negative.\")\n",
    "        self._radius = radius\n",
    "\n"
   ]
  },
  {
   "cell_type": "code",
   "execution_count": 20,
   "id": "c8ed7303-a019-49e0-8140-9715f41b9606",
   "metadata": {},
   "outputs": [],
   "source": [
    "class Circle:\n",
    "        def radius(self) -> float:  # This line might have an unexpected indent\n",
    "            return 5.0\n"
   ]
  },
  {
   "cell_type": "code",
   "execution_count": 29,
   "id": "7f3e10ec-b7b5-4486-843a-784b7478c276",
   "metadata": {},
   "outputs": [],
   "source": [
    "from math import pi\n",
    "\n",
    "class Circle:\n",
    "    \"\"\"\n",
    "    This class represents a circle with a given radius.\n",
    "    \"\"\""
   ]
  },
  {
   "cell_type": "code",
   "execution_count": 31,
   "id": "0e620929-0505-41f4-826b-357b99491fd8",
   "metadata": {},
   "outputs": [],
   "source": [
    " def __init__(self, radius: float = 1.0) -> None:\n",
    "        \"\"\"\n",
    "        Initializes a Circle object.\n",
    "\n",
    "        Args:\n",
    "            radius: The radius of the circle. Must be a non-negative float. \n",
    "                Defaults to 1.0.\n",
    "\n",
    "        Raises:\n",
    "            ValueError: If the radius is negative.\n",
    "        \"\"\"\n",
    "        if radius < 0:\n",
    "            raise ValueError(\"Radius cannot be negative.\")\n",
    "        self._radius = radius"
   ]
  },
  {
   "cell_type": "code",
   "execution_count": 43,
   "id": "e5b4cae4-996b-487c-93b6-419454fee9e4",
   "metadata": {},
   "outputs": [],
   "source": [
    "class Circle:\n",
    "        def radius(self) -> float:  \n",
    "            return 5.0\n"
   ]
  },
  {
   "cell_type": "code",
   "execution_count": 45,
   "id": "a3336a4d-f6bb-4991-8b55-f83f99b939b6",
   "metadata": {},
   "outputs": [],
   "source": [
    "class Circle:\n",
    "        def area(self) -> float:  \n",
    "            return 3.14 * self.radius() ** 2\n"
   ]
  },
  {
   "cell_type": "code",
   "execution_count": 51,
   "id": "66306273-337a-44c8-8b81-631a0afde2b0",
   "metadata": {},
   "outputs": [],
   "source": [
    "class Circle:\n",
    "        def circumference(self) -> float:  \n",
    "            return 2 * 3.14 * self.radius()\n"
   ]
  },
  {
   "cell_type": "code",
   "execution_count": 57,
   "id": "5646af56-22d7-4bc0-b0be-34af8d5e9d97",
   "metadata": {},
   "outputs": [],
   "source": [
    "class Circle:\n",
    "    def diameter(self) -> float:  # Correct indentation (4 spaces)\n",
    "        return self.radius() * 2\n"
   ]
  },
  {
   "cell_type": "code",
   "execution_count": 59,
   "id": "f25d5469-abb4-4373-bd5c-ca2db26bf172",
   "metadata": {},
   "outputs": [],
   "source": [
    " def cylinder_volume(self, height: float) -> float:\n",
    "        \"\"\"\n",
    "        Calculates the volume of a cylinder with the given radius and height.\n",
    "\n",
    "        Args:\n",
    "            height: The height of the cylinder.\n",
    "\n",
    "        Returns:\n",
    "            The volume of the cylinder.\n",
    "        \"\"\"\n",
    "        return pi * self._radius ** 2 * height\n"
   ]
  },
  {
   "cell_type": "code",
   "execution_count": 65,
   "id": "27818fa7-9d0a-455a-ba8d-aa7e0510516a",
   "metadata": {},
   "outputs": [],
   "source": [
    "class Circle:\n",
    "    def from_diameter(diameter: float) -> 'Circle':  # Correct indentation\n",
    "        return Circle(diameter / 2)\n"
   ]
  },
  {
   "cell_type": "code",
   "execution_count": 71,
   "id": "db2ba419-87fd-4157-8e4d-70a1c07cc0e1",
   "metadata": {},
   "outputs": [],
   "source": [
    "class Circle:\n",
    "    def __init__(self, radius: float):\n",
    "        self.radius = radius\n",
    "\n",
    "    @classmethod\n",
    "    def from_area(cls, area: float) -> 'Circle':\n",
    "        radius = (area / 3.14159) ** 0.5\n",
    "        return cls(radius)\n"
   ]
  },
  {
   "cell_type": "code",
   "execution_count": 73,
   "id": "9b17574e-488b-42f2-99f0-9f7d5b9c7eb3",
   "metadata": {},
   "outputs": [],
   "source": [
    " def __repr__(self) -> str:\n",
    "        \"\"\"\n",
    "        Returns the official string representation of the Circle object.\n",
    "        \"\"\"\n",
    "        return f\"Circle(radius={self._radius})\"\n"
   ]
  },
  {
   "cell_type": "code",
   "execution_count": 75,
   "id": "0ef4cf52-4b7c-4938-8f24-1ea44d152e7b",
   "metadata": {},
   "outputs": [],
   "source": [
    "def __str__(self) -> str:\n",
    "        \"\"\"\n",
    "        Returns a user-friendly string representation of the Circle object.\n",
    "        \"\"\"\n",
    "        return f\"Circle with radius {self._radius}\""
   ]
  },
  {
   "cell_type": "code",
   "execution_count": 77,
   "id": "5e77b98c-c96b-4707-96b2-abe4ba7cf18e",
   "metadata": {},
   "outputs": [],
   "source": [
    "# a. Define inst_1 and pass two numbers.\n",
    "inst_1 = Circle(5)"
   ]
  },
  {
   "cell_type": "code",
   "execution_count": 79,
   "id": "adb4e3e0-a939-407f-bf0c-9e967a4bb991",
   "metadata": {},
   "outputs": [],
   "source": [
    "# b. Make another instance inst2.\n",
    "inst_2 = Circle(3) "
   ]
  },
  {
   "cell_type": "code",
   "execution_count": 84,
   "id": "41563789-5191-4960-a2d4-475bd914eef2",
   "metadata": {},
   "outputs": [
    {
     "name": "stdout",
     "output_type": "stream",
     "text": [
      "<__main__.Circle object at 0x000001DB23A2D040>\n",
      "<__main__.Circle object at 0x000001DB248DAB70>\n"
     ]
    }
   ],
   "source": [
    "# c. Print inst_1 and inst_2\n",
    "print(inst_1)  # Output: Circle with radius 5\n",
    "print(inst_2)  # Output: Circle with radius 3"
   ]
  },
  {
   "cell_type": "code",
   "execution_count": 86,
   "id": "c78abbb1-ddb4-48ff-a4b4-472e887828c8",
   "metadata": {},
   "outputs": [
    {
     "name": "stdout",
     "output_type": "stream",
     "text": [
      "Radius of inst_1: 7\n",
      "New radius of inst_1: 7\n"
     ]
    }
   ],
   "source": [
    "# d. Demonstrate the property, staticmethod and classmethod methods\n",
    "print(f\"Radius of inst_1: {inst_1.radius}\")  # Accessing radius property\n",
    "inst_1.radius = 7  # Setting radius property\n",
    "print(f\"New radius of inst_1: {inst_1.radius}\")"
   ]
  },
  {
   "cell_type": "code",
   "execution_count": 92,
   "id": "723ef768-cbfd-400c-9052-3745a549a42f",
   "metadata": {},
   "outputs": [
    {
     "name": "stdout",
     "output_type": "stream",
     "text": [
      "{'__module__': '__main__', '__init__': <function Circle.__init__ at 0x000001DB258C2020>, 'from_area': <classmethod(<function Circle.from_area at 0x000001DB258C20C0>)>, '__dict__': <attribute '__dict__' of 'Circle' objects>, '__weakref__': <attribute '__weakref__' of 'Circle' objects>, '__doc__': None}\n"
     ]
    }
   ],
   "source": [
    "# e. Call the __dict__ by the class name.\n",
    "print(Circle.__dict__) "
   ]
  },
  {
   "cell_type": "markdown",
   "id": "dbfa100e-ce70-4c4b-8a75-e6298878adff",
   "metadata": {},
   "source": [
    "# Lab work tasks:"
   ]
  },
  {
   "cell_type": "code",
   "execution_count": 110,
   "id": "fc91b28c-1d4d-43cb-8867-44599d508d4a",
   "metadata": {},
   "outputs": [],
   "source": [
    "from math import sqrt\n",
    "\n",
    "class Point2D:\n",
    "    \"\"\"\n",
    "    Represents a point in a 2-dimensional coordinate system.\n",
    "    \"\"\"\n",
    "\n",
    "    def __init__(self, x: float, y: float):\n",
    "        \"\"\"\n",
    "        Initializes a Point2D object.\n",
    "\n",
    "        Args:\n",
    "            x (float): The x-coordinate of the point.\n",
    "            y (float): The y-coordinate of the point.\n",
    "        \"\"\"\n",
    "        self._x = x\n",
    "        self._y = y\n",
    "\n",
    "    @property\n",
    "    def x(self):\n",
    "        \"\"\"\n",
    "        Gets the x-coordinate of the point.\n",
    "\n",
    "        Returns:\n",
    "            float: The x-coordinate.\n",
    "        \"\"\"\n",
    "        return self._x\n",
    "\n",
    "    @x.setter\n",
    "    def x(self, value):\n",
    "        \"\"\"\n",
    "        Sets the x-coordinate of the point.\n",
    "\n",
    "        Args:\n",
    "            value (float): The new x-coordinate.\n",
    "        \"\"\"\n",
    "        self._x = value\n",
    "\n",
    "    @property\n",
    "    def y(self):\n",
    "        \"\"\"\n",
    "        Gets the y-coordinate of the point.\n",
    "\n",
    "        Returns:\n",
    "            float: The y-coordinate.\n",
    "        \"\"\"\n",
    "        return self._y\n",
    "\n",
    "    @y.setter\n",
    "    def y(self, value):\n",
    "        \"\"\"\n",
    "        Sets the y-coordinate of the point.\n",
    "\n",
    "        Args:\n",
    "            value (float): The new y-coordinate.\n",
    "        \"\"\"\n",
    "        self._y = value\n",
    "\n",
    "    def distance_to(self, other: 'Point2D') -> float:\n",
    "        \"\"\"\n",
    "        Calculates the distance between this point and another point.\n",
    "\n",
    "        Args:\n",
    "            other (Point2D): The other point.\n",
    "\n",
    "        Returns:\n",
    "            float: The distance between the points.\n",
    "        \"\"\"\n",
    "        dx = self.x - other.x\n",
    "        dy = self.y - other.y\n",
    "        return sqrt(dx**2 + dy**2)\n",
    "\n",
    "    def distance_from_origin(self) -> float:\n",
    "        \"\"\"\n",
    "        Calculates the distance between this point and the origin (0, 0).\n",
    "\n",
    "        Returns:\n",
    "            float: The distance from the origin.\n",
    "        \"\"\"\n",
    "        return sqrt(self.x**2 + self.y**2)\n",
    "\n",
    "    def locate(self) -> str:\n",
    "        \"\"\"\n",
    "        Determines the quadrant in which the point is located.\n",
    "\n",
    "        Returns:\n",
    "            str: The quadrant (e.g., \"Quadrant I\", \"Quadrant II\", etc.).\n",
    "        \"\"\"\n",
    "        if self.x > 0 and self.y > 0:\n",
    "            return \"Quadrant I\"\n",
    "        elif self.x < 0 and self.y > 0:\n",
    "            return \"Quadrant II\"\n",
    "        elif self.x < 0 and self.y < 0:\n",
    "            return \"Quadrant III\"\n",
    "        elif self.x > 0 and self.y < 0:\n",
    "            return \"Quadrant IV\"\n",
    "        elif self.x == 0 and self.y == 0:\n",
    "            return \"Origin\"\n",
    "        elif self.x == 0:\n",
    "            return \"Y-axis\"\n",
    "        elif self.y == 0:\n",
    "            return \"X-axis\"\n",
    "\n",
    "    def __repr__(self):\n",
    "        \"\"\"\n",
    "        Returns a string representation of the point for developers.\n",
    "        \"\"\"\n",
    "        return f\"Point2D(x={self.x}, y={self.y})\"\n",
    "\n",
    "    def __str__(self):\n",
    "        \"\"\"\n",
    "        Returns a user-friendly string representation of the point.\n",
    "        \"\"\"\n",
    "        return f\"({self.x}, {self.y})\"\n",
    "\n",
    "    @staticmethod\n",
    "    def from_polar(radius: float, angle: float) -> 'Point2D':\n",
    "        \"\"\"\n",
    "        Creates a Point2D object from polar coordinates.\n",
    "\n",
    "        Args:\n",
    "            radius (float): The distance from the origin.\n",
    "            angle (float): The angle in radians.\n",
    "\n",
    "        Returns:\n",
    "            Point2D: The corresponding Cartesian point.\n",
    "        \"\"\"\n",
    "        x = radius * math.cos(angle)\n",
    "        y = radius * math.sin(angle)\n",
    "        return Point2D(x, y)\n",
    "\n",
    "    @property\n",
    "    def is_origin(self) -> bool:\n",
    "        \"\"\"\n",
    "        Checks if the point is the origin (0, 0).\n",
    "\n",
    "        Returns:\n",
    "            bool: True if the point is the origin, False otherwise.\n",
    "        \"\"\"\n",
    "        return self.x == 0 and self.y == 0\n",
    "\n",
    "    @classmethod\n",
    "    def from_string(cls, point_str: str) -> 'Point2D':\n",
    "        \"\"\"\n",
    "        Creates a Point2D object from a string representation.\n",
    "\n",
    "        Args:\n",
    "            point_str (str): The string representation of the point (e.g., \"(1, 2)\").\n",
    "\n",
    "        Returns:\n",
    "            Point2D: The corresponding Point2D object.\n",
    "        \"\"\"\n",
    "        x, y = map(float, point_str.strip('()').split(','))\n",
    "        return cls(x, y)"
   ]
  },
  {
   "cell_type": "code",
   "execution_count": 114,
   "id": "00fdd457-19dd-41fe-a348-0a3b76ec12fe",
   "metadata": {},
   "outputs": [],
   "source": [
    "class Point:\n",
    "    \"\"\"\n",
    "    Represents a point in 2D space.\n",
    "    \"\"\"\n",
    "\n"
   ]
  },
  {
   "cell_type": "code",
   "execution_count": 116,
   "id": "6652c702-320c-499e-93be-03863d5b025d",
   "metadata": {},
   "outputs": [],
   "source": [
    "def __init__(self, x: float = 0.0, y: float = 0.0):\n",
    "        \"\"\"\n",
    "        Initializes a Point object with given x and y coordinates.\n",
    "\n",
    "        Args:\n",
    "            x (float): The x-coordinate of the point (default: 0.0).\n",
    "            y (float): The y-coordinate of the point (default: 0.0).\n",
    "        \"\"\"\n",
    "        self.x = x\n",
    "        self.y = y\n",
    "\n"
   ]
  },
  {
   "cell_type": "code",
   "execution_count": 118,
   "id": "c11d61ae-be06-4d76-8ba6-52821aad6ee7",
   "metadata": {},
   "outputs": [],
   "source": [
    "   def display(self):\n",
    "        \"\"\"\n",
    "        Displays the coordinates of the point.\n",
    "        \"\"\"\n",
    "        print(f\"Coordinates: ({self.x}, {self.y})\")\n",
    "\n"
   ]
  },
  {
   "cell_type": "code",
   "execution_count": 120,
   "id": "ff69e5ee-94c7-4afa-8695-4057d289155b",
   "metadata": {},
   "outputs": [],
   "source": [
    " def distance_to(self, other):\n",
    "        \"\"\"\n",
    "        Calculates the Euclidean distance to another Point object.\n",
    "\n",
    "        Args:\n",
    "            other (Point): The other Point object.\n",
    "\n",
    "        Returns:\n",
    "            float: The distance between the two points.\n",
    "        \"\"\"\n",
    "        dx = self.x - other.x\n",
    "        dy = self.y - other.y\n",
    "        return (dx**2 + dy**2)**0.5\n",
    "\n"
   ]
  },
  {
   "cell_type": "code",
   "execution_count": 124,
   "id": "24f914f8-9c2d-4664-9946-aee198ad3dc6",
   "metadata": {},
   "outputs": [],
   "source": [
    "class Point:\n",
    "    def __init__(self, x, y):\n",
    "        self.x = x\n",
    "        self.y = y\n",
    "\n",
    "# Now you can create instances of Point with coordinates\n",
    "inst_1 = Point(3, 4)\n",
    "inst_2 = Point(1, 2)\n"
   ]
  },
  {
   "cell_type": "code",
   "execution_count": 126,
   "id": "28d473b2-0499-4b83-a766-c429b8ee8661",
   "metadata": {},
   "outputs": [],
   "source": [
    "from math import pi\n",
    "\n",
    "class Circle:\n",
    "    \"\"\"\n",
    "    This class represents a circle with a given radius.\n",
    "    \"\"\"\n",
    "\n",
    "    def __init__(self, radius: float) -> None:\n",
    "        \"\"\"\n",
    "        Initializes a Circle object.\n",
    "\n",
    "        Args:\n",
    "            radius: The radius of the circle. Must be a non-negative float.\n",
    "\n",
    "        Raises:\n",
    "            ValueError: If the radius is negative.\n",
    "        \"\"\"\n",
    "        if radius < 0:\n",
    "            raise ValueError(\"Radius cannot be negative.\")\n",
    "        self._radius = radius\n",
    "\n",
    "    @property\n",
    "    def radius(self) -> float:\n",
    "        \"\"\"\n",
    "        Gets the radius of the circle.\n",
    "\n",
    "        Returns:\n",
    "            The radius of the circle.\n",
    "        \"\"\"\n",
    "        return self._radius\n",
    "\n",
    "    @radius.setter\n",
    "    def radius(self, value: float) -> None:\n",
    "        \"\"\"\n",
    "        Sets the radius of the circle.\n",
    "\n",
    "        Args:\n",
    "            value: The new radius of the circle. Must be a non-negative float.\n",
    "\n",
    "        Raises:\n",
    "            ValueError: If the value is negative.\n",
    "        \"\"\"\n",
    "        if value < 0:\n",
    "            raise ValueError(\"Radius cannot be negative.\")\n",
    "        self._radius = value\n",
    "\n",
    "    @property\n",
    "    def area(self) -> float:\n",
    "        \"\"\"\n",
    "        Calculates the area of the circle.\n",
    "\n",
    "        Returns:\n",
    "            The area of the circle.\n",
    "        \"\"\"\n",
    "        return pi * self._radius ** 2\n",
    "\n",
    "    @property\n",
    "    def circumference(self) -> float:\n",
    "        \"\"\"\n",
    "        Calculates the circumference of the circle.\n",
    "\n",
    "        Returns:\n",
    "            The circumference of the circle.\n",
    "        \"\"\"\n",
    "        return 2 * pi * self._radius\n",
    "\n",
    "    @property\n",
    "    def diameter(self) -> float:\n",
    "        \"\"\"\n",
    "        Calculates the diameter of the circle.\n",
    "\n",
    "        Returns:\n",
    "            The diameter of the circle.\n",
    "        \"\"\"\n",
    "        return 2 * self._radius\n",
    "\n",
    "    def cylinder_volume(self, height: float) -> float:\n",
    "        \"\"\"\n",
    "        Calculates the volume of a cylinder with the given radius and height.\n",
    "\n",
    "        Args:\n",
    "            height: The height of the cylinder.\n",
    "\n",
    "        Returns:\n",
    "            The volume of the cylinder.\n",
    "        \"\"\"\n",
    "        return pi * self._radius ** 2 * height\n",
    "\n",
    "    @staticmethod\n",
    "    def from_diameter(diameter: float) -> 'Circle':\n",
    "        \"\"\"\n",
    "        Creates a Circle object from a given diameter.\n",
    "\n",
    "        Args:\n",
    "            diameter: The diameter of the circle.\n",
    "\n",
    "        Returns:\n",
    "            A Circle object with the given diameter.\n",
    "        \"\"\"\n",
    "        return Circle(diameter / 2)\n",
    "\n",
    "    @classmethod\n",
    "    def from_area(cls, area: float) -> 'Circle':\n",
    "        \"\"\"\n",
    "        Creates a Circle object from a given area.\n",
    "\n",
    "        Args:\n",
    "            area: The area of the circle.\n",
    "\n",
    "        Returns:\n",
    "            A Circle object with the given area.\n",
    "\n",
    "        Raises:\n",
    "            ValueError: If the area is negative.\n",
    "        \"\"\"\n",
    "        if area < 0:\n",
    "            raise ValueError(\"Area cannot be negative.\")\n",
    "        return cls(radius=(area / pi) ** 0.5)\n",
    "\n",
    "    def __repr__(self) -> str:\n",
    "        \"\"\"\n",
    "        Returns a string representation of the Circle object for developers.\n",
    "        \"\"\"\n",
    "        return f\"Circle(radius={self._radius})\"\n",
    "\n",
    "    def __str__(self) -> str:\n",
    "        \"\"\"\n",
    "        Returns a user-friendly string representation of the Circle object.\n",
    "        \"\"\"\n",
    "        return f\"Circle with radius {self._radius}\""
   ]
  },
  {
   "cell_type": "code",
   "execution_count": 132,
   "id": "ebdd05a6-9f9f-49e6-8501-45ade5e21a1a",
   "metadata": {},
   "outputs": [
    {
     "name": "stdout",
     "output_type": "stream",
     "text": [
      "Radius of inst_1: 5\n",
      "Updated radius of inst_1: 7\n"
     ]
    }
   ],
   "source": [
    "class Circle:\n",
    "    def __init__(self, radius):\n",
    "        self.radius = radius  # Initialize the radius attribute\n",
    "\n",
    "    def __str__(self):\n",
    "        return f\"Circle with radius {self.radius}\"\n",
    "\n",
    "# Now create an instance\n",
    "inst_1 = Circle(5)\n",
    "\n",
    "# Accessing the radius attribute\n",
    "print(f\"Radius of inst_1: {inst_1.radius}\")\n",
    "\n",
    "# Updating the radius attribute\n",
    "inst_1.radius = 7\n",
    "print(f\"Updated radius of inst_1: {inst_1.radius}\")\n"
   ]
  },
  {
   "cell_type": "code",
   "execution_count": 136,
   "id": "30487864-9716-4644-a5c4-51d04b7f2421",
   "metadata": {},
   "outputs": [],
   "source": [
    "from math import sqrt, atan2, cos, sin, pi\n",
    "\n",
    "class RLC:\n",
    "    \"\"\"\n",
    "    Represents a series RLC circuit.\n",
    "\n",
    "    Attributes:\n",
    "        resistance (float): Resistance of the resistor (in ohms).\n",
    "        inductance (float): Inductance of the inductor (in henries).\n",
    "        capacitance (float): Capacitance of the capacitor (in farads).\n",
    "        frequency (float): Frequency of the AC source (in hertz).\n",
    "    \"\"\"\n",
    "\n"
   ]
  },
  {
   "cell_type": "code",
   "execution_count": 138,
   "id": "b9211151-ee03-460a-b73a-91f61c152637",
   "metadata": {},
   "outputs": [],
   "source": [
    " def __init__(self, resistance: float, inductance: float, capacitance: float, frequency: float):\n",
    "        \"\"\"\n",
    "        Initializes an RLC circuit object.\n",
    "\n",
    "        Args:\n",
    "            resistance: Resistance of the resistor.\n",
    "            inductance: Inductance of the inductor.\n",
    "            capacitance: Capacitance of the capacitor.\n",
    "            frequency: Frequency of the AC source.\n",
    "        \"\"\"\n",
    "        self._resistance = resistance\n",
    "        self._inductance = inductance\n",
    "        self._capacitance = capacitance\n",
    "        self._frequency = frequency\n",
    "\n"
   ]
  },
  {
   "cell_type": "code",
   "execution_count": 144,
   "id": "1d18ce8a-6e61-4553-b6a8-1b0c5391e34e",
   "metadata": {},
   "outputs": [],
   "source": [
    "class SomeClass:\n",
    "    def resistance(self) -> float:\n",
    "        # Your code here\n",
    "        return some_value\n"
   ]
  },
  {
   "cell_type": "code",
   "execution_count": 150,
   "id": "1a3a35da-2dcb-4cf4-b0cd-bc7ddbc1b419",
   "metadata": {},
   "outputs": [],
   "source": [
    "class RLC:\n",
    "    @classmethod\n",
    "    def from_resonant_frequency(cls, resistance: float, inductance: float, capacitance: float) -> 'RLC':\n",
    "        # Your method logic here\n",
    "        return cls(resistance, inductance, capacitance)\n"
   ]
  },
  {
   "cell_type": "code",
   "execution_count": 152,
   "id": "8e0d5aa1-b730-446c-aa87-ab7d196a8a38",
   "metadata": {},
   "outputs": [],
   "source": [
    "def __repr__(self) -> str:\n",
    "        \"\"\"\n",
    "        Returns a string representation of the RLC circuit object for developers.\n",
    "        \"\"\"\n",
    "        return f\"RLC(resistance={self.resistance}, inductance={self.inductance}, \" \\\n",
    "               f\"capacitance={self.capacitance}, frequency={self.frequency})\"\n"
   ]
  },
  {
   "cell_type": "code",
   "execution_count": 154,
   "id": "ac0708c0-67be-47b8-a9fb-38c2b0fc7414",
   "metadata": {},
   "outputs": [],
   "source": [
    "def __repr__(self) -> str:\n",
    "        \"\"\"\n",
    "        Returns a string representation of the RLC circuit object for developers.\n",
    "        \"\"\"\n",
    "        return f\"RLC(resistance={self.resistance}, inductance={self.inductance}, \" \\\n",
    "               f\"capacitance={self.capacitance}, frequency={self.frequency})\"\n"
   ]
  },
  {
   "cell_type": "code",
   "execution_count": 156,
   "id": "693355fa-d153-4d30-82e9-48eff149a3b8",
   "metadata": {},
   "outputs": [],
   "source": [
    " def __str__(self) -> str:\n",
    "        \"\"\"\n",
    "        Returns a user-friendly string representation of the RLC circuit object.\n",
    "        \"\"\"\n",
    "        return f\"RLC Circuit:\\n\" \\\n",
    "               f\"Resistance: {self.resistance} ohms\\n\" \\\n",
    "               f\"Inductance: {self.inductance} H\\n\" \\\n",
    "               f\"Capacitance: {self.capacitance} F\\n\" \\\n",
    "               f\"Frequency: {self.frequency} Hz\""
   ]
  },
  {
   "cell_type": "code",
   "execution_count": 160,
   "id": "2bff4bf8-b978-4962-ad43-ba000e461da5",
   "metadata": {},
   "outputs": [],
   "source": [
    "class MyClass:\n",
    "    \"\"\"This is a docstring for the MyClass.\"\"\"\n",
    "\n"
   ]
  },
  {
   "cell_type": "code",
   "execution_count": 162,
   "id": "351af96d-f2b6-4d0f-a095-200d792e00d0",
   "metadata": {},
   "outputs": [],
   "source": [
    " def __init__(self, num1=0, num2=0):\n",
    "        \"\"\"\n",
    "        This is the constructor for the MyClass.\n",
    "\n",
    "        Args:\n",
    "            num1 (int, optional): The first number. Defaults to 0.\n",
    "            num2 (int, optional): The second number. Defaults to 0.\n",
    "        \"\"\"\n",
    "        self.num1 = num1\n",
    "        self.num2 = num2\n",
    "\n"
   ]
  },
  {
   "cell_type": "code",
   "execution_count": 164,
   "id": "b138e906-0c74-41d1-970c-cfebb9b43bc0",
   "metadata": {},
   "outputs": [],
   "source": [
    " def add(self):\n",
    "        \"\"\"This method adds the two numbers.\"\"\"\n",
    "        return self.num1 + self.num2\n",
    "\n"
   ]
  },
  {
   "cell_type": "code",
   "execution_count": 170,
   "id": "5996584b-cafa-4cc9-9490-f058fdac5f03",
   "metadata": {},
   "outputs": [],
   "source": [
    "def outer_function():\n",
    "    def greet():\n",
    "        print(\"Hello, World!\")\n"
   ]
  },
  {
   "cell_type": "code",
   "execution_count": 176,
   "id": "bd3a3baf-f883-4117-82bc-386b16ffc756",
   "metadata": {},
   "outputs": [],
   "source": [
    "def from_string(string):\n",
    "    # Your code here\n",
    "    return\n"
   ]
  },
  {
   "cell_type": "code",
   "execution_count": 203,
   "id": "8d465363-d038-414a-b065-d4b85bc37ea5",
   "metadata": {},
   "outputs": [
    {
     "name": "stdout",
     "output_type": "stream",
     "text": [
      "10 20\n",
      "5 15\n"
     ]
    }
   ],
   "source": [
    "class MyClass:\n",
    "    def __init__(self, arg1, arg2):\n",
    "        self.arg1 = arg1  \n",
    "        self.arg2 = arg2\n",
    "        inst_1 = MyClass(10, 20)\n",
    "        inst_2 = MyClass(5, 15)\n",
    "print(inst_1.arg1, inst_1.arg2) \n",
    "print(inst_2.arg1, inst_2.arg2)  \n"
   ]
  },
  {
   "cell_type": "markdown",
   "id": "97f8ae80-436d-46f2-a144-0d5f5bb49ead",
   "metadata": {},
   "source": [
    "# Note:"
   ]
  },
  {
   "cell_type": "markdown",
   "id": "f43273f2-753d-4b4e-8501-b7c75d69a56f",
   "metadata": {},
   "source": [
    "Math:"
   ]
  },
  {
   "cell_type": "code",
   "execution_count": 209,
   "id": "d43b5edf-90a7-477b-bdef-6bf7df3db28f",
   "metadata": {},
   "outputs": [],
   "source": [
    "class ResistorCircuit:\n",
    "    \"\"\"\n",
    "    Represents a simple circuit with a single resistor.\n",
    "    \"\"\"\n",
    "\n"
   ]
  },
  {
   "cell_type": "code",
   "execution_count": 211,
   "id": "b5132b6a-4449-4049-a181-9bc0c0210c1f",
   "metadata": {},
   "outputs": [],
   "source": [
    " def __init__(self, resistance):\n",
    "        \"\"\"\n",
    "        Initializes the ResistorCircuit with the resistance value.\n",
    "\n",
    "        Args:\n",
    "            resistance (float): The resistance value in ohms.\n",
    "        \"\"\"\n",
    "        self.resistance = resistance\n",
    "\n"
   ]
  },
  {
   "cell_type": "code",
   "execution_count": 213,
   "id": "d9d84ab6-9e97-486d-b6dc-d16f0f8069a1",
   "metadata": {},
   "outputs": [],
   "source": [
    " def calculate_current(self, voltage):\n",
    "        \"\"\"\n",
    "        Calculates the current flowing through the resistor using Ohm's Law.\n",
    "\n",
    "        Args:\n",
    "            voltage (float): The applied voltage in volts.\n",
    "\n",
    "        Returns:\n",
    "            float: The current in amperes.\n",
    "        \"\"\"\n",
    "        return voltage / self.resistance"
   ]
  },
  {
   "cell_type": "markdown",
   "id": "2e5f6a60-83ca-408f-b793-1b6cdb52fbc8",
   "metadata": {},
   "source": [
    "Circuit:"
   ]
  },
  {
   "cell_type": "code",
   "execution_count": 218,
   "id": "b38c5fa2-3266-4c8c-8fa5-54b4297aed44",
   "metadata": {},
   "outputs": [],
   "source": [
    "import math\n",
    "\n",
    "class RLCircuit:\n",
    "    \"\"\"\n",
    "    Represents an RL circuit with a resistor and an inductor.\n",
    "    \"\"\"\n",
    "\n"
   ]
  },
  {
   "cell_type": "code",
   "execution_count": 220,
   "id": "af519cfc-3950-4a3f-8f84-0aefe97a799f",
   "metadata": {},
   "outputs": [],
   "source": [
    "def __init__(self, resistance, inductance):\n",
    "        \"\"\"\n",
    "        Initializes the RLCircuit with resistance and inductance values.\n",
    "\n",
    "        Args:\n",
    "            resistance (float): The resistance value in ohms.\n",
    "            inductance (float): The inductance value in henries.\n",
    "        \"\"\"\n",
    "        self.resistance = resistance\n",
    "        self.inductance = inductance\n",
    "\n"
   ]
  },
  {
   "cell_type": "code",
   "execution_count": 222,
   "id": "db9ad38d-a646-4ddd-9541-e545b5f1ec3c",
   "metadata": {},
   "outputs": [],
   "source": [
    "def calculate_impedance(self, frequency):\n",
    "        \"\"\"\n",
    "        Calculates the impedance of the RL circuit.\n",
    "\n",
    "        Args:\n",
    "            frequency (float): The frequency of the applied signal in hertz.\n",
    "\n",
    "        Returns:\n",
    "            float: The impedance in ohms.\n",
    "        \"\"\"\n",
    "        angular_frequency = 2 * math.pi * frequency\n",
    "        reactance = angular_frequency * self.inductance\n",
    "        return math.sqrt(self.resistance**2 + reactance**2)\n",
    "\n"
   ]
  },
  {
   "cell_type": "code",
   "execution_count": null,
   "id": "fbd1183a-ab35-4d4e-99ae-efdfe95325f7",
   "metadata": {},
   "outputs": [],
   "source": []
  }
 ],
 "metadata": {
  "kernelspec": {
   "display_name": "Python 3 (ipykernel)",
   "language": "python",
   "name": "python3"
  },
  "language_info": {
   "codemirror_mode": {
    "name": "ipython",
    "version": 3
   },
   "file_extension": ".py",
   "mimetype": "text/x-python",
   "name": "python",
   "nbconvert_exporter": "python",
   "pygments_lexer": "ipython3",
   "version": "3.12.4"
  }
 },
 "nbformat": 4,
 "nbformat_minor": 5
}
