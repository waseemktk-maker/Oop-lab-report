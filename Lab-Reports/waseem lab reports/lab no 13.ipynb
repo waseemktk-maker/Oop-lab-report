{
 "cells": [
  {
   "cell_type": "markdown",
   "id": "575decad-879c-4392-a149-9d2bb526f56e",
   "metadata": {},
   "source": [
    "# Lab work task:"
   ]
  },
  {
   "cell_type": "code",
   "execution_count": 2,
   "id": "686ca0ae-87c5-4a83-8ae5-8f9ef2919e69",
   "metadata": {},
   "outputs": [
    {
     "name": "stdout",
     "output_type": "stream",
     "text": [
      "[(2, 'task 2'), (3, 'task 3')]\n",
      "(1, 'task 1')\n"
     ]
    }
   ],
   "source": [
    "import heapq\n",
    "\n",
    "# Create an empty priority queue\n",
    "priority_queue = []\n",
    "\n",
    "# Add elements to the priority queue\n",
    "heapq.heappush(priority_queue, (2, 'task 2'))\n",
    "heapq.heappush(priority_queue, (1, 'task 1'))\n",
    "heapq.heappush(priority_queue, (3, 'task 3'))\n",
    "\n",
    "# Remove and return the smallest element\n",
    "smallest_task = heapq.heappop(priority_queue)\n",
    "\n",
    "print(priority_queue)  # Output: [(2, 'task 2'), (3, 'task 3')]\n",
    "print(smallest_task)  # Output: (1, 'task 1')"
   ]
  },
  {
   "cell_type": "markdown",
   "id": "4685cc2c-0873-4a94-958a-159bc5007b92",
   "metadata": {},
   "source": [
    "# 2. Enqueue (Insert):"
   ]
  },
  {
   "cell_type": "code",
   "execution_count": 5,
   "id": "f296788b-4682-4735-8db2-02550ec6380f",
   "metadata": {},
   "outputs": [
    {
     "name": "stdout",
     "output_type": "stream",
     "text": [
      "[(1, 'Task 2'), (2, 'Task 1'), (3, 'Task 3')]\n"
     ]
    }
   ],
   "source": [
    "from heapq import heappush\n",
    "\n",
    "def push_with_priority(heap, element, priority):\n",
    "  \"\"\"\n",
    "  Adds an element to the priority queue with a specified priority.\n",
    "\n",
    "  Args:\n",
    "    heap: The priority queue (heap).\n",
    "    element: The element to be added.\n",
    "    priority: The priority of the element.\n",
    "\n",
    "  Returns:\n",
    "    None\n",
    "\n",
    "  Note:\n",
    "    This doesn't necessarily mean that the resulting elements will become sorted. \n",
    "    The heap property (parent node has higher/lower priority than children) is maintained.\n",
    "  \"\"\"\n",
    "  heappush(heap, (priority, element)) \n",
    "\n",
    "# Example usage\n",
    "my_heap = []\n",
    "push_with_priority(my_heap, \"Task 1\", 2)\n",
    "push_with_priority(my_heap, \"Task 2\", 1)\n",
    "push_with_priority(my_heap, \"Task 3\", 3)\n",
    "print(my_heap)  # Output: [(1, 'Task 2'), (2, 'Task 1'), (3, 'Task 3')]"
   ]
  },
  {
   "cell_type": "code",
   "execution_count": 7,
   "id": "ce545165-d2e0-4695-be89-8271096b54a4",
   "metadata": {},
   "outputs": [
    {
     "name": "stdout",
     "output_type": "stream",
     "text": [
      "[1, 2, 3]\n"
     ]
    }
   ],
   "source": [
    "class Stack:\n",
    "    def __init__(self):\n",
    "        self.items = []\n",
    "\n",
    "    def is_empty(self):\n",
    "        return self.items == []\n",
    "\n",
    "    def push(self, item):\n",
    "        \"\"\"\n",
    "        Adds an item to the top of the stack.\n",
    "\n",
    "        Args:\n",
    "            item: The item to be added to the stack.\n",
    "        \"\"\"\n",
    "        self.items.append(item)\n",
    "\n",
    "# Example usage\n",
    "my_stack = Stack()\n",
    "my_stack.push(1)\n",
    "my_stack.push(2)\n",
    "my_stack.push(3)\n",
    "print(my_stack.items)  # Output: [1, 2, 3]"
   ]
  },
  {
   "cell_type": "markdown",
   "id": "52c3b46f-a295-4350-878c-986495583767",
   "metadata": {},
   "source": [
    "# 3. Dequeue (Remove): "
   ]
  },
  {
   "cell_type": "code",
   "execution_count": 10,
   "id": "3e21cd91-d7d5-49fb-9fa7-f8d647b43773",
   "metadata": {},
   "outputs": [
    {
     "name": "stdout",
     "output_type": "stream",
     "text": [
      "[(1, 'Urgent message'), (2, 'Important message'), (3, 'Neutral message')]\n",
      "Urgent message\n"
     ]
    }
   ],
   "source": [
    "from heapq import heappush, heappop\n",
    "\n",
    "# Assuming a min-heap where lower priority values have higher priority\n",
    "priorities = {\n",
    "    \"critical\": 1,\n",
    "    \"important\": 2,\n",
    "    \"neutral\": 3\n",
    "}\n",
    "\n",
    "class PriorityQueue:\n",
    "    def __init__(self):\n",
    "        self._elements = []\n",
    "\n",
    "    def enqueue_with_priority(self, priority_name, value):\n",
    "        priority = priorities[priority_name]\n",
    "        heappush(self._elements, (priority, value))\n",
    "\n",
    "    def dequeue(self):\n",
    "        return heappop(self._elements)[1]  # Extract the value (not the priority)\n",
    "\n",
    "# Example usage\n",
    "messages = PriorityQueue()\n",
    "messages.enqueue_with_priority(\"critical\", \"Urgent message\")\n",
    "messages.enqueue_with_priority(\"important\", \"Important message\")\n",
    "messages.enqueue_with_priority(\"neutral\", \"Neutral message\")\n",
    "\n",
    "print(messages._elements)  # Observe the heap structure\n",
    "\n",
    "first_message = messages.dequeue()\n",
    "print(first_message)  # Should be \"Urgent message\" (if priorities are correctly assigned)"
   ]
  },
  {
   "cell_type": "markdown",
   "id": "2c69372d-9e79-4125-abf4-2dc370b8ca70",
   "metadata": {},
   "source": [
    "# 5. NEGATIVE PRIORITY:"
   ]
  },
  {
   "cell_type": "code",
   "execution_count": 13,
   "id": "60778bfc-abb3-4e7a-8bdb-969211d63070",
   "metadata": {},
   "outputs": [],
   "source": [
    "class Message:\n",
    "    def __init__(self, priority, message_text):\n",
    "        self.priority = priority\n",
    "        self.message_text = message_text\n",
    "\n",
    "    def __lt__(self, other):\n",
    "        return self.priority < other.priority \n",
    "\n",
    "# Create Message objects with priorities\n",
    "message1 = Message(-1, \"Critical Message\") \n",
    "message2 = Message(0, \"Important Message 1\")\n",
    "message3 = Message(0, \"Important Message 2\")\n",
    "message4 = Message(1, \"Neutral Message\")\n",
    "\n",
    "# Enqueue the messages into the PriorityQueue\n",
    "# ... (Assuming you have a PriorityQueue implementation)\n",
    "\n",
    "# Dequeue and process messages as shown above"
   ]
  },
  {
   "cell_type": "markdown",
   "id": "5ea14367-62de-40a3-b796-2c2070209ee3",
   "metadata": {},
   "source": [
    "# NOW RUN THE FOLLOWING CODE AND OBSERVE OUTPUT"
   ]
  },
  {
   "cell_type": "code",
   "execution_count": 16,
   "id": "10b4f869-d909-4f05-9a27-f3f7adf3cdfe",
   "metadata": {},
   "outputs": [
    {
     "name": "stdout",
     "output_type": "stream",
     "text": [
      "True\n"
     ]
    }
   ],
   "source": [
    "class Message:\n",
    "    def __init__(self, sender, recipient, body):\n",
    "        self.sender = sender\n",
    "        self.recipient = recipient\n",
    "        self.body = body\n",
    "\n",
    "    def __lt__(self, other):\n",
    "        # Compare based on the sender attribute\n",
    "        return self.sender < other.sender\n",
    "\n",
    "# Create message objects\n",
    "message1 = Message(\"Alice\", \"Bob\", \"Hello, Bob!\")\n",
    "message2 = Message(\"Charlie\", \"David\", \"Hi, David!\")\n",
    "\n",
    "# Compare messages based on sender\n",
    "print(message1 < message2)  # Output: True"
   ]
  },
  {
   "cell_type": "markdown",
   "id": "5332a120-6036-4d5a-98bb-035d6e55aa82",
   "metadata": {},
   "source": [
    "# NOW RUN THE CODE AND OBSERVE OUTPUT:"
   ]
  },
  {
   "cell_type": "code",
   "execution_count": 19,
   "id": "d476ca2c-d124-427a-a16d-56443393fcdd",
   "metadata": {},
   "outputs": [
    {
     "name": "stdout",
     "output_type": "stream",
     "text": [
      "True\n",
      "True\n"
     ]
    }
   ],
   "source": [
    "from itertools import count\n",
    "\n",
    "class Message:\n",
    "    _id_generator = count()  # Create a counter\n",
    "\n",
    "    def __init__(self, sender, recipient, body, timestamp):\n",
    "        self.sender = sender\n",
    "        self.recipient = recipient\n",
    "        self.body = body\n",
    "        self.timestamp = timestamp\n",
    "        self.id = next(self._id_generator)  # Assign a unique ID\n",
    "\n",
    "    def __lt__(self, other):\n",
    "        if self.timestamp < other.timestamp:\n",
    "            return True\n",
    "        elif self.timestamp == other.timestamp:\n",
    "            if self.sender < other.sender:\n",
    "                return True\n",
    "            elif self.sender == other.sender:\n",
    "                return self.id < other.id  # Compare IDs as a last resort\n",
    "        else:\n",
    "            return False\n",
    "\n",
    "# Create message objects \n",
    "message1 = Message(\"Alice\", \"Bob\", \"Hello, Bob!\", 1587654321)\n",
    "message2 = Message(\"Alice\", \"Bob\", \"Hi, Bob!\", 1587654321) \n",
    "message3 = Message(\"Alice\", \"Bob\", \"See you later!\", 1587654322)\n",
    "\n",
    "# Compare messages \n",
    "print(message1 < message2)  # Output: True (IDs are unique)\n",
    "print(message1 < message3)  # Output: True (earlier timestamp)"
   ]
  },
  {
   "cell_type": "code",
   "execution_count": 21,
   "id": "5210cd9e-b6ae-45f9-9d7c-e4b2043ba240",
   "metadata": {},
   "outputs": [],
   "source": [
    "class IterableMixin:\n",
    "    def __len__(self):\n",
    "        return len(self._queue)\n",
    "\n",
    "    def __iter__(self):\n",
    "        return iter(self._queue)"
   ]
  },
  {
   "cell_type": "code",
   "execution_count": 23,
   "id": "ad7d5099-5358-4b11-86c9-4bdeed93cc6b",
   "metadata": {},
   "outputs": [],
   "source": [
    "class PriorityQueue(IterableMixin):\n",
    "    def __init__(self):\n",
    "        self._queue = []\n",
    "        self._counter = 0\n",
    "\n",
    "    def enqueue(self, item):\n",
    "        self._queue.append((self._counter, item))\n",
    "        self._counter += 1\n",
    "\n",
    "    def dequeue(self):\n",
    "        if not self._queue:\n",
    "            raise IndexError(\"Queue is empty\")\n",
    "        self._queue.sort()  # Sort the queue based on the counter\n",
    "        return self._queue.pop(0)[1]"
   ]
  },
  {
   "cell_type": "code",
   "execution_count": null,
   "id": "e885347e-eef1-42e1-9b4e-b8b07e8e9f3e",
   "metadata": {},
   "outputs": [],
   "source": []
  },
  {
   "cell_type": "code",
   "execution_count": null,
   "id": "066db262-647d-44c4-be42-63649b49f164",
   "metadata": {},
   "outputs": [],
   "source": []
  }
 ],
 "metadata": {
  "kernelspec": {
   "display_name": "Python 3 (ipykernel)",
   "language": "python",
   "name": "python3"
  },
  "language_info": {
   "codemirror_mode": {
    "name": "ipython",
    "version": 3
   },
   "file_extension": ".py",
   "mimetype": "text/x-python",
   "name": "python",
   "nbconvert_exporter": "python",
   "pygments_lexer": "ipython3",
   "version": "3.12.4"
  }
 },
 "nbformat": 4,
 "nbformat_minor": 5
}
