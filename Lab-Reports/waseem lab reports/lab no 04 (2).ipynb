{
 "cells": [
  {
   "cell_type": "markdown",
   "id": "36e84969-e2ff-49af-97be-3ad2cb300f5d",
   "metadata": {},
   "source": [
    "# Lab report task:"
   ]
  },
  {
   "cell_type": "code",
   "execution_count": 4,
   "id": "7c0afda4-3700-48e5-8be7-8d547e9c6c28",
   "metadata": {},
   "outputs": [
    {
     "name": "stdout",
     "output_type": "stream",
     "text": [
      "Point coordinates: x = 3.0, y = 4.0\n"
     ]
    }
   ],
   "source": [
    "import math\n",
    "\n",
    "class Point:\n",
    "    \"\"\"Represents a point in two-dimensional geometric coordinates\n",
    "\n",
    "    Parameters\n",
    "    ----------\n",
    "    x : float\n",
    "        The x-coordinate of the point.\n",
    "    y : float\n",
    "        The y-coordinate of the point.\n",
    "    \"\"\"\n",
    "    def __init__(self, x: float, y: float) -> None:\n",
    "        self.x = x\n",
    "        self.y = y\n",
    "\n",
    "    def distance(self, p2) -> float:\n",
    "        \"\"\"Calculates the Euclidean distance between this point and another point.\n",
    "\n",
    "        Args:\n",
    "            p2: Another Point object.\n",
    "\n",
    "        Returns:\n",
    "            float: The distance between the two points.\n",
    "        \"\"\"\n",
    "        return math.sqrt((self.x - p2.x) ** 2 + (self.y - p2.y) ** 2)\n",
    "\n",
    "# Create an instance of the Point class\n",
    "p1 = Point(3.0, 4.0) \n",
    "\n",
    "# Print the x and y coordinates of the point\n",
    "print(f\"Point coordinates: x = {p1.x}, y = {p1.y}\")"
   ]
  },
  {
   "cell_type": "code",
   "execution_count": 6,
   "id": "4e30729f-8c5a-45f9-a4ee-791c210a5dbd",
   "metadata": {},
   "outputs": [
    {
     "name": "stdout",
     "output_type": "stream",
     "text": [
      "(3, 4)\n",
      "(0, 0)\n",
      "p1 coordinates: (3, 4)\n",
      "p2 coordinates: (0, 0)\n",
      "Point coordinates: (3, 4)\n",
      "Point coordinates: (0, 0)\n",
      "Distance between p1 and p2: 5.0\n"
     ]
    }
   ],
   "source": [
    "import math\n",
    "\n",
    "class Point:\n",
    "    def __init__(self, x, y):\n",
    "        self.x = x\n",
    "        self.y = y\n",
    "\n",
    "    def __str__(self):\n",
    "        return f\"({self.x}, {self.y})\"\n",
    "\n",
    "    def print_point(self):\n",
    "        print(f\"Point coordinates: ({self.x}, {self.y})\")\n",
    "\n",
    "    def distance_to(self, other_point):\n",
    "        return math.sqrt((self.x - other_point.x)**2 + (self.y - other_point.y)**2)\n",
    "\n",
    "# Create two points\n",
    "p1 = Point(3, 4)\n",
    "p2 = Point(0, 0)\n",
    "\n",
    "# Print points using print() function\n",
    "print(p1)  # Output: (3, 4)\n",
    "print(p2)  # Output: (0, 0)\n",
    "\n",
    "# Print coordinates using object and dot operator\n",
    "print(f\"p1 coordinates: ({p1.x}, {p1.y})\")\n",
    "print(f\"p2 coordinates: ({p2.x}, {p2.y})\")\n",
    "\n",
    "# Print points using print_point() method\n",
    "p1.print_point()  # Output: Point coordinates: (3, 4)\n",
    "p2.print_point()  # Output: Point coordinates: (0, 0)\n",
    "\n",
    "# Calculate and print distance between points\n",
    "distance = p1.distance_to(p2)\n",
    "print(f\"Distance between p1 and p2: {distance}\")"
   ]
  },
  {
   "cell_type": "markdown",
   "id": "81c42040-253e-465c-a18f-2da0dea6e4ff",
   "metadata": {},
   "source": [
    "# Lab work tasks:"
   ]
  },
  {
   "cell_type": "code",
   "execution_count": 11,
   "id": "da112feb-3f61-4590-9127-5850881784ec",
   "metadata": {},
   "outputs": [],
   "source": [
    "# Define employee data as lists\n",
    "kirk = [\"James Kirk\", 34, \"Captain\", 2265]\n",
    "spock = [\"Spock\", 35, \"Science Officer\", 2254]\n",
    "mccoy = [\"Leonard McCoy\", 50, \"Chief Medical Officer\", 2266] \n"
   ]
  },
  {
   "cell_type": "code",
   "execution_count": 13,
   "id": "33fc76bb-216d-4cd6-9757-cb6288098db8",
   "metadata": {},
   "outputs": [
    {
     "name": "stdout",
     "output_type": "stream",
     "text": [
      "James Kirk\n"
     ]
    }
   ],
   "source": [
    "# Print the name of the first employee\n",
    "print(kirk[0]) \n"
   ]
  },
  {
   "cell_type": "code",
   "execution_count": 15,
   "id": "989e1e38-cff5-44f1-b8a6-d450f28ad335",
   "metadata": {},
   "outputs": [],
   "source": [
    "# To improve readability and maintainability:\n",
    "# 1. Use a dictionary to store employee data\n"
   ]
  },
  {
   "cell_type": "code",
   "execution_count": 17,
   "id": "fb400c74-2710-4f90-8916-e796097a0bdd",
   "metadata": {},
   "outputs": [],
   "source": [
    "employees = {\n",
    "    \"kirk\": {\"name\": \"James Kirk\", \"age\": 34, \"position\": \"Captain\", \"start_year\": 2265},\n",
    "    \"spock\": {\"name\": \"Spock\", \"age\": 35, \"position\": \"Science Officer\", \"start_year\": 2254},\n",
    "    \"mccoy\": {\"name\": \"Leonard McCoy\", \"age\": 50, \"position\": \"Chief Medical Officer\", \"start_year\": 2266}\n",
    "}\n"
   ]
  },
  {
   "cell_type": "code",
   "execution_count": 19,
   "id": "29d2f33a-6553-40fd-932b-e47e2de355ec",
   "metadata": {},
   "outputs": [
    {
     "name": "stdout",
     "output_type": "stream",
     "text": [
      "James Kirk\n",
      "Science Officer\n"
     ]
    }
   ],
   "source": [
    "# Access and print employee data using dictionary keys\n",
    "print(employees[\"kirk\"][\"name\"]) \n",
    "print(employees[\"spock\"][\"position\"])"
   ]
  },
  {
   "cell_type": "code",
   "execution_count": 21,
   "id": "c822ce1a-8e28-4b7b-bdab-60398adcc2c5",
   "metadata": {},
   "outputs": [],
   "source": [
    "class Employee:\n",
    "    def __init__(self, name, age, position, start_year):\n",
    "        self.name = name\n",
    "        self.age = age\n",
    "        self.position = position\n",
    "        self.start_year = start_year\n",
    "\n",
    "    def __str__(self):\n",
    "        return f\"Employee: {self.name}, Age: {self.age}, Position: {self.position}, Start Year: {self.start_year}\""
   ]
  },
  {
   "cell_type": "code",
   "execution_count": 23,
   "id": "193b1ec3-53b3-439a-87cc-4ed8b74a5abf",
   "metadata": {},
   "outputs": [],
   "source": [
    "kirk = Employee(\"James Kirk\", 34, \"Captain\", 2265)\n",
    "spock = Employee(\"Spock\", 35, \"Science Officer\", 2254)\n",
    "mccoy = Employee(\"Leonard McCoy\", 50, \"Chief Medical Officer\", 2266)"
   ]
  },
  {
   "cell_type": "code",
   "execution_count": 25,
   "id": "04363e94-81ee-4ab3-ac97-ea4d8dec4927",
   "metadata": {},
   "outputs": [
    {
     "name": "stdout",
     "output_type": "stream",
     "text": [
      "Chief Medical Officer\n",
      "James Kirk\n",
      "Science Officer\n",
      "50\n"
     ]
    }
   ],
   "source": [
    "# Define employee data as lists\n",
    "kirk = [\"James Kirk\", 34, \"Captain\", 2265]\n",
    "spock = [\"Spock\", 35, \"Science Officer\", 2254]\n",
    "mccoy = [\"Leonard McCoy\", \"Chief Medical Officer\", 2266]  # Age is missing\n",
    "\n",
    "# Attempt to print the second element of the 'mccoy' list\n",
    "try:\n",
    "    print(mccoy[1]) \n",
    "except IndexError:\n",
    "    print(f\"Error: 'mccoy' list does not have an element at index 1.\")\n",
    "\n",
    "# --- Using Classes ---\n",
    "\n",
    "class Employee:\n",
    "    def __init__(self, name, age, position, start_year):\n",
    "        self.name = name\n",
    "        self.age = age\n",
    "        self.position = position\n",
    "        self.start_year = start_year\n",
    "\n",
    "# Create instances (objects) of the Employee class\n",
    "kirk = Employee(\"James Kirk\", 34, \"Captain\", 2265)\n",
    "spock = Employee(\"Spock\", 35, \"Science Officer\", 2254)\n",
    "mccoy = Employee(\"Leonard McCoy\", 50, \"Chief Medical Officer\", 2266) \n",
    "\n",
    "# Access and print employee data using object attributes\n",
    "print(kirk.name)\n",
    "print(spock.position)\n",
    "print(mccoy.age)"
   ]
  },
  {
   "cell_type": "code",
   "execution_count": 27,
   "id": "0c58e2a9-4f59-443c-8bbd-88e821e0dfc7",
   "metadata": {},
   "outputs": [
    {
     "name": "stdout",
     "output_type": "stream",
     "text": [
      "<__main__.Dog object at 0x0000021ABA072A50>\n",
      "<__main__.Dog object at 0x0000021ABA2956D0>\n",
      "False\n"
     ]
    }
   ],
   "source": [
    "class Dog:\n",
    "  pass\n",
    "\n",
    "# Creating objects\n",
    "a = Dog()\n",
    "b = Dog()\n",
    "\n",
    "# Printing the objects\n",
    "print(a)\n",
    "print(b)\n",
    "\n",
    "# Checking equality of objects\n",
    "print(a == b)"
   ]
  },
  {
   "cell_type": "code",
   "execution_count": 29,
   "id": "512c2c04-62ec-4f2a-bb44-21b05ab9a9d6",
   "metadata": {},
   "outputs": [
    {
     "name": "stdout",
     "output_type": "stream",
     "text": [
      "Are FC1 and FC2 the same object? False\n",
      "FC1: <__main__.MyFirstClass object at 0x0000021ABA379B20>\n",
      "FC2: <__main__.MyFirstClass object at 0x0000021ABA379520>\n"
     ]
    }
   ],
   "source": [
    "class MyFirstClass:\n",
    "    pass\n",
    "\n",
    "# Create two instances\n",
    "FC1 = MyFirstClass()\n",
    "FC2 = MyFirstClass()\n",
    "\n",
    "# Check if they are the same object\n",
    "print(\"Are FC1 and FC2 the same object?\", FC1 is FC2) \n",
    "\n",
    "# Print the instances\n",
    "print(\"FC1:\", FC1)\n",
    "print(\"FC2:\", FC2)"
   ]
  },
  {
   "cell_type": "code",
   "execution_count": 31,
   "id": "03311697-5f5a-4350-9fa7-17e0c4ee85dd",
   "metadata": {},
   "outputs": [
    {
     "name": "stdout",
     "output_type": "stream",
     "text": [
      "point_a: <__main__.Point object at 0x0000021ABA1BE780>\n",
      "point_b: <__main__.Point object at 0x0000021ABA37B110>\n",
      "point1: <__main__.Point object at 0x0000021ABA37A9F0>\n",
      "point_two: <__main__.Point object at 0x0000021ABA37B500>\n"
     ]
    }
   ],
   "source": [
    "class Point:\n",
    "    pass\n",
    "\n",
    "# Create two instances with different names\n",
    "point_a = Point()\n",
    "point_b = Point()\n",
    "\n",
    "# Print the objects\n",
    "print(\"point_a:\", point_a) \n",
    "print(\"point_b:\", point_b) \n",
    "\n",
    "# Create instances with attributes\n",
    "point1 = Point()\n",
    "point1.x = 10\n",
    "point1.y = 20\n",
    "\n",
    "point_two = Point()\n",
    "point_two.coordinate_x = 5\n",
    "point_two.coordinate_y = -3\n",
    "\n",
    "# Print the objects with attributes\n",
    "print(\"point1:\", point1) \n",
    "print(\"point_two:\", point_two)"
   ]
  },
  {
   "cell_type": "code",
   "execution_count": 37,
   "id": "dfe4303c-3fc1-4d7b-a5cf-78c7fa6aecab",
   "metadata": {},
   "outputs": [],
   "source": [
    "class Dog:\n",
    "    def __init__(self, name, age):\n",
    "        self.name = name\n",
    "        self.age = age"
   ]
  },
  {
   "cell_type": "code",
   "execution_count": 41,
   "id": "b195a4e2-7948-49ac-8995-4f61aaf9d05f",
   "metadata": {},
   "outputs": [],
   "source": [
    "miles = Dog(\"Miles\", 4)"
   ]
  },
  {
   "cell_type": "code",
   "execution_count": 49,
   "id": "dc663c0f-5de2-4350-8ed9-888253ca81d6",
   "metadata": {},
   "outputs": [
    {
     "data": {
      "text/plain": [
       "<function print(*args, sep=' ', end='\\n', file=None, flush=False)>"
      ]
     },
     "execution_count": 49,
     "metadata": {},
     "output_type": "execute_result"
    }
   ],
   "source": [
    "print"
   ]
  },
  {
   "cell_type": "code",
   "execution_count": 57,
   "id": "a7796791-1ce2-449d-b013-81520ff08026",
   "metadata": {},
   "outputs": [],
   "source": [
    "class Dog:\n",
    "    def __init__(self, name, age):\n",
    "        self.name = name\n",
    "        self.age = age"
   ]
  },
  {
   "cell_type": "code",
   "execution_count": 59,
   "id": "fd7bf77f-3b95-4d7b-8eb5-eacef1cbb106",
   "metadata": {},
   "outputs": [],
   "source": [
    "Run: miles = Dog(\"Miles\", 4)"
   ]
  },
  {
   "cell_type": "code",
   "execution_count": 63,
   "id": "c00fd9a7-2add-47b7-ae8c-f0d8b4ad51af",
   "metadata": {},
   "outputs": [
    {
     "data": {
      "text/plain": [
       "<function print(*args, sep=' ', end='\\n', file=None, flush=False)>"
      ]
     },
     "execution_count": 63,
     "metadata": {},
     "output_type": "execute_result"
    }
   ],
   "source": [
    "print"
   ]
  },
  {
   "cell_type": "code",
   "execution_count": 67,
   "id": "2d13b096-967e-4491-bd15-a1e9950d9da8",
   "metadata": {},
   "outputs": [],
   "source": [
    "class Dog:\n",
    "    species = \"Canis familiaris\"\n",
    "    def __init__(self, name, age):\n",
    "        self.name = name\n",
    "        self.age = age"
   ]
  },
  {
   "cell_type": "code",
   "execution_count": 71,
   "id": "ce532991-a3e5-4626-b39f-1339696c6c35",
   "metadata": {},
   "outputs": [
    {
     "name": "stdout",
     "output_type": "stream",
     "text": [
      "My dog's name is Buddy and he is 5 years old.\n"
     ]
    }
   ],
   "source": [
    "class Dog:\n",
    "    def __init__(self, name, age):\n",
    "        self.name = name\n",
    "        self.age = age\n",
    "\n",
    "# Correctly initializing the Dog object\n",
    "my_dog = Dog(name=\"Buddy\", age=5)\n",
    "\n",
    "print(f\"My dog's name is {my_dog.name} and he is {my_dog.age} years old.\")\n"
   ]
  },
  {
   "cell_type": "code",
   "execution_count": 73,
   "id": "7a268e36-1877-454f-88ce-fad457433fc8",
   "metadata": {},
   "outputs": [],
   "source": [
    "miles = Dog(\"Miles\", 4)"
   ]
  },
  {
   "cell_type": "code",
   "execution_count": 75,
   "id": "6e54e60f-948d-4577-a6d2-30ce9631e007",
   "metadata": {},
   "outputs": [],
   "source": [
    "miles = Dog(\"Miles\", 4)"
   ]
  },
  {
   "cell_type": "code",
   "execution_count": 77,
   "id": "d8e10153-7c14-4801-8481-145845462376",
   "metadata": {},
   "outputs": [
    {
     "data": {
      "text/plain": [
       "'Miles'"
      ]
     },
     "execution_count": 77,
     "metadata": {},
     "output_type": "execute_result"
    }
   ],
   "source": [
    "miles.name"
   ]
  },
  {
   "cell_type": "code",
   "execution_count": 79,
   "id": "2550a517-e5c4-499a-a124-926e929b6690",
   "metadata": {},
   "outputs": [
    {
     "data": {
      "text/plain": [
       "4"
      ]
     },
     "execution_count": 79,
     "metadata": {},
     "output_type": "execute_result"
    }
   ],
   "source": [
    "miles.age"
   ]
  },
  {
   "cell_type": "code",
   "execution_count": 85,
   "id": "b89f1226-b355-4672-be36-d63fd0156b9f",
   "metadata": {},
   "outputs": [
    {
     "data": {
      "text/plain": [
       "5"
      ]
     },
     "execution_count": 85,
     "metadata": {},
     "output_type": "execute_result"
    }
   ],
   "source": [
    "buddy.name\n",
    "buddy.age"
   ]
  },
  {
   "cell_type": "code",
   "execution_count": 87,
   "id": "c44bcaa8-62fc-4fbd-ad73-5277f1cf3b01",
   "metadata": {},
   "outputs": [],
   "source": [
    "buddy.age = 1"
   ]
  },
  {
   "cell_type": "code",
   "execution_count": 89,
   "id": "bf2fc429-81bd-47c4-a871-83a4b860484d",
   "metadata": {},
   "outputs": [
    {
     "data": {
      "text/plain": [
       "1"
      ]
     },
     "execution_count": 89,
     "metadata": {},
     "output_type": "execute_result"
    }
   ],
   "source": [
    "buddy.age"
   ]
  },
  {
   "cell_type": "code",
   "execution_count": 91,
   "id": "0cf363d1-1189-4241-a394-fa98a00e0c53",
   "metadata": {},
   "outputs": [],
   "source": [
    "miles.species = \"Felis silvestris\""
   ]
  },
  {
   "cell_type": "code",
   "execution_count": 93,
   "id": "f847b3f4-0923-4789-a3c0-cb9342239200",
   "metadata": {},
   "outputs": [
    {
     "data": {
      "text/plain": [
       "'Felis silvestris'"
      ]
     },
     "execution_count": 93,
     "metadata": {},
     "output_type": "execute_result"
    }
   ],
   "source": [
    "miles.species"
   ]
  },
  {
   "cell_type": "code",
   "execution_count": 97,
   "id": "f2d5fadb-d480-4125-b50f-b13274a9686a",
   "metadata": {},
   "outputs": [],
   "source": [
    "import math\n",
    "\n",
    "class Point:\n",
    "    \"\"\"\n",
    "    A class to represent a point in a 2D coordinate system.\n",
    "    \n",
    "    Attributes:\n",
    "    x (float): The x-coordinate of the point.\n",
    "    y (float): The y-coordinate of the point.\n",
    "    \n",
    "    Methods:\n",
    "    __init__(x: float, y: float): Initializes the point with coordinates (x, y).\n",
    "    distance(other: Point) -> float: Calculates the distance between this point and another point.\n",
    "    show() -> tuple: Returns a tuple representing the point (x, y).\n",
    "    locate() -> str: Determines and returns the quadrant or axis where the point is located.\n",
    "    \"\"\"\n",
    "    \n"
   ]
  },
  {
   "cell_type": "code",
   "execution_count": 99,
   "id": "4873b493-4f59-44ca-a067-34223ca3ce1c",
   "metadata": {},
   "outputs": [],
   "source": [
    "def __init__(self, x: float, y: float):\n",
    "        \"\"\"\n",
    "        Initializes the point with given coordinates.\n",
    "        \n",
    "        Parameters:\n",
    "        x (float): The x-coordinate of the point.\n",
    "        y (float): The y-coordinate of the point.\n",
    "        \"\"\"\n",
    "        self.x = x\n",
    "        self.y = y\n",
    "\n"
   ]
  },
  {
   "cell_type": "code",
   "execution_count": 101,
   "id": "461a2843-37da-4178-98e2-7b208a106eb0",
   "metadata": {},
   "outputs": [],
   "source": [
    " def distance(self, other: 'Point') -> float:\n",
    "        \"\"\"\n",
    "        Calculates the distance between the current point and another point.\n",
    "        \n",
    "        Parameters:\n",
    "        other (Point): The other point to calculate the distance from.\n",
    "        \n",
    "        Returns:\n",
    "        float: The distance between the two points.\n",
    "        \"\"\"\n",
    "        return math.sqrt((self.x - other.x) ** 2 + (self.y - other.y) ** 2)\n",
    "\n"
   ]
  },
  {
   "cell_type": "code",
   "execution_count": 103,
   "id": "dcc1dbcc-e0f3-40b9-a06e-cf4d07615898",
   "metadata": {},
   "outputs": [],
   "source": [
    "def show(self) -> tuple:\n",
    "        \"\"\"\n",
    "        Displays the coordinates of the point as a tuple (x, y).\n",
    "        \n",
    "        Returns:\n",
    "        tuple: A tuple representing the coordinates of the point.\n",
    "        \"\"\"\n",
    "        return (self.x, self.y)\n",
    "\n"
   ]
  },
  {
   "cell_type": "code",
   "execution_count": 108,
   "id": "91273a3f-2e02-4efd-9ff1-3f5ad0e4a984",
   "metadata": {},
   "outputs": [],
   "source": [
    "import math\n",
    "\n",
    "class Point:\n",
    "    \"\"\"\n",
    "    A class to represent a point in a 2D coordinate system.\n",
    "    \n",
    "    Attributes:\n",
    "    x (float): The x-coordinate of the point.\n",
    "    y (float): The y-coordinate of the point.\n",
    "    \n",
    "    Methods:\n",
    "    __init__(x: float, y: float): Initializes the point with coordinates (x, y).\n",
    "    distance(other: Point) -> float: Calculates the distance between this point and another point.\n",
    "    show() -> tuple: Returns a tuple representing the point (x, y).\n",
    "    locate() -> str: Determines and returns the quadrant or axis where the point is located.\n",
    "    print_point(): Prints the point in a readable format (e.g., \"Point(x, y)\").\n",
    "    \"\"\"\n",
    "    \n"
   ]
  },
  {
   "cell_type": "code",
   "execution_count": 110,
   "id": "4a0087f5-2744-4228-9664-159b8a6a9015",
   "metadata": {},
   "outputs": [],
   "source": [
    " def __init__(self, x: float, y: float):\n",
    "        self.x = x\n",
    "        self.y = y\n",
    "\n"
   ]
  },
  {
   "cell_type": "code",
   "execution_count": 112,
   "id": "caea2fd8-1478-4801-a297-4a42ca7e18f2",
   "metadata": {},
   "outputs": [],
   "source": [
    "def distance(self, other: 'Point') -> float:\n",
    "        return math.sqrt((self.x - other.x) ** 2 + (self.y - other.y) ** 2)\n",
    "\n"
   ]
  },
  {
   "cell_type": "code",
   "execution_count": 114,
   "id": "d63e839a-6d87-437d-9f2d-864792556078",
   "metadata": {},
   "outputs": [],
   "source": [
    "def show(self) -> tuple:\n",
    "        return (self.x, self.y)\n",
    "\n"
   ]
  },
  {
   "cell_type": "code",
   "execution_count": 116,
   "id": "e155258c-303b-4647-b944-96fc37267762",
   "metadata": {},
   "outputs": [],
   "source": [
    "def locate(self) -> str:\n",
    "        if self.x > 0 and self.y > 0:\n",
    "            return \"Quadrant I\"\n",
    "        elif self.x < 0 and self.y > 0:\n",
    "            return \"Quadrant II\"\n",
    "        elif self.x < 0 and self.y < 0:\n",
    "            return \"Quadrant III\"\n",
    "        elif self.x > 0 and self.y < 0:\n",
    "            return \"Quadrant IV\"\n",
    "        elif self.x == 0 and self.y != 0:\n",
    "            return \"On the Y-axis\"\n",
    "        elif self.y == 0 and self.x != 0:\n",
    "            return \"On the X-axis\"\n",
    "        elif self.x == 0 and self.y == 0:\n",
    "            return \"At the origin\"\n",
    "\n"
   ]
  },
  {
   "cell_type": "code",
   "execution_count": 130,
   "id": "b8f53fb3-7182-4f88-9a4f-5e76200770b3",
   "metadata": {},
   "outputs": [],
   "source": [
    "import math\n",
    "\n",
    "class Point:\n",
    "    \"\"\"\n",
    "    A class to represent a point in a 2D coordinate system.\n",
    "    \n",
    "    Attributes:\n",
    "    x (float): The x-coordinate of the point. Defaults to 0.\n",
    "    y (float): The y-coordinate of the point. Defaults to 0.\n",
    "    \n",
    "    Methods:\n",
    "    __init__(x: float = 0, y: float = 0): Initializes the point with coordinates (x, y), defaulting to (0, 0).\n",
    "    distance(other: Point) -> float: Calculates the distance between this point and another point.\n",
    "    show() -> tuple: Returns a tuple representing the point (x, y).\n",
    "    locate() -> str: Determines and returns the quadrant or axis where the point is located.\n",
    "    print_point(): Prints the point in a readable format (e.g., \"Point(x, y)\").\n",
    "    \"\"\"\n",
    "    \n"
   ]
  },
  {
   "cell_type": "code",
   "execution_count": 132,
   "id": "9ef1461e-5649-49ca-9a7c-79d83aae08fc",
   "metadata": {},
   "outputs": [],
   "source": [
    " def __init__(self, x: float = 0, y: float = 0):\n",
    "        \"\"\"\n",
    "        Initializes the point with given coordinates. Defaults to (0, 0).\n",
    "        \n",
    "        Parameters:\n",
    "        x (float): The x-coordinate of the point. Defaults to 0.\n",
    "        y (float): The y-coordinate of the point. Defaults to 0.\n",
    "        \"\"\"\n",
    "        self.x = x\n",
    "        self.y = y\n",
    "\n"
   ]
  },
  {
   "cell_type": "code",
   "execution_count": 134,
   "id": "6050548c-a2f9-445f-b9bc-4d5633eb2e01",
   "metadata": {},
   "outputs": [],
   "source": [
    "def distance(self, other: 'Point') -> float:\n",
    "        return math.sqrt((self.x - other.x) ** 2 + (self.y - other.y) ** 2)\n",
    "\n"
   ]
  },
  {
   "cell_type": "code",
   "execution_count": 136,
   "id": "a054acd0-661d-4eef-ba73-845eedbfbcdc",
   "metadata": {},
   "outputs": [],
   "source": [
    "def show(self) -> tuple:\n",
    "        return (self.x, self.y)\n",
    "\n"
   ]
  },
  {
   "cell_type": "code",
   "execution_count": 138,
   "id": "884cc93a-c9ed-4a6c-aa47-17155605a3a2",
   "metadata": {},
   "outputs": [],
   "source": [
    "def locate(self) -> str:\n",
    "        if self.x > 0 and self.y > 0:\n",
    "            return \"Quadrant I\"\n",
    "        elif self.x < 0 and self.y > 0:\n",
    "            return \"Quadrant II\"\n",
    "        elif self.x < 0 and self.y < 0:\n",
    "            return \"Quadrant III\"\n",
    "        elif self.x > 0 and self.y < 0:\n",
    "            return \"Quadrant IV\"\n",
    "        elif self.x == 0 and self.y != 0:\n",
    "            return \"On the Y-axis\"\n",
    "        elif self.y == 0 and self.x != 0:\n",
    "            return \"On the X-axis\"\n",
    "        elif self.x == 0 and self.y == 0:\n",
    "            return \"At the origin\"\n",
    "\n"
   ]
  },
  {
   "cell_type": "code",
   "execution_count": 140,
   "id": "5abf9b44-4be5-4363-8508-0e07fa172955",
   "metadata": {},
   "outputs": [],
   "source": [
    " def print_point(self):\n",
    "        \"\"\"\n",
    "        Prints the point in a readable format: 'Point(x, y)'.\n",
    "        \"\"\"\n",
    "        print(f\"Point({self.x}, {self.y})\")\n"
   ]
  },
  {
   "cell_type": "code",
   "execution_count": 150,
   "id": "df1a4cbc-bc5e-40ba-931a-951e7c29f18a",
   "metadata": {},
   "outputs": [],
   "source": [
    "point_1=print_point"
   ]
  },
  {
   "cell_type": "code",
   "execution_count": 152,
   "id": "a98621b4-53d2-4aac-bcf5-47847ed8153d",
   "metadata": {},
   "outputs": [],
   "source": [
    "point_2=print_point"
   ]
  },
  {
   "cell_type": "code",
   "execution_count": 154,
   "id": "ef2daedc-2626-4f96-80d9-9ba1c3575c5d",
   "metadata": {},
   "outputs": [],
   "source": [
    "point_3=print_point"
   ]
  },
  {
   "cell_type": "code",
   "execution_count": null,
   "id": "fdd683d4-a4c0-45b2-98a7-50e5cbb84999",
   "metadata": {},
   "outputs": [],
   "source": []
  }
 ],
 "metadata": {
  "kernelspec": {
   "display_name": "Python 3 (ipykernel)",
   "language": "python",
   "name": "python3"
  },
  "language_info": {
   "codemirror_mode": {
    "name": "ipython",
    "version": 3
   },
   "file_extension": ".py",
   "mimetype": "text/x-python",
   "name": "python",
   "nbconvert_exporter": "python",
   "pygments_lexer": "ipython3",
   "version": "3.12.4"
  }
 },
 "nbformat": 4,
 "nbformat_minor": 5
}
