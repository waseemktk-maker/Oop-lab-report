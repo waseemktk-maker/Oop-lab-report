{
 "cells": [
  {
   "cell_type": "markdown",
   "id": "c8b72834-b464-41d1-ad23-35f928069361",
   "metadata": {},
   "source": [
    "# SEBGHAT ULLAH\n",
    "# 0523"
   ]
  },
  {
   "cell_type": "markdown",
   "id": "c9a841db-e1cf-4c12-9c9a-222796fb1bcd",
   "metadata": {},
   "source": [
    "# Lab Report Tasks:"
   ]
  },
  {
   "cell_type": "code",
   "execution_count": 2,
   "id": "2deb8f9b-b66d-443f-9a39-5f149481d28b",
   "metadata": {},
   "outputs": [],
   "source": [
    "def calculate_voltage(current, resistance):\n",
    "    \"\"\"\n",
    "    Calculates the voltage across a resistance using Ohm's Law.\n",
    "\n",
    "    Args:\n",
    "        current (float): The current flowing through the resistance (in amperes).\n",
    "        resistance (float): The value of the resistance (in ohms).\n",
    "\n",
    "    Returns:\n",
    "        float: The voltage across the resistance (in volts).\n",
    "    \"\"\"\n",
    "    return current * resistance"
   ]
  },
  {
   "cell_type": "code",
   "execution_count": 9,
   "id": "03674965-60a9-43fc-a6d9-40a292bf1d61",
   "metadata": {},
   "outputs": [
    {
     "name": "stdout",
     "output_type": "stream",
     "text": [
      "Voltage (positional): 20 V\n"
     ]
    }
   ],
   "source": [
    "# a) Positional arguments\n",
    "voltage_a = calculate_voltage(2, 10)  # current = 2A, resistance = 10 ohms\n",
    "print(f\"Voltage (positional): {voltage_a} V\")"
   ]
  },
  {
   "cell_type": "code",
   "execution_count": 11,
   "id": "c59620f0-b23e-4058-b9e8-038e801510bd",
   "metadata": {},
   "outputs": [
    {
     "name": "stdout",
     "output_type": "stream",
     "text": [
      "Voltage (keyword): 20 V\n"
     ]
    }
   ],
   "source": [
    "# b) Keyword arguments\n",
    "voltage_b = calculate_voltage(current=2, resistance=10)\n",
    "print(f\"Voltage (keyword): {voltage_b} V\")"
   ]
  },
  {
   "cell_type": "code",
   "execution_count": 15,
   "id": "0b118f91-a324-4ceb-a1bd-1902d5619ed6",
   "metadata": {},
   "outputs": [
    {
     "name": "stdout",
     "output_type": "stream",
     "text": [
      "Voltage (default): 200 V\n",
      "Voltage (default, overriding): 100 V\n"
     ]
    }
   ],
   "source": [
    "# c) Default arguments\n",
    "def calculate_voltage_default(current, resistance=100): \n",
    "    \"\"\"\n",
    "    Calculates voltage with default resistance.\n",
    "    \"\"\"\n",
    "    return current * resistance\n",
    "\n",
    "voltage_c = calculate_voltage_default(2)  # Using default resistance\n",
    "print(f\"Voltage (default): {voltage_c} V\")\n",
    "voltage_c1 = calculate_voltage_default(2, resistance=50) \n",
    "print(f\"Voltage (default, overriding): {voltage_c1} V\")\n"
   ]
  },
  {
   "cell_type": "code",
   "execution_count": 17,
   "id": "735978f8-a8e3-4ead-b9a8-eb2281b287c6",
   "metadata": {},
   "outputs": [
    {
     "name": "stdout",
     "output_type": "stream",
     "text": [
      "Voltage (mixed): 20 V\n"
     ]
    }
   ],
   "source": [
    "# d) Mixing argument styles\n",
    "voltage_d = calculate_voltage(current=2, resistance=10)  # Keyword first, then positional\n",
    "print(f\"Voltage (mixed): {voltage_d} V\") \n"
   ]
  },
  {
   "cell_type": "code",
   "execution_count": 19,
   "id": "0130cf18-5e5d-4dcf-bd61-59f8a3893bb7",
   "metadata": {},
   "outputs": [
    {
     "name": "stdout",
     "output_type": "stream",
     "text": [
      "Error: calculate_voltage() missing 1 required positional argument: 'resistance'\n"
     ]
    }
   ],
   "source": [
    "# e) Passing less number of arguments\n",
    "try:\n",
    "    voltage_e = calculate_voltage(2)  # Missing resistance argument\n",
    "except TypeError as e:\n",
    "    print(f\"Error: {e}\")"
   ]
  },
  {
   "cell_type": "code",
   "execution_count": 21,
   "id": "29071afe-9566-4252-8c3a-a845fa2cc84e",
   "metadata": {},
   "outputs": [
    {
     "ename": "SyntaxError",
     "evalue": "positional argument follows keyword argument (2166292973.py, line 3)",
     "output_type": "error",
     "traceback": [
      "\u001b[1;36m  Cell \u001b[1;32mIn[21], line 3\u001b[1;36m\u001b[0m\n\u001b[1;33m    voltage_f = calculate_voltage(current=2, 10)  # Positional after keyword\u001b[0m\n\u001b[1;37m                                               ^\u001b[0m\n\u001b[1;31mSyntaxError\u001b[0m\u001b[1;31m:\u001b[0m positional argument follows keyword argument\n"
     ]
    }
   ],
   "source": [
    "\n",
    "# f) Verifying positional argument after keyword argument\n",
    "try:\n",
    "    voltage_f = calculate_voltage(current=2, 10)  # Positional after keyword\n",
    "except TypeError as e:\n",
    "    print(f\"Error: {e}\") "
   ]
  },
  {
   "cell_type": "markdown",
   "id": "d4a8c0d4-df9f-4825-9b8a-660ab71dc3e6",
   "metadata": {},
   "source": [
    "# Lab work tasks:"
   ]
  },
  {
   "cell_type": "code",
   "execution_count": 34,
   "id": "da849ace-b5e5-4897-85af-0c9d55894562",
   "metadata": {},
   "outputs": [
    {
     "name": "stdout",
     "output_type": "stream",
     "text": [
      "Hey, Alice!\n"
     ]
    }
   ],
   "source": [
    "from string import Template \n",
    "name = \"Alice\"\n",
    "t = Template('Hey, $name!')\n",
    "result = t.substitute(name=name)\n",
    "print(result)  \n"
   ]
  },
  {
   "cell_type": "code",
   "execution_count": 42,
   "id": "8f9569d4-8106-4ce4-b042-685f562cd62d",
   "metadata": {},
   "outputs": [
    {
     "data": {
      "text/plain": [
       "'Hey Alice, there is a 0x2a error!'"
      ]
     },
     "execution_count": 42,
     "metadata": {},
     "output_type": "execute_result"
    }
   ],
   "source": [
    "templ_string = 'Hey $name, there is a $error error!'\n",
    "Template(templ_string).substitute(name=name, error=hex(errno))"
   ]
  },
  {
   "cell_type": "code",
   "execution_count": 46,
   "id": "95de0cd5-6d09-4282-b0f2-ebe899c5d6a6",
   "metadata": {},
   "outputs": [
    {
     "name": "stdout",
     "output_type": "stream",
     "text": [
      "3\n",
      "3\n",
      "0\n",
      "5\n",
      "0\n"
     ]
    }
   ],
   "source": [
    "list1 = [1, 2, 3]\n",
    "list2 = ['a', 'b', 'c']\n",
    "list3 = []\n",
    "string1 = \"Hello\"\n",
    "string2 = \"\"\n",
    "\n",
    "print(len(list1))  \n",
    "print(len(list2))  \n",
    "print(len(list3))  \n",
    "print(len(string1))  \n",
    "print(len(string2))  "
   ]
  },
  {
   "cell_type": "code",
   "execution_count": 50,
   "id": "61ee52cc-d889-4be8-a6f5-7137f11eb12c",
   "metadata": {},
   "outputs": [
    {
     "name": "stdout",
     "output_type": "stream",
     "text": [
      "True\n",
      "False\n",
      "True\n"
     ]
    }
   ],
   "source": [
    "number1 = 5\n",
    "number2 = 3.14\n",
    "number3 = 5.0\n",
    "\n",
    "print(number1.is_integer())  \n",
    "print(number2.is_integer())  \n",
    "print(number3.is_integer())  "
   ]
  },
  {
   "cell_type": "code",
   "execution_count": 54,
   "id": "21025329-adcc-4e2d-be93-b4196fc745e4",
   "metadata": {},
   "outputs": [
    {
     "name": "stdout",
     "output_type": "stream",
     "text": [
      "(2-3j)\n",
      "-1j\n",
      "(-2+1j)\n"
     ]
    }
   ],
   "source": [
    "complex_number1 = 2 + 3j\n",
    "complex_number2 = 1j\n",
    "complex_number3 = -2 - 1j\n",
    "\n",
    "print(complex_number1.conjugate()) \n",
    "print(complex_number2.conjugate()) \n",
    "print(complex_number3.conjugate())  "
   ]
  },
  {
   "cell_type": "code",
   "execution_count": 58,
   "id": "21102d3b-ab47-40ad-94a3-865e1f81dc38",
   "metadata": {},
   "outputs": [],
   "source": [
    "def print_student_info(name, registration_number):\n",
    "  \"\"\"\n",
    "  Prints the name and registration number of a student.\n",
    "\n",
    "  Args:\n",
    "    name: The name of the student.\n",
    "    registration_number: The registration number of the student.\n",
    "  \"\"\"\n",
    "  print(f\"Student Name: {name}\")\n",
    "  print(f\"Registration Number: {registration_number}\")\n",
    "\n"
   ]
  },
  {
   "cell_type": "code",
   "execution_count": 60,
   "id": "2ed84fdb-b02b-4e7e-926f-f67edb0b4e67",
   "metadata": {},
   "outputs": [
    {
     "name": "stdout",
     "output_type": "stream",
     "text": [
      "Student Name: Alice Wonderland\n",
      "Registration Number: 2023ABC123\n"
     ]
    }
   ],
   "source": [
    "# a. Positional arguments\n",
    "print_student_info(\"Alice Wonderland\", \"2023ABC123\") "
   ]
  },
  {
   "cell_type": "code",
   "execution_count": 62,
   "id": "859d719c-b454-49f1-b614-c6e4844d4238",
   "metadata": {},
   "outputs": [
    {
     "name": "stdout",
     "output_type": "stream",
     "text": [
      "Student Name: Bob Hope\n",
      "Registration Number: 2023DEF456\n"
     ]
    }
   ],
   "source": [
    "# b. Keyword arguments\n",
    "print_student_info(registration_number=\"2023DEF456\", name=\"Bob Hope\")"
   ]
  },
  {
   "cell_type": "code",
   "execution_count": 64,
   "id": "291dbff6-6d12-401b-8b97-abbcc7adfaeb",
   "metadata": {},
   "outputs": [
    {
     "name": "stdout",
     "output_type": "stream",
     "text": [
      "Student Name: Charlie Chaplin\n",
      "Registration Number: 2023XYZ789\n"
     ]
    }
   ],
   "source": [
    "# c. Default arguments\n",
    "def print_student_info_default(name, registration_number=\"2023XYZ789\"):\n",
    "  \"\"\"\n",
    "  Prints the student name and registration number. \n",
    "  Uses a default value for registration number.\n",
    "\n",
    "  Args:\n",
    "    name: The name of the student.\n",
    "    registration_number: The registration number of the student. \n",
    "      Defaults to \"2023XYZ789\".\n",
    "  \"\"\"\n",
    "  print(f\"Student Name: {name}\")\n",
    "  print(f\"Registration Number: {registration_number}\")\n",
    "\n",
    "print_student_info_default(\"Charlie Chaplin\") "
   ]
  },
  {
   "cell_type": "code",
   "execution_count": 66,
   "id": "3cc10355-de2a-4e6d-a883-28a40ddaa5d3",
   "metadata": {},
   "outputs": [
    {
     "name": "stdout",
     "output_type": "stream",
     "text": [
      "Student Name: David Beckham\n",
      "Registration Number: 2023GHI001\n"
     ]
    }
   ],
   "source": [
    "# d. Passing arguments of one style to the other\n",
    "# Positional to keyword\n",
    "print_student_info(name=\"David Beckham\", registration_number=\"2023GHI001\") "
   ]
  },
  {
   "cell_type": "code",
   "execution_count": 68,
   "id": "b88611a9-b00d-4de6-9500-7f1d1243a796",
   "metadata": {},
   "outputs": [
    {
     "name": "stdout",
     "output_type": "stream",
     "text": [
      "Error: print_student_info() missing 1 required positional argument: 'registration_number'\n"
     ]
    }
   ],
   "source": [
    "# e. Passing less number of arguments and checking error message\n",
    "try:\n",
    "  print_student_info(\"Eve Green\") \n",
    "except TypeError as e:\n",
    "  print(f\"Error: {e}\") "
   ]
  },
  {
   "cell_type": "code",
   "execution_count": 70,
   "id": "27752b72-1d5b-4a80-89f7-0cf5303622fb",
   "metadata": {},
   "outputs": [
    {
     "name": "stdout",
     "output_type": "stream",
     "text": [
      "Error: print_student_info() got multiple values for argument 'name'\n"
     ]
    }
   ],
   "source": [
    "# f. Verifying positional argument follows keyword argument\n",
    "try:\n",
    "  print_student_info(\"Frank Sinatra\", name=\"Fred Astaire\") \n",
    "except TypeError as e:\n",
    "  print(f\"Error: {e}\")"
   ]
  },
  {
   "cell_type": "code",
   "execution_count": 72,
   "id": "a07d854b-5466-47b0-b464-32871a3bf4db",
   "metadata": {},
   "outputs": [],
   "source": [
    "def calculate_voltage(current, resistance):\n",
    "  \"\"\"\n",
    "  Calculates the voltage across a resistance using Ohm's Law (V = I * R).\n",
    "\n",
    "  Args:\n",
    "    current: The current flowing through the resistance in amperes (A).\n",
    "    resistance: The resistance value in ohms (Ω).\n",
    "\n",
    "  Returns:\n",
    "    The voltage across the resistance in volts (V).\n",
    "  \"\"\"\n",
    "  return current * resistance\n"
   ]
  },
  {
   "cell_type": "code",
   "execution_count": 74,
   "id": "7c73756b-9e52-47b2-9d0c-a52a736cdf96",
   "metadata": {},
   "outputs": [
    {
     "name": "stdout",
     "output_type": "stream",
     "text": [
      "Voltage (positional): 20 V\n"
     ]
    }
   ],
   "source": [
    "# a. Positional arguments\n",
    "current_a = 2  # amperes\n",
    "resistance_a = 10  # ohms\n",
    "voltage_a = calculate_voltage(current_a, resistance_a)\n",
    "print(f\"Voltage (positional): {voltage_a} V\")\n"
   ]
  },
  {
   "cell_type": "code",
   "execution_count": 76,
   "id": "e69fef82-016d-4186-b0d3-7c9c75814d01",
   "metadata": {},
   "outputs": [
    {
     "name": "stdout",
     "output_type": "stream",
     "text": [
      "Voltage (keyword): 15 V\n"
     ]
    }
   ],
   "source": [
    "# b. Keyword arguments\n",
    "current_b = 3  # amperes\n",
    "resistance_b = 5  # ohms\n",
    "voltage_b = calculate_voltage(current=current_b, resistance=resistance_b)\n",
    "print(f\"Voltage (keyword): {voltage_b} V\")"
   ]
  },
  {
   "cell_type": "code",
   "execution_count": 78,
   "id": "d1edd491-797e-4215-bbb2-34504751609b",
   "metadata": {},
   "outputs": [
    {
     "name": "stdout",
     "output_type": "stream",
     "text": [
      "Voltage (default): 100 V\n"
     ]
    }
   ],
   "source": [
    "# c. Default arguments\n",
    "def calculate_voltage_default(current, resistance=100):\n",
    "  \"\"\"\n",
    "  Calculates the voltage across a resistance using Ohm's Law.\n",
    "  Uses a default resistance value of 100 ohms.\n",
    "\n",
    "  Args:\n",
    "    current: The current flowing through the resistance in amperes (A).\n",
    "    resistance: The resistance value in ohms (Ω). Defaults to 100.\n",
    "\n",
    "  Returns:\n",
    "    The voltage across the resistance in volts (V).\n",
    "  \"\"\"\n",
    "  return current * resistance\n",
    "\n",
    "current_c = 1  # amperes\n",
    "voltage_c = calculate_voltage_default(current_c)\n",
    "print(f\"Voltage (default): {voltage_c} V\")\n"
   ]
  },
  {
   "cell_type": "code",
   "execution_count": 80,
   "id": "b47fdd60-a2ba-4913-82ee-72b0513d7a34",
   "metadata": {},
   "outputs": [
    {
     "name": "stdout",
     "output_type": "stream",
     "text": [
      "Voltage (mixed): 80 V\n"
     ]
    }
   ],
   "source": [
    "# d. Passing arguments of one style to the other\n",
    "current_d = 4  # amperes\n",
    "voltage_d = calculate_voltage(current=current_d, resistance=20)\n",
    "print(f\"Voltage (mixed): {voltage_d} V\")\n"
   ]
  },
  {
   "cell_type": "code",
   "execution_count": 82,
   "id": "e28f0ec8-3af5-4d8f-bbd4-5c3cb8a0e11e",
   "metadata": {},
   "outputs": [
    {
     "name": "stdout",
     "output_type": "stream",
     "text": [
      "Error: calculate_voltage() missing 1 required positional argument: 'resistance'\n"
     ]
    }
   ],
   "source": [
    "# e. Passing less number of arguments and checking error message\n",
    "try:\n",
    "  voltage_e = calculate_voltage(current=5) \n",
    "except TypeError as e:\n",
    "  print(f\"Error: {e}\") \n"
   ]
  },
  {
   "cell_type": "code",
   "execution_count": 84,
   "id": "65c7775d-2147-432a-9564-1581aedcb746",
   "metadata": {},
   "outputs": [
    {
     "name": "stdout",
     "output_type": "stream",
     "text": [
      "Error: calculate_voltage() got multiple values for argument 'current'\n"
     ]
    }
   ],
   "source": [
    "# f. Verifying positional argument follows keyword argument\n",
    "try:\n",
    "  voltage_f = calculate_voltage(1, resistance=5, current=2) \n",
    "except TypeError as e:\n",
    "  print(f\"Error: {e}\")"
   ]
  },
  {
   "cell_type": "code",
   "execution_count": 86,
   "id": "aca35693-73c8-4c2a-9088-6a3667bb65b4",
   "metadata": {},
   "outputs": [
    {
     "name": "stdout",
     "output_type": "stream",
     "text": [
      "\n",
      "  Determines the charging status of a battery based on its State of Charge (SOC).\n",
      "\n",
      "  Args:\n",
      "    SOC: The current State of Charge of the battery as a percentage (float).\n",
      "\n",
      "  Returns:\n",
      "    A string indicating the charging status:\n",
      "      - \"Charging\" if SOC is less than 20%.\n",
      "      - \"Battery will be charged. There is {SOC:.2f}% of charge in the battery.\" \n",
      "        if SOC is between 20% and 90%.\n",
      "      - \"No charging needed.\" if SOC is greater than or equal to 90%. \n",
      "  \n"
     ]
    }
   ],
   "source": [
    "def charge_from_solar(SOC: float) -> str:\n",
    "  \"\"\"\n",
    "  Determines the charging status of a battery based on its State of Charge (SOC).\n",
    "\n",
    "  Args:\n",
    "    SOC: The current State of Charge of the battery as a percentage (float).\n",
    "\n",
    "  Returns:\n",
    "    A string indicating the charging status:\n",
    "      - \"Charging\" if SOC is less than 20%.\n",
    "      - \"Battery will be charged. There is {SOC:.2f}% of charge in the battery.\" \n",
    "        if SOC is between 20% and 90%.\n",
    "      - \"No charging needed.\" if SOC is greater than or equal to 90%. \n",
    "  \"\"\"\n",
    "  if SOC < 20:\n",
    "    return \"Charging\"\n",
    "  elif SOC >= 90:\n",
    "    return \"No charging needed.\"\n",
    "  else:\n",
    "    return f\"Battery will be charged. There is {SOC:.2f}% of charge in the battery.\"\n",
    "\n",
    "# Print the docstring\n",
    "print(charge_from_solar.__doc__)"
   ]
  },
  {
   "cell_type": "code",
   "execution_count": 88,
   "id": "2fee47b6-1afc-45a8-94d4-598a70bdbdaa",
   "metadata": {},
   "outputs": [
    {
     "name": "stdout",
     "output_type": "stream",
     "text": [
      "Resistances: [10, 20, 30, 40, 50]\n",
      "Voltages: [10, 20, 30, 40, 50]\n",
      "Currents: [1.0, 1.0, 1.0, 1.0, 1.0]\n",
      "\n",
      "Part b: Data in tuple\n",
      "([10, 20, 30, 40, 50], [10, 20, 30, 40, 50], [1.0, 1.0, 1.0, 1.0, 1.0])\n",
      "\n",
      "Part c: Data as dictionary\n",
      "{'current_1': 1.0, 'current_2': 1.0, 'current_3': 1.0, 'current_4': 1.0, 'current_5': 1.0}\n"
     ]
    }
   ],
   "source": [
    "def resistance() -> list[float]:\n",
    "    \"\"\"\n",
    "    This function returns a list of five resistance values.\n",
    "\n",
    "    Returns:\n",
    "        A list of five resistance values.\n",
    "    \"\"\"\n",
    "    return [10, 20, 30, 40, 50]\n",
    "\n",
    "def voltage() -> list[float]:\n",
    "    \"\"\"\n",
    "    This function returns a list of five voltage values.\n",
    "\n",
    "    Returns:\n",
    "        A list of five voltage values.\n",
    "    \"\"\"\n",
    "    return [10, 20, 30, 40, 50]\n",
    "\n",
    "def current(resistances: list[float], voltages: list[float]) -> list[float]:\n",
    "    \"\"\"\n",
    "    This function calculates the current flowing through each resistor.\n",
    "\n",
    "    Args:\n",
    "        resistances: A list of resistance values.\n",
    "        voltages: A list of voltage values.\n",
    "\n",
    "    Returns:\n",
    "        A list of current values.\n",
    "    \"\"\"\n",
    "    currents = []\n",
    "    for i in range(len(resistances)):\n",
    "        currents.append(voltages[i] / resistances[i])\n",
    "    return currents\n",
    "\n",
    "if __name__ == \"__main__\":\n",
    "    resistances = resistance()\n",
    "    voltages = voltage()\n",
    "    currents = current(resistances, voltages)\n",
    "\n",
    "    print(\"Resistances:\", resistances)\n",
    "    print(\"Voltages:\", voltages)\n",
    "    print(\"Currents:\", currents)\n",
    "\n",
    "    # Part b: Return data in tuple\n",
    "    print(\"\\nPart b: Data in tuple\")\n",
    "    data_tuple = (resistances, voltages, currents)\n",
    "    print(data_tuple)\n",
    "\n",
    "    # Part c: Return data as dictionary\n",
    "    print(\"\\nPart c: Data as dictionary\")\n",
    "    current_dict = {f\"current_{i+1}\": current for i, current in enumerate(currents)}\n",
    "    print(current_dict)"
   ]
  },
  {
   "cell_type": "code",
   "execution_count": 90,
   "id": "9fca9816-e72c-44b3-a5cf-9e75c6cf5b1a",
   "metadata": {},
   "outputs": [
    {
     "name": "stdout",
     "output_type": "stream",
     "text": [
      "Total resistance (list): 60\n",
      "Total resistance (tuple): 150\n",
      "Function annotations: {'resistors': list[float] | tuple[float, ...], 'return': <class 'float'>}\n"
     ]
    }
   ],
   "source": [
    "def series(resistors: list[float] | tuple[float, ...]) -> float:\n",
    "    \"\"\"\n",
    "    Calculates the equivalent resistance of resistors connected in series.\n",
    "\n",
    "    Args:\n",
    "        resistors: A list or tuple of resistance values.\n",
    "\n",
    "    Returns:\n",
    "        The equivalent resistance of the resistors in series.\n",
    "    \"\"\"\n",
    "    return sum(resistors)\n",
    "\n",
    "if __name__ == \"__main__\":\n",
    "    resistors_list = [10, 20, 30]\n",
    "    resistors_tuple = (40, 50, 60)\n",
    "\n",
    "    total_resistance_list = series(resistors_list)\n",
    "    total_resistance_tuple = series(resistors_tuple)\n",
    "\n",
    "    print(f\"Total resistance (list): {total_resistance_list}\")\n",
    "    print(f\"Total resistance (tuple): {total_resistance_tuple}\")\n",
    "    print(f\"Function annotations: {series.__annotations__}\")"
   ]
  },
  {
   "cell_type": "code",
   "execution_count": 92,
   "id": "bca2a501-0d61-49ec-a810-0f3a7163c97b",
   "metadata": {},
   "outputs": [
    {
     "name": "stdout",
     "output_type": "stream",
     "text": [
      "Total resistance (list): 5.454545454545454\n",
      "Total resistance (tuple): 16.216216216216218\n",
      "Function annotations: {'resistors': typing.Union[list[float], tuple[float, ...]], 'return': <class 'float'>}\n"
     ]
    }
   ],
   "source": [
    "from typing import Union\n",
    "\n",
    "def parallel(resistors: Union[list[float], tuple[float, ...]]) -> float:\n",
    "    \"\"\"\n",
    "    Calculates the equivalent resistance of resistors connected in parallel.\n",
    "\n",
    "    Args:\n",
    "        resistors: A list or tuple of resistance values.\n",
    "\n",
    "    Returns:\n",
    "        The equivalent resistance of the resistors in parallel.\n",
    "    \"\"\"\n",
    "    if not resistors:\n",
    "        raise ValueError(\"At least one resistor must be provided.\")\n",
    "    return 1 / sum(1 / r for r in resistors)\n",
    "\n",
    "if __name__ == \"__main__\":\n",
    "    resistors_list = [10, 20, 30]\n",
    "    resistors_tuple = (40, 50, 60)\n",
    "\n",
    "    total_resistance_list = parallel(resistors_list)\n",
    "    total_resistance_tuple = parallel(resistors_tuple)\n",
    "\n",
    "    print(f\"Total resistance (list): {total_resistance_list}\")\n",
    "    print(f\"Total resistance (tuple): {total_resistance_tuple}\")\n",
    "    print(f\"Function annotations: {parallel.__annotations__}\")"
   ]
  },
  {
   "cell_type": "code",
   "execution_count": 94,
   "id": "efd80ea5-cef8-4e63-b9c9-547558714791",
   "metadata": {},
   "outputs": [
    {
     "name": "stdout",
     "output_type": "stream",
     "text": [
      "Total resistance 1: 60\n",
      "Total resistance 2: 150\n",
      "Function annotations: {'resistors': typing.Union[float, int], 'return': <class 'float'>}\n"
     ]
    }
   ],
   "source": [
    "from typing import Union\n",
    "\n",
    "def series(*resistors: Union[float, int]) -> float:\n",
    "    \"\"\"\n",
    "    Calculates the equivalent resistance of resistors connected in series.\n",
    "\n",
    "    Args:\n",
    "        *resistors: Variable-length argument list of resistance values.\n",
    "\n",
    "    Returns:\n",
    "        The equivalent resistance of the resistors in series.\n",
    "    \"\"\"\n",
    "    return sum(resistors)\n",
    "\n",
    "if __name__ == \"__main__\":\n",
    "    total_resistance_1 = series(10, 20, 30)\n",
    "    total_resistance_2 = series(40, 50, 60)\n",
    "\n",
    "    print(f\"Total resistance 1: {total_resistance_1}\")\n",
    "    print(f\"Total resistance 2: {total_resistance_2}\")\n",
    "    print(f\"Function annotations: {series.__annotations__}\")"
   ]
  },
  {
   "cell_type": "code",
   "execution_count": 96,
   "id": "998505de-4be2-4fbd-a2c3-650176ec5f60",
   "metadata": {},
   "outputs": [
    {
     "name": "stdout",
     "output_type": "stream",
     "text": [
      "Total resistance 1: 5.454545454545454\n",
      "Total resistance 2: 16.216216216216218\n",
      "Function annotations: {'resistors': typing.Union[float, int], 'return': <class 'float'>}\n"
     ]
    }
   ],
   "source": [
    "from typing import Union\n",
    "\n",
    "def parallel(*resistors: Union[float, int]) -> float:\n",
    "    \"\"\"\n",
    "    Calculates the equivalent resistance of resistors connected in parallel.\n",
    "\n",
    "    Args:\n",
    "        *resistors: Variable-length argument list of resistance values.\n",
    "\n",
    "    Returns:\n",
    "        The equivalent resistance of the resistors in parallel.\n",
    "\n",
    "    Raises:\n",
    "        ValueError: If no resistors are provided.\n",
    "    \"\"\"\n",
    "    if not resistors:\n",
    "        raise ValueError(\"At least one resistor must be provided.\")\n",
    "    return 1 / sum(1 / r for r in resistors)\n",
    "\n",
    "if __name__ == \"__main__\":\n",
    "    total_resistance_1 = parallel(10, 20, 30)\n",
    "    total_resistance_2 = parallel(40, 50, 60)\n",
    "\n",
    "    print(f\"Total resistance 1: {total_resistance_1}\")\n",
    "    print(f\"Total resistance 2: {total_resistance_2}\")\n",
    "    print(f\"Function annotations: {parallel.__annotations__}\")"
   ]
  },
  {
   "cell_type": "code",
   "execution_count": 98,
   "id": "44d25e2f-7533-46ca-9bb3-15339f7ed7b6",
   "metadata": {},
   "outputs": [
    {
     "name": "stdout",
     "output_type": "stream",
     "text": [
      "Battery SOC: 60%\n",
      "Solar Generation: 2 kW\n",
      "Market Price: 60 Rs/unit\n",
      "\n",
      "\n",
      "Battery SOC: 70%\n",
      "Solar Generation: 1.8 kW\n",
      "Market Price: 58 Rs/unit\n",
      "\n",
      "Function Annotations: {'data': typing.Union[list, tuple], 'return': None}\n"
     ]
    }
   ],
   "source": [
    "from typing import Union\n",
    "\n",
    "def print_inverter_data(data: Union[list, tuple]) -> None:\n",
    "    \"\"\"\n",
    "    Prints battery SOC, solar generation, and market price in a well-formatted manner.\n",
    "\n",
    "    Args:\n",
    "        data: A list or tuple containing battery SOC (%), solar generation (kW), \n",
    "              and market price (per unit in rupees).\n",
    "\n",
    "    Returns:\n",
    "        None\n",
    "    \"\"\"\n",
    "    soc, generation, price = data\n",
    "    print(f\"Battery SOC: {soc}%\")\n",
    "    print(f\"Solar Generation: {generation} kW\")\n",
    "    print(f\"Market Price: {price} Rs/unit\")\n",
    "\n",
    "if __name__ == \"__main__\":\n",
    "    inverter_data_list = [60, 2, 60]\n",
    "    inverter_data_tuple = (70, 1.8, 58)\n",
    "\n",
    "    print_inverter_data(inverter_data_list)\n",
    "    print(\"\\n\")\n",
    "    print_inverter_data(inverter_data_tuple)\n",
    "    print(\"\\nFunction Annotations:\", print_inverter_data.__annotations__)"
   ]
  },
  {
   "cell_type": "code",
   "execution_count": 100,
   "id": "22eb8225-b238-4cc4-ab79-1840a48eb9c5",
   "metadata": {},
   "outputs": [
    {
     "name": "stdout",
     "output_type": "stream",
     "text": [
      "Battery SOC: 60%\n",
      "Solar Generation: 2 kW\n",
      "Market Price: 60 Rs/unit\n",
      "\n",
      "Function Annotations: {'data': typing.Dict[str, typing.Union[float, int]], 'return': None}\n"
     ]
    }
   ],
   "source": [
    "from typing import Dict\n",
    "\n",
    "def print_inverter_data(data: Dict[str, Union[float, int]]) -> None:\n",
    "    \"\"\"\n",
    "    Prints battery SOC, solar generation, and market price in a well-formatted manner.\n",
    "\n",
    "    Args:\n",
    "        data: A dictionary containing the following keys:\n",
    "            - 'SOC': Battery State of Charge (%).\n",
    "            - 'solar generation': Solar generation in kW.\n",
    "            - 'price': Market price per unit in rupees.\n",
    "\n",
    "    Returns:\n",
    "        None\n",
    "    \"\"\"\n",
    "    soc, solar_generation, price = data['SOC'], data['solar generation'], data['price'] \n",
    "    print(f\"Battery SOC: {soc}%\")\n",
    "    print(f\"Solar Generation: {solar_generation} kW\")\n",
    "    print(f\"Market Price: {price} Rs/unit\")\n",
    "\n",
    "if __name__ == \"__main__\":\n",
    "    inverter_data = {'SOC': 60, 'solar generation': 2, 'price': 60}\n",
    "\n",
    "    print_inverter_data(inverter_data)\n",
    "    print(\"\\nFunction Annotations:\", print_inverter_data.__annotations__)"
   ]
  },
  {
   "cell_type": "code",
   "execution_count": 102,
   "id": "f8a954ee-9e1b-44b4-bc58-d74f564cd465",
   "metadata": {},
   "outputs": [
    {
     "name": "stdout",
     "output_type": "stream",
     "text": [
      "{'kwargs': <class 'dict'>, 'return': None}\n",
      "Battery SOC: 60%\n",
      "Solar Generation: 2 kW\n",
      "Market Price: 60 rupees/unit\n"
     ]
    }
   ],
   "source": [
    "def solar(**kwargs: dict) -> None:\n",
    "    \"\"\"\n",
    "    Prints the battery State of Charge (SOC), solar generation, and market price \n",
    "    in a well-formatted manner.\n",
    "\n",
    "    Args:\n",
    "        **kwargs: A dictionary containing the following keys:\n",
    "            - 'SOC': Battery State of Charge in percentage.\n",
    "            - 'solar_generation': Solar power generation in kilowatts (kW).\n",
    "            - 'price': Market price per unit of electricity in rupees.\n",
    "    \"\"\"\n",
    "    print(f\"Battery SOC: {kwargs['SOC']}%\")\n",
    "    print(f\"Solar Generation: {kwargs['solar_generation']} kW\")\n",
    "    print(f\"Market Price: {kwargs['price']} rupees/unit\")\n",
    "\n",
    "print(solar.__annotations__)  # Output: {'kwargs': <class 'dict'>, 'return': None}\n",
    "\n",
    "# Example usage\n",
    "solar_data = {'SOC': 60, 'solar_generation': 2, 'price': 60}\n",
    "solar(**solar_data)"
   ]
  },
  {
   "cell_type": "code",
   "execution_count": 110,
   "id": "7ccff8f7-df98-456b-9084-38db46f207d0",
   "metadata": {},
   "outputs": [
    {
     "name": "stdout",
     "output_type": "stream",
     "text": [
      "a: 1, b: 2\n",
      "args: ('foo', 'bar', 'baz', 'qux')\n",
      "kwargs: {'x': 100, 'y': 200, 'z': 300}\n"
     ]
    }
   ],
   "source": [
    "def f(a, b, *args, **kwargs):\n",
    "    print(f\"a: {a}, b: {b}\")\n",
    "    print(f\"args: {args}\")\n",
    "    print(f\"kwargs: {kwargs}\")\n",
    "\n",
    "# Call the function\n",
    "f(1, 2, 'foo', 'bar', 'baz', 'qux', x=100, y=200, z=300)\n"
   ]
  },
  {
   "cell_type": "code",
   "execution_count": 112,
   "id": "12627ff0-ecd7-4ce3-bed5-3beed45ce53e",
   "metadata": {},
   "outputs": [
    {
     "name": "stdout",
     "output_type": "stream",
     "text": [
      "a: 10, b: 20\n",
      "args: ()\n",
      "kwargs: {}\n"
     ]
    }
   ],
   "source": [
    "f(10, 20) \n",
    "# Output:\n",
    "# a = 10\n",
    "# b = 20\n",
    "# args = ()\n",
    "# kwargs = {}"
   ]
  },
  {
   "cell_type": "code",
   "execution_count": 114,
   "id": "4bba90e6-d797-4c58-b206-d6b17935bd87",
   "metadata": {},
   "outputs": [
    {
     "name": "stdout",
     "output_type": "stream",
     "text": [
      "a: 1, b: 2\n",
      "args: ('hello', 'world')\n",
      "kwargs: {'name': 'Alice', 'age': 30}\n"
     ]
    }
   ],
   "source": [
    "f(1, 2, 'hello', 'world', name='Alice', age=30)\n",
    "# Output:\n",
    "# a = 1\n",
    "# b = 2\n",
    "# args = ('hello', 'world')\n",
    "# kwargs = {'name': 'Alice', 'age': 30}"
   ]
  },
  {
   "cell_type": "code",
   "execution_count": 116,
   "id": "5ea6e03d-ca6a-4851-8704-55f67daeac9d",
   "metadata": {},
   "outputs": [
    {
     "name": "stdout",
     "output_type": "stream",
     "text": [
      "a: 1, b: 2\n",
      "args: ()\n",
      "kwargs: {'message': 'This is a message'}\n"
     ]
    }
   ],
   "source": [
    "f(a=1, b=2, message=\"This is a message\")\n",
    "# Output:\n",
    "# a = 1\n",
    "# b = 2\n",
    "# args = ()\n",
    "# kwargs = {'message': 'This is a message'}"
   ]
  },
  {
   "cell_type": "code",
   "execution_count": 118,
   "id": "692aa74d-bb7c-4b1d-a313-2f4d8a2a6a8b",
   "metadata": {},
   "outputs": [
    {
     "name": "stdout",
     "output_type": "stream",
     "text": [
      "Processing data with a=10 and b=20\n",
      "Additional positional arguments: ('data1', 'data2')\n",
      "Additional keyword arguments: {'option1': True, 'option2': False}\n"
     ]
    }
   ],
   "source": [
    "def process_data(a, b, *args, **kwargs):\n",
    "    print(f\"Processing data with a={a} and b={b}\")\n",
    "    print(\"Additional positional arguments:\", args)\n",
    "    print(\"Additional keyword arguments:\", kwargs)\n",
    "\n",
    "    # Example: Process the data using the provided arguments\n",
    "    # ...\n",
    "\n",
    "process_data(10, 20, 'data1', 'data2', option1=True, option2=False)"
   ]
  },
  {
   "cell_type": "code",
   "execution_count": 120,
   "id": "eb2990d9-c953-4edb-b34a-faec843b5ea6",
   "metadata": {},
   "outputs": [
    {
     "name": "stdout",
     "output_type": "stream",
     "text": [
      "a: 1, b: 2\n",
      "args: (3, 4, 5)\n",
      "kwargs: {}\n"
     ]
    }
   ],
   "source": [
    "my_list = [3, 4, 5]\n",
    "f(1, 2, *my_list) \n",
    "# Output:\n",
    "# a = 1\n",
    "# b = 2\n",
    "# args = (3, 4, 5)\n",
    "# kwargs = {}"
   ]
  },
  {
   "cell_type": "code",
   "execution_count": 122,
   "id": "bef56fb6-412c-4328-9fbe-38528d4404f1",
   "metadata": {},
   "outputs": [
    {
     "name": "stdout",
     "output_type": "stream",
     "text": [
      "a: 1, b: 2\n",
      "args: ()\n",
      "kwargs: {'country': 'USA', 'city': 'New York'}\n"
     ]
    }
   ],
   "source": [
    "my_dict = {'country': 'USA', 'city': 'New York'}\n",
    "f(1, 2, **my_dict) \n",
    "# Output:\n",
    "# a = 1\n",
    "# b = 2\n",
    "# args = ()\n",
    "# kwargs = {'country': 'USA', 'city': 'New York'}"
   ]
  },
  {
   "cell_type": "code",
   "execution_count": 144,
   "id": "1578bd5d-0515-4170-a1c5-a0be6729bc80",
   "metadata": {},
   "outputs": [],
   "source": [
    "def f(*args):\n",
    "    for i in args:\n",
    "        print(i)\n"
   ]
  },
  {
   "cell_type": "code",
   "execution_count": 146,
   "id": "f9aab214-babc-4ab3-8a29-dce2fb6a9b38",
   "metadata": {},
   "outputs": [],
   "source": [
    "def f(**kwargs):\n",
    "    for k, v in kwargs.items():\n",
    "        print(k, '->', v)\n"
   ]
  },
  {
   "cell_type": "code",
   "execution_count": 148,
   "id": "93d84989-c437-403d-8ba6-ff62c25b8dd9",
   "metadata": {},
   "outputs": [
    {
     "data": {
      "text/plain": [
       "{'a': 1, 'b': 2, 'x': 3, 'y': 4}"
      ]
     },
     "execution_count": 148,
     "metadata": {},
     "output_type": "execute_result"
    }
   ],
   "source": [
    "{'a': 1, 'b': 2, 'x': 3, 'y': 4}\n"
   ]
  },
  {
   "cell_type": "code",
   "execution_count": 152,
   "id": "4503d1de-72bb-44ee-80f9-d00768fb74bd",
   "metadata": {},
   "outputs": [],
   "source": [
    "def f(*args):\n",
    "    for i in args:\n",
    "        print(i)\n"
   ]
  },
  {
   "cell_type": "code",
   "execution_count": 154,
   "id": "c607033f-9412-405c-a589-6f4120d82a5d",
   "metadata": {},
   "outputs": [
    {
     "name": "stdout",
     "output_type": "stream",
     "text": [
      "1\n",
      "2\n",
      "3\n",
      "4\n",
      "5\n",
      "6\n"
     ]
    }
   ],
   "source": [
    "f(*[1, 2, 3], *[4, 5, 6])\n"
   ]
  },
  {
   "cell_type": "code",
   "execution_count": 159,
   "id": "de61da9a-a8bb-4c9b-9d3e-49d6c780eb51",
   "metadata": {},
   "outputs": [],
   "source": [
    "def f(**kwargs):\n",
    "    for k, v in kwargs.items():\n",
    "        print(k, '->', v)\n"
   ]
  },
  {
   "cell_type": "code",
   "execution_count": 165,
   "id": "7b759226-c797-4d34-b477-f6e429ffdb2c",
   "metadata": {},
   "outputs": [
    {
     "data": {
      "text/plain": [
       "{'a': 1, 'b': 2, 'x': 3, 'y': 4}"
      ]
     },
     "execution_count": 165,
     "metadata": {},
     "output_type": "execute_result"
    }
   ],
   "source": [
    "{'a': 1, 'b': 2, 'x': 3, 'y': 4}\n"
   ]
  },
  {
   "cell_type": "code",
   "execution_count": null,
   "id": "6df7ffc9-3b98-4941-9488-4390c546cc52",
   "metadata": {},
   "outputs": [],
   "source": [
    "a -> 1\n",
    "b -> 2\n",
    "x -> 3\n",
    "y -> 4\n"
   ]
  },
  {
   "cell_type": "code",
   "execution_count": 167,
   "id": "1117d803-0703-414f-acbb-ee2402c94b2e",
   "metadata": {},
   "outputs": [
    {
     "name": "stdout",
     "output_type": "stream",
     "text": [
      "1 foo\n"
     ]
    },
    {
     "data": {
      "text/plain": [
       "{'a': int, 'b': str, 'return': float}"
      ]
     },
     "execution_count": 167,
     "metadata": {},
     "output_type": "execute_result"
    }
   ],
   "source": [
    "def f(a: int, b: str) -> float:\n",
    " print(a, b)\n",
    " return(3.5)\n",
    "6\n",
    "f(1, 'foo')\n",
    "f.__annotations__\n"
   ]
  },
  {
   "cell_type": "code",
   "execution_count": 169,
   "id": "58e8b976-ffaf-4f0b-9e4f-dfffd73dff02",
   "metadata": {},
   "outputs": [
    {
     "name": "stdout",
     "output_type": "stream",
     "text": [
      "{'a': <class 'int'>, 'b': <class 'str'>, 'return': <class 'float'>}\n",
      "12 baz\n"
     ]
    },
    {
     "data": {
      "text/plain": [
       "3.5"
      ]
     },
     "execution_count": 169,
     "metadata": {},
     "output_type": "execute_result"
    }
   ],
   "source": [
    "def f(a: int = 12, b: str = 'baz') -> float:\n",
    "    print(a, b)\n",
    "    return 3.5\n",
    "\n",
    "print(f.__annotations__)  # Outputs the annotations dictionary\n",
    "f()  # Calls the function with default arguments\n"
   ]
  },
  {
   "cell_type": "code",
   "execution_count": 171,
   "id": "01cf4cf5-f279-42cb-9283-2503d9eabd08",
   "metadata": {},
   "outputs": [
    {
     "data": {
      "text/plain": [
       "{'a': int, 'b': str, 'return': float}"
      ]
     },
     "execution_count": 171,
     "metadata": {},
     "output_type": "execute_result"
    }
   ],
   "source": [
    "{'a': int, 'b': str, 'return': float}\n"
   ]
  },
  {
   "cell_type": "code",
   "execution_count": 175,
   "id": "340d736e-5bc7-446d-8e8f-958497912ced",
   "metadata": {},
   "outputs": [],
   "source": [
    "def f(a: int, b: str) -> float:\n",
    "    print(a, b)\n",
    "    return 1, 2, 3  # Returning a tuple\n"
   ]
  },
  {
   "cell_type": "code",
   "execution_count": 177,
   "id": "e3a774f6-5c88-45d4-9154-2d63c93eb6b7",
   "metadata": {},
   "outputs": [
    {
     "name": "stdout",
     "output_type": "stream",
     "text": [
      "foo 2.5\n"
     ]
    },
    {
     "data": {
      "text/plain": [
       "(1, 2, 3)"
      ]
     },
     "execution_count": 177,
     "metadata": {},
     "output_type": "execute_result"
    }
   ],
   "source": [
    "f('foo', 2.5)\n"
   ]
  },
  {
   "cell_type": "code",
   "execution_count": 179,
   "id": "d36df12a-6fe7-45e7-8313-9d8adf16beb5",
   "metadata": {},
   "outputs": [
    {
     "name": "stdout",
     "output_type": "stream",
     "text": [
      "foo 2.5\n"
     ]
    },
    {
     "data": {
      "text/plain": [
       "(1, 2, 3)"
      ]
     },
     "execution_count": 179,
     "metadata": {},
     "output_type": "execute_result"
    }
   ],
   "source": [
    "f('foo', 2.5)\n"
   ]
  },
  {
   "cell_type": "markdown",
   "id": "0ac12bdb-a692-482d-8bd3-86222c4c85c2",
   "metadata": {},
   "source": [
    "# String:"
   ]
  },
  {
   "cell_type": "code",
   "execution_count": 186,
   "id": "4c8a4338-0f02-4f85-8623-4f05411f9036",
   "metadata": {},
   "outputs": [
    {
     "name": "stdout",
     "output_type": "stream",
     "text": [
      "Hello,\n",
      "World!\n",
      "Hello,\tWorld!\n"
     ]
    }
   ],
   "source": [
    "# Example using \\n and \\t\n",
    "print(\"Hello,\\nWorld!\")  # Creates a new line after \"Hello,\"\n",
    "print(\"Hello,\\tWorld!\")  # Adds a tab space between \"Hello,\" and \"World!\"\n"
   ]
  },
  {
   "cell_type": "code",
   "execution_count": 188,
   "id": "ea37c0e7-5c25-490c-a5dc-7b61ea3d6160",
   "metadata": {},
   "outputs": [
    {
     "name": "stdout",
     "output_type": "stream",
     "text": [
      "Hello, my name is Alice and I am 30 years old.\n"
     ]
    }
   ],
   "source": [
    "name = \"Alice\"\n",
    "age = 30\n",
    "\n",
    "# F-string formatting\n",
    "print(f\"Hello, my name is {name} and I am {age} years old.\")\n"
   ]
  },
  {
   "cell_type": "code",
   "execution_count": 190,
   "id": "b771ee31-80f4-4794-a9de-94e845c1b88d",
   "metadata": {},
   "outputs": [
    {
     "name": "stdout",
     "output_type": "stream",
     "text": [
      "Hello\n",
      "World\n",
      "Python\n"
     ]
    }
   ],
   "source": [
    "print(\"hello\".capitalize())  # \"Hello\"\n",
    "print(\"world\".capitalize())  # \"World\"\n",
    "print(\"PYTHON\".capitalize())  # \"Python\"\n"
   ]
  },
  {
   "cell_type": "code",
   "execution_count": 194,
   "id": "4c33b1a7-7a3f-416a-b4e1-d55a533f49c8",
   "metadata": {},
   "outputs": [
    {
     "name": "stdout",
     "output_type": "stream",
     "text": [
      "Hello, Alice!\n"
     ]
    }
   ],
   "source": [
    "# Using positional arguments\n",
    "print(\"Hello, {}!\".format(\"Alice\"))\n"
   ]
  },
  {
   "cell_type": "code",
   "execution_count": 196,
   "id": "a41868f0-5ab6-4021-9a72-015c3d5c097b",
   "metadata": {},
   "outputs": [
    {
     "name": "stdout",
     "output_type": "stream",
     "text": [
      "My name is Bob and I am 25 years old.\n"
     ]
    }
   ],
   "source": [
    "# Using multiple positional arguments\n",
    "print(\"My name is {} and I am {} years old.\".format(\"Bob\", 25))\n"
   ]
  },
  {
   "cell_type": "code",
   "execution_count": 198,
   "id": "4474ce5d-d931-402f-a9de-959301c033d1",
   "metadata": {},
   "outputs": [
    {
     "name": "stdout",
     "output_type": "stream",
     "text": [
      "I have dog and blue eyes.\n"
     ]
    }
   ],
   "source": [
    "# Using keyword arguments\n",
    "print(\"I have {pet} and {color} eyes.\".format(pet=\"dog\", color=\"blue\"))\n"
   ]
  },
  {
   "cell_type": "code",
   "execution_count": 200,
   "id": "355be264-fee2-46bd-9da8-e168976c14e8",
   "metadata": {},
   "outputs": [
    {
     "name": "stdout",
     "output_type": "stream",
     "text": [
      "I am 30 years old and my favorite color is red.\n"
     ]
    }
   ],
   "source": [
    "# Using a combination of positional and keyword arguments\n",
    "print(\"I am {0} years old and my favorite color is {color}.\".format(30, color=\"red\"))\n"
   ]
  },
  {
   "cell_type": "code",
   "execution_count": 202,
   "id": "a3242c43-c577-4678-8201-af32baed95ff",
   "metadata": {},
   "outputs": [
    {
     "name": "stdout",
     "output_type": "stream",
     "text": [
      "hello\n",
      "world\n",
      "python\n"
     ]
    }
   ],
   "source": [
    "print(\"HELLO\".lower())  # \"hello\"\n",
    "print(\"World\".lower())  # \"world\"\n",
    "print(\"PYTHON\".lower())  # \"python\"\n"
   ]
  },
  {
   "cell_type": "code",
   "execution_count": 206,
   "id": "c4e0aad5-3134-4853-a0aa-15cf609fb9be",
   "metadata": {},
   "outputs": [
    {
     "name": "stdout",
     "output_type": "stream",
     "text": [
      "Hello,\n",
      "World!\n",
      "Hello,\tWorld!\n"
     ]
    }
   ],
   "source": [
    "# Escape sequences \\n and \\t\n",
    "print(\"Hello,\\nWorld!\")\n",
    "print(\"Hello,\\tWorld!\")\n"
   ]
  },
  {
   "cell_type": "code",
   "execution_count": 208,
   "id": "0490a956-4968-474c-b474-323a63b4f17b",
   "metadata": {},
   "outputs": [
    {
     "name": "stdout",
     "output_type": "stream",
     "text": [
      "Hello,\n",
      "World!\n",
      "Hello,\tWorld!\n"
     ]
    }
   ],
   "source": [
    "# Escape sequences \\n and \\t\n",
    "print(\"Hello,\\nWorld!\")\n",
    "print(\"Hello,\\tWorld!\")\n"
   ]
  },
  {
   "cell_type": "code",
   "execution_count": 210,
   "id": "d81a124e-a242-473e-8257-7c5795e3c584",
   "metadata": {},
   "outputs": [
    {
     "name": "stdout",
     "output_type": "stream",
     "text": [
      "Hello, my name is Alice and I am 30 years old.\n"
     ]
    }
   ],
   "source": [
    "# F-string formatting\n",
    "name = \"Alice\"\n",
    "age = 30\n",
    "print(f\"Hello, my name is {name} and I am {age} years old.\")\n"
   ]
  },
  {
   "cell_type": "code",
   "execution_count": 212,
   "id": "5a8bfefc-a53b-466e-88de-818d50ae2deb",
   "metadata": {},
   "outputs": [
    {
     "name": "stdout",
     "output_type": "stream",
     "text": [
      "Hello\n",
      "World\n",
      "Python\n"
     ]
    }
   ],
   "source": [
    "# .capitalize() examples\n",
    "print(\"hello\".capitalize())  # \"Hello\"\n",
    "print(\"world\".capitalize())  # \"World\"\n",
    "print(\"PYTHON\".capitalize())  # \"Python\"\n"
   ]
  },
  {
   "cell_type": "code",
   "execution_count": 214,
   "id": "de658626-2a31-45d2-b0b1-19f6b9106f6e",
   "metadata": {},
   "outputs": [
    {
     "name": "stdout",
     "output_type": "stream",
     "text": [
      "Hello, Alice!\n",
      "My name is Bob and I am 25 years old.\n",
      "I have dog and blue eyes.\n",
      "I am 30 years old and my favorite color is red.\n",
      "The first number is 3, and the second number is 7. 3 is smaller.\n"
     ]
    }
   ],
   "source": [
    "# .format() examples\n",
    "print(\"Hello, {}!\".format(\"Alice\"))\n",
    "print(\"My name is {} and I am {} years old.\".format(\"Bob\", 25))\n",
    "print(\"I have {pet} and {color} eyes.\".format(pet=\"dog\", color=\"blue\"))\n",
    "print(\"I am {0} years old and my favorite color is {color}.\".format(30, color=\"red\"))\n",
    "print(\"The first number is {0}, and the second number is {1}. {0} is smaller.\".format(3, 7))\n"
   ]
  },
  {
   "cell_type": "code",
   "execution_count": 216,
   "id": "b6154966-a16f-443a-a598-b930b779e1d1",
   "metadata": {},
   "outputs": [
    {
     "name": "stdout",
     "output_type": "stream",
     "text": [
      "hello\n",
      "world\n",
      "python\n"
     ]
    }
   ],
   "source": [
    "# .lower() examples\n",
    "print(\"HELLO\".lower())  # \"hello\"\n",
    "print(\"World\".lower())  # \"world\"\n",
    "print(\"PYTHON\".lower())  # \"python\""
   ]
  },
  {
   "cell_type": "code",
   "execution_count": null,
   "id": "7373c6f9-c13d-44ad-8ee5-5181b4eb1c88",
   "metadata": {},
   "outputs": [],
   "source": []
  }
 ],
 "metadata": {
  "kernelspec": {
   "display_name": "Python 3 (ipykernel)",
   "language": "python",
   "name": "python3"
  },
  "language_info": {
   "codemirror_mode": {
    "name": "ipython",
    "version": 3
   },
   "file_extension": ".py",
   "mimetype": "text/x-python",
   "name": "python",
   "nbconvert_exporter": "python",
   "pygments_lexer": "ipython3",
   "version": "3.12.4"
  }
 },
 "nbformat": 4,
 "nbformat_minor": 5
}
