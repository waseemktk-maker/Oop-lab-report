{
 "cells": [
  {
   "cell_type": "markdown",
   "id": "5b03030a-9b54-42f4-bd30-b953cbb98bea",
   "metadata": {},
   "source": [
    "# Lab report task:"
   ]
  },
  {
   "cell_type": "code",
   "execution_count": 6,
   "id": "013be971-7c66-46b3-9eaa-87c881c3ecfa",
   "metadata": {},
   "outputs": [],
   "source": [
    "class Lab:\n",
    "    \"\"\"Base class for laboratory exercises.\"\"\"\n",
    "\n"
   ]
  },
  {
   "cell_type": "code",
   "execution_count": 8,
   "id": "12b479c7-ca3e-4d01-a392-9d81a54f4bbc",
   "metadata": {},
   "outputs": [],
   "source": [
    "def __init__(self, title):\n",
    "        self.title = title\n",
    "\n"
   ]
  },
  {
   "cell_type": "code",
   "execution_count": 10,
   "id": "f96e757d-29bc-4834-b611-40a21999dfd1",
   "metadata": {},
   "outputs": [],
   "source": [
    "def perform_experiment(self):\n",
    "        \"\"\"Abstract method to be implemented by subclasses.\"\"\"\n",
    "        raise NotImplementedError(\"Subclasses must implement perform_experiment()\")\n",
    "\n"
   ]
  },
  {
   "cell_type": "code",
   "execution_count": 12,
   "id": "540919db-3468-42c4-8265-9a5bbcd7875c",
   "metadata": {},
   "outputs": [],
   "source": [
    " def analyze_results(self):\n",
    "        \"\"\"Abstract method to be implemented by subclasses.\"\"\"\n",
    "        raise NotImplementedError(\"Subclasses must implement analyze_results()\")\n",
    "\n"
   ]
  },
  {
   "cell_type": "code",
   "execution_count": 14,
   "id": "0cc35a52-0cbe-4c01-aff2-b82f9983e9ec",
   "metadata": {},
   "outputs": [],
   "source": [
    "def report_findings(self):\n",
    "        \"\"\"Abstract method to be implemented by subclasses.\"\"\"\n",
    "        raise NotImplementedError(\"Subclasses must implement report_findings()\")\n",
    "\n",
    "\n"
   ]
  },
  {
   "cell_type": "code",
   "execution_count": 16,
   "id": "3a0305bc-8696-4922-8e36-17704d596883",
   "metadata": {},
   "outputs": [],
   "source": [
    "class Lab7(Lab):\n",
    "    \"\"\"Laboratory exercise 7: DNA Extraction.\"\"\"\n",
    "\n"
   ]
  },
  {
   "cell_type": "code",
   "execution_count": 18,
   "id": "fb644a91-e466-45c8-a487-e70e36123e74",
   "metadata": {},
   "outputs": [],
   "source": [
    "def __init__(self):\n",
    "        super().__init__(\"DNA Extraction\")\n",
    "\n"
   ]
  },
  {
   "cell_type": "code",
   "execution_count": 20,
   "id": "d9e73535-c201-4e21-bfc0-f505bb5f44c0",
   "metadata": {},
   "outputs": [],
   "source": [
    "def perform_experiment(self):\n",
    "        print(\"Performing DNA extraction...\")\n",
    "        # Implement the specific steps for DNA extraction\n",
    "\n"
   ]
  },
  {
   "cell_type": "code",
   "execution_count": 22,
   "id": "32ff8b89-d2b5-4296-8d46-1862fb41597b",
   "metadata": {},
   "outputs": [],
   "source": [
    " def analyze_results(self):\n",
    "        print(\"Analyzing extracted DNA...\")\n",
    "        # Implement the analysis of the extracted DNA\n",
    "\n"
   ]
  },
  {
   "cell_type": "code",
   "execution_count": 24,
   "id": "7fd5d33d-7d8f-49f2-9af7-4a42aebef97f",
   "metadata": {},
   "outputs": [],
   "source": [
    "def report_findings(self):\n",
    "        print(\"Generating report for DNA extraction...\")\n",
    "        # Implement the generation of the lab report\n",
    "\n",
    "\n"
   ]
  },
  {
   "cell_type": "code",
   "execution_count": 26,
   "id": "ce1881c9-29b3-4163-8e9b-296876806a93",
   "metadata": {},
   "outputs": [],
   "source": [
    "class Lab8(Lab):\n",
    "    \"\"\"Laboratory exercise 8: PCR Amplification.\"\"\"\n",
    "\n"
   ]
  },
  {
   "cell_type": "code",
   "execution_count": 28,
   "id": "a454b4b0-0f1a-4da0-ba19-f6083a160dee",
   "metadata": {},
   "outputs": [],
   "source": [
    "def __init__(self):\n",
    "        super().__init__(\"PCR Amplification\")\n",
    "\n"
   ]
  },
  {
   "cell_type": "code",
   "execution_count": 30,
   "id": "db9e4071-fa06-44e2-946c-fcc4e49d9b09",
   "metadata": {},
   "outputs": [],
   "source": [
    "def perform_experiment(self):\n",
    "        print(\"Performing PCR amplification...\")\n",
    "        # Implement the specific steps for PCR amplification\n",
    "\n"
   ]
  },
  {
   "cell_type": "code",
   "execution_count": 32,
   "id": "dcd7709d-e881-4ec4-b071-f1b2ecd24610",
   "metadata": {},
   "outputs": [],
   "source": [
    "def analyze_results(self):\n",
    "        print(\"Analyzing PCR products...\")\n",
    "        # Implement the analysis of the PCR products\n",
    "\n"
   ]
  },
  {
   "cell_type": "code",
   "execution_count": 34,
   "id": "2b325686-5818-4d66-92c8-83b46a48b35d",
   "metadata": {},
   "outputs": [],
   "source": [
    " def report_findings(self):\n",
    "        print(\"Generating report for PCR amplification...\")\n",
    "        # Implement the generation of the lab report\n",
    "\n",
    "\n"
   ]
  },
  {
   "cell_type": "code",
   "execution_count": 36,
   "id": "efb249df-a807-4b54-a6ee-85210efed6ca",
   "metadata": {},
   "outputs": [],
   "source": [
    "class Lab9(Lab):\n",
    "    \"\"\"Laboratory exercise 9: Gel Electrophoresis.\"\"\"\n",
    "\n"
   ]
  },
  {
   "cell_type": "code",
   "execution_count": 38,
   "id": "6b44ff95-81b0-42da-aff1-4b38003d65ef",
   "metadata": {},
   "outputs": [],
   "source": [
    "def __init__(self):\n",
    "        super().__init__(\"Gel Electrophoresis\")\n",
    "\n"
   ]
  },
  {
   "cell_type": "code",
   "execution_count": 40,
   "id": "4c980665-ada8-4371-9cab-2efa3617d6d2",
   "metadata": {},
   "outputs": [],
   "source": [
    "def perform_experiment(self):\n",
    "        print(\"Performing gel electrophoresis...\")\n",
    "        # Implement the specific steps for gel electrophoresis\n",
    "\n"
   ]
  },
  {
   "cell_type": "code",
   "execution_count": 42,
   "id": "c3242d58-be20-4802-a864-d8a7799692cb",
   "metadata": {},
   "outputs": [],
   "source": [
    " def analyze_results(self):\n",
    "        print(\"Analyzing gel electrophoresis results...\")\n",
    "        # Implement the analysis of the gel electrophoresis results\n",
    "\n"
   ]
  },
  {
   "cell_type": "code",
   "execution_count": 44,
   "id": "0b0d2f07-56f6-4fe7-92bb-95e16381d510",
   "metadata": {},
   "outputs": [],
   "source": [
    " def report_findings(self):\n",
    "        print(\"Generating report for gel electrophoresis...\")\n",
    "        # Implement the generation of the lab report"
   ]
  },
  {
   "cell_type": "markdown",
   "id": "c7bac32b-bd1a-428b-a414-13f9a0a91529",
   "metadata": {},
   "source": [
    "# Lab work tasks:"
   ]
  },
  {
   "cell_type": "code",
   "execution_count": 47,
   "id": "e0b43cdc-4bc5-4957-b9ef-9f0ae967f290",
   "metadata": {},
   "outputs": [],
   "source": [
    "def add(x, y):\n",
    "  \"\"\"Adds two numbers together and returns the sum.\n",
    "\n",
    "  Args:\n",
    "      x: The first number.\n",
    "      y: The second number.\n",
    "\n",
    "  Returns:\n",
    "      The sum of x and y.\n",
    "  \"\"\"\n",
    "  return x + y"
   ]
  },
  {
   "cell_type": "code",
   "execution_count": 49,
   "id": "dc6545a6-b938-4102-9a1d-a9a00a837257",
   "metadata": {},
   "outputs": [],
   "source": [
    "def subtract(x, y):\n",
    "  \"\"\"Subtracts one number from another and returns the difference.\n",
    "\n",
    "  Args:\n",
    "      x: The first number.\n",
    "      y: The second number.\n",
    "\n",
    "  Returns:\n",
    "      The difference of x and y.\n",
    "  \"\"\"\n",
    "  return x - y"
   ]
  },
  {
   "cell_type": "code",
   "execution_count": 51,
   "id": "d523eb79-36df-4041-aa9c-251be4369b53",
   "metadata": {},
   "outputs": [],
   "source": [
    "def multiply(x, y):\n",
    "  \"\"\"Multiplies two numbers together and returns the product.\n",
    "\n",
    "  Args:\n",
    "      x: The first number.\n",
    "      y: The second number.\n",
    "\n",
    "  Returns:\n",
    "      The product of x and y.\n",
    "  \"\"\"\n",
    "  return x * y"
   ]
  },
  {
   "cell_type": "code",
   "execution_count": 53,
   "id": "e239217c-73d7-41f2-83c2-7887b7600bb7",
   "metadata": {},
   "outputs": [],
   "source": [
    "def divide(x, y):\n",
    "  \"\"\"Divides one number by another and returns the quotient.\n",
    "\n",
    "  Args:\n",
    "      x: The first number (dividend).\n",
    "      y: The second number (divisor).\n",
    "\n",
    "  Returns:\n",
    "      The quotient of x and y, or None if y is zero.\n",
    "  \"\"\"\n",
    "  if y == 0:\n",
    "    return None\n",
    "  return x / y"
   ]
  },
  {
   "cell_type": "markdown",
   "id": "ae70bac9-72e5-4e7d-bfb5-52a4b815412e",
   "metadata": {},
   "source": [
    "# 3. Creating Modules"
   ]
  },
  {
   "cell_type": "code",
   "execution_count": 56,
   "id": "cd9fa2dc-3c09-4633-80b4-76db8f37fcca",
   "metadata": {},
   "outputs": [],
   "source": [
    "def add(x, y):\n",
    "  \"\"\"Adds two numbers together.\n",
    "\n",
    "  Args:\n",
    "      x: The first number.\n",
    "      y: The second number.\n",
    "\n",
    "  Returns:\n",
    "      The sum of x and y.\n",
    "  \"\"\"\n",
    "  return x + y"
   ]
  },
  {
   "cell_type": "code",
   "execution_count": 60,
   "id": "c358e794-bde3-42dd-b8de-84512c01cb4d",
   "metadata": {},
   "outputs": [],
   "source": [
    "def add(x, y):\n",
    "  \"\"\"Adds two numbers together.\n",
    "\n",
    "  Args:\n",
    "      x: The first number.\n",
    "      y: The second number.\n",
    "\n",
    "  Returns:\n",
    "      The sum of x and y.\n",
    "  \"\"\"\n",
    "  return x + y\n",
    "\n"
   ]
  },
  {
   "cell_type": "code",
   "execution_count": 62,
   "id": "eb124e1c-4119-4124-ba85-c03095298d9c",
   "metadata": {},
   "outputs": [],
   "source": [
    "def double(x):\n",
    "  \"\"\"Doubles a given value.\n",
    "\n",
    "  Args:\n",
    "      x: The value to be doubled.\n",
    "\n",
    "  Returns:\n",
    "      The value multiplied by 2.\n",
    "  \"\"\"\n",
    "  return x + x \n",
    "\n"
   ]
  },
  {
   "cell_type": "code",
   "execution_count": 68,
   "id": "24f4be9e-a2a7-4499-a2eb-7a9ea0f8587c",
   "metadata": {},
   "outputs": [],
   "source": [
    "def add(a, b):\n",
    "    return a + b\n",
    "\n",
    "def double(value):\n",
    "    return value * 2\n"
   ]
  },
  {
   "cell_type": "code",
   "execution_count": 91,
   "id": "33e6f648-09bc-4376-aa0c-a7a1746d77e2",
   "metadata": {},
   "outputs": [],
   "source": [
    "# adder.py\n",
    "def add(a, b):\n",
    "    return a + b\n",
    "\n",
    "def double(x):\n",
    "    return x * 2\n"
   ]
  },
  {
   "cell_type": "markdown",
   "id": "88450816-2d68-4526-9528-18dbd46254ab",
   "metadata": {},
   "source": [
    "# Note: "
   ]
  },
  {
   "cell_type": "code",
   "execution_count": 98,
   "id": "716c7793-c61d-4532-9775-bd8056c3d7c4",
   "metadata": {},
   "outputs": [
    {
     "name": "stdout",
     "output_type": "stream",
     "text": [
      "C:\\Users\\Mamoon Iqbal\n"
     ]
    }
   ],
   "source": [
    "import os\n",
    "print(os.getcwd())\n"
   ]
  },
  {
   "cell_type": "code",
   "execution_count": 100,
   "id": "d4ac73bf-20f7-41f2-b32b-009251860fcb",
   "metadata": {},
   "outputs": [
    {
     "name": "stdout",
     "output_type": "stream",
     "text": [
      "[WinError 3] The system cannot find the path specified: '/path/to/project-folder'\n",
      "C:\\Users\\Mamoon Iqbal\n"
     ]
    }
   ],
   "source": [
    "cd /path/to/project-folder\n"
   ]
  },
  {
   "cell_type": "code",
   "execution_count": 9,
   "id": "ce16c5a7-2387-4e92-95a1-f6135c9f76a1",
   "metadata": {},
   "outputs": [],
   "source": [
    "def greet(waseem):\n",
    "    \"\"\"Greets the user by name.\"\"\"\n",
    "    print(f\"Hello, {waseem}!\")"
   ]
  },
  {
   "cell_type": "code",
   "execution_count": 11,
   "id": "605d0d8e-9886-4334-9e7c-119ec49c4a2b",
   "metadata": {},
   "outputs": [],
   "source": [
    "def depart(sebghat):\n",
    "    \"\"\"Bids farewell to the user by name.\"\"\"\n",
    "    print(f\"Goodbye, {sebghat}!\")"
   ]
  },
  {
   "cell_type": "markdown",
   "id": "750d5131-4755-41dd-a21f-dcd12c72b5cd",
   "metadata": {},
   "source": [
    "# Note 2:"
   ]
  },
  {
   "cell_type": "code",
   "execution_count": 26,
   "id": "6efc5d95-c28a-4542-8283-8fcb54df9335",
   "metadata": {},
   "outputs": [
    {
     "name": "stdout",
     "output_type": "stream",
     "text": [
      "C:\\Users\\Mamoon Iqbal\n"
     ]
    }
   ],
   "source": [
    "import os\n",
    "print(os.getcwd())\n"
   ]
  },
  {
   "cell_type": "code",
   "execution_count": null,
   "id": "1a853913-3300-485d-b032-c9e54323344d",
   "metadata": {},
   "outputs": [],
   "source": []
  }
 ],
 "metadata": {
  "kernelspec": {
   "display_name": "Python 3 (ipykernel)",
   "language": "python",
   "name": "python3"
  },
  "language_info": {
   "codemirror_mode": {
    "name": "ipython",
    "version": 3
   },
   "file_extension": ".py",
   "mimetype": "text/x-python",
   "name": "python",
   "nbconvert_exporter": "python",
   "pygments_lexer": "ipython3",
   "version": "3.12.4"
  }
 },
 "nbformat": 4,
 "nbformat_minor": 5
}
