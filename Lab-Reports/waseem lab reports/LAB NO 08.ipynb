{
 "cells": [
  {
   "cell_type": "code",
   "execution_count": null,
   "id": "4a84da42-a313-44d1-9ba9-3892ff8bacab",
   "metadata": {},
   "outputs": [],
   "source": []
  },
  {
   "cell_type": "code",
   "execution_count": null,
   "id": "e6ebd5f9-3bfe-47a0-ae93-d3ce8d58631d",
   "metadata": {},
   "outputs": [],
   "source": []
  },
  {
   "cell_type": "markdown",
   "id": "79407c83-03b8-4710-836b-6a3d726fd3a7",
   "metadata": {},
   "source": [
    "# Lab Report Task:"
   ]
  },
  {
   "cell_type": "markdown",
   "id": "5d4fb854-00f3-47d7-bd60-98794700769a",
   "metadata": {},
   "source": [
    "# Problem 1:"
   ]
  },
  {
   "cell_type": "code",
   "execution_count": 5,
   "id": "a7a31df7-8ca5-4c75-9fa0-a4dce1e0a2f5",
   "metadata": {},
   "outputs": [],
   "source": [
    "class Rectangle:\n",
    "    \"\"\"A class to represent a rectangle.\"\"\""
   ]
  },
  {
   "cell_type": "code",
   "execution_count": 7,
   "id": "de866e19-9282-49cb-b432-a73b9ff7f42f",
   "metadata": {},
   "outputs": [],
   "source": [
    " def __init__(self, width, height):\n",
    "        \"\"\"\n",
    "        Initializes a Rectangle object.\n",
    "\n",
    "        Args:\n",
    "            width (float): The width of the rectangle.\n",
    "            height (float): The height of the rectangle.\n",
    "        \"\"\"\n",
    "        self.width = width\n",
    "        self.height = height"
   ]
  },
  {
   "cell_type": "code",
   "execution_count": 11,
   "id": "c1c6cc26-c396-435a-9b70-e537a48c317c",
   "metadata": {},
   "outputs": [],
   "source": [
    " def area(self):\n",
    "        \"\"\"Calculates the area of the rectangle.\n",
    "\n",
    "        Returns:\n",
    "            float: The area of the rectangle.\n",
    "        \"\"\"\n",
    "        return self.width * self.height"
   ]
  },
  {
   "cell_type": "code",
   "execution_count": 13,
   "id": "97b12717-5f32-4ab6-bbb7-0ccf55f7e2c4",
   "metadata": {},
   "outputs": [],
   "source": [
    "class Square(Rectangle):\n",
    "    \"\"\"A class to represent a square, inheriting from Rectangle.\"\"\"\n",
    "\n",
    "    def __init__(self, side):\n",
    "        \"\"\"\n",
    "        Initializes a Square object.\n",
    "\n",
    "        Args:\n",
    "            side (float): The length of a side of the square.\n",
    "        \"\"\"\n",
    "        super().__init__(side, side)  # Call the Rectangle constructor"
   ]
  },
  {
   "cell_type": "code",
   "execution_count": 15,
   "id": "24190596-9b66-40d8-8120-1a6c235ef472",
   "metadata": {},
   "outputs": [],
   "source": [
    "class Cube(Square):\n",
    "    \"\"\"A class to represent a cube, inheriting from Square.\"\"\"\n",
    "\n",
    "    def surface_area(self):\n",
    "        \"\"\"Calculates the surface area of the cube.\n",
    "\n",
    "        Returns:\n",
    "            float: The surface area of the cube.\n",
    "        \"\"\"\n",
    "        return 6 * self.area()\n"
   ]
  },
  {
   "cell_type": "code",
   "execution_count": 17,
   "id": "c8bd624d-ef81-42b5-8382-a1f0ebd9f741",
   "metadata": {},
   "outputs": [],
   "source": [
    "def volume(self):\n",
    "        \"\"\"Calculates the volume of the cube.\n",
    "\n",
    "        Returns:\n",
    "            float: The volume of the cube.\n",
    "        \"\"\"\n",
    "        return self.area() * self.side"
   ]
  },
  {
   "cell_type": "code",
   "execution_count": 25,
   "id": "7c68c42e-ad93-4ac6-bd6e-34abfcb86ed3",
   "metadata": {},
   "outputs": [
    {
     "name": "stdout",
     "output_type": "stream",
     "text": [
      "Volume of cube1: 125\n",
      "Volume of cube2: 27\n"
     ]
    }
   ],
   "source": [
    "class Rectangle:\n",
    "    def __init__(self, length: float, width: float):\n",
    "        self.length = length\n",
    "        self.width = width\n",
    "\n",
    "    def area(self):\n",
    "        return self.length * self.width\n",
    "\n",
    "class Square(Rectangle):\n",
    "    def __init__(self, side: float):\n",
    "        # Initialize Rectangle with side for both length and width\n",
    "        super().__init__(side, side)\n",
    "\n",
    "class Cube(Square):\n",
    "    def __init__(self, side: float):\n",
    "        # Initialize Square (which calls Rectangle's constructor)\n",
    "        super().__init__(side)\n",
    "        self.height = side\n",
    "\n",
    "    def volume(self):\n",
    "        # Volume of the cube is the area of the base times the height\n",
    "        return self.area() * self.height\n",
    "\n",
    "# Example usage\n",
    "cube1 = Cube(5)\n",
    "print(f\"Volume of cube1: {cube1.volume()}\")  # Expected output: 125\n",
    "\n",
    "cube2 = Cube(3)\n",
    "print(f\"Volume of cube2: {cube2.volume()}\")  # Expected output: 27\n"
   ]
  },
  {
   "cell_type": "markdown",
   "id": "eb9b2d72-f090-4a94-aa3d-c775211d8c21",
   "metadata": {},
   "source": [
    "# Lab work Task:"
   ]
  },
  {
   "cell_type": "markdown",
   "id": "005ba4b3-ff5c-4d00-b8e2-ccf4c7dc7f4e",
   "metadata": {},
   "source": [
    "# Problem 1:"
   ]
  },
  {
   "cell_type": "code",
   "execution_count": 33,
   "id": "e23b5b8e-4d95-4b18-a138-fd31faaaf1b2",
   "metadata": {},
   "outputs": [
    {
     "name": "stdout",
     "output_type": "stream",
     "text": [
      "Cube 1:\n",
      "Surface Area: 150\n",
      "Volume: 125\n",
      "\n",
      "Cube 2:\n",
      "Surface Area: 54\n",
      "Volume: 27\n"
     ]
    }
   ],
   "source": [
    "class Rectangle:\n",
    "    \"\"\"A class to represent a rectangle.\"\"\"\n",
    "\n",
    "    def __init__(self, width, height):\n",
    "        \"\"\"\n",
    "        Initializes a Rectangle object.\n",
    "\n",
    "        Args:\n",
    "            width (float): The width of the rectangle.\n",
    "            height (float): The height of the rectangle.\n",
    "        \"\"\"\n",
    "        self.width = width\n",
    "        self.height = height\n",
    "\n",
    "    def area(self):\n",
    "        \"\"\"Calculates the area of the rectangle.\n",
    "\n",
    "        Returns:\n",
    "            float: The area of the rectangle.\n",
    "        \"\"\"\n",
    "        return self.width * self.height\n",
    "\n",
    "\n",
    "class Square(Rectangle):\n",
    "    \"\"\"A class to represent a square, inheriting from Rectangle.\"\"\"\n",
    "\n",
    "    def __init__(self, side):\n",
    "        \"\"\"\n",
    "        Initializes a Square object.\n",
    "\n",
    "        Args:\n",
    "            side (float): The length of a side of the square.\n",
    "        \"\"\"\n",
    "        super().__init__(side, side)  # Call the Rectangle constructor\n",
    "        self.side = side  # Store the side length in the Square object\n",
    "\n",
    "\n",
    "class Cube(Square):\n",
    "    \"\"\"A class to represent a cube, inheriting from Square.\"\"\"\n",
    "\n",
    "    def surface_area(self):\n",
    "        \"\"\"Calculates the surface area of the cube.\n",
    "\n",
    "        Returns:\n",
    "            float: The surface area of the cube.\n",
    "        \"\"\"\n",
    "        return 6 * self.area()\n",
    "\n",
    "    def volume(self):\n",
    "        \"\"\"Calculates the volume of the cube.\n",
    "\n",
    "        Returns:\n",
    "            float: The volume of the cube.\n",
    "        \"\"\"\n",
    "        return self.area() * self.side\n",
    "\n",
    "\n",
    "# Create two instances of the Cube class\n",
    "cube1 = Cube(5)\n",
    "cube2 = Cube(3)\n",
    "\n",
    "# Call instance methods for cube1\n",
    "print(\"Cube 1:\")\n",
    "print(\"Surface Area:\", cube1.surface_area())\n",
    "print(\"Volume:\", cube1.volume())\n",
    "\n",
    "# Call instance methods for cube2\n",
    "print(\"\\nCube 2:\")\n",
    "print(\"Surface Area:\", cube2.surface_area())\n",
    "print(\"Volume:\", cube2.volume())"
   ]
  },
  {
   "cell_type": "markdown",
   "id": "98ca29e0-7850-4887-8484-e934c0ad7e7d",
   "metadata": {},
   "source": [
    "# Problem 2:"
   ]
  },
  {
   "cell_type": "code",
   "execution_count": 38,
   "id": "6101e641-950a-41af-ae67-92bf9f095a2e",
   "metadata": {},
   "outputs": [],
   "source": [
    "class SalaryEmployee:\n",
    "    def __init__(self, weekly_salary):\n",
    "        self.weekly_salary = weekly_salary\n",
    "\n"
   ]
  },
  {
   "cell_type": "code",
   "execution_count": 40,
   "id": "6a025d75-b29a-4d97-b863-0fa8ea55ada6",
   "metadata": {},
   "outputs": [],
   "source": [
    "def calculate_payroll(self):\n",
    "        return self.weekly_salary\n",
    "\n",
    "\n"
   ]
  },
  {
   "cell_type": "code",
   "execution_count": 42,
   "id": "b0d1fff3-2bc0-42f5-8df1-cfce9943f146",
   "metadata": {},
   "outputs": [],
   "source": [
    "class Manager(SalaryEmployee):\n",
    "    def __init__(self, weekly_salary):\n",
    "        super().__init__(weekly_salary)\n",
    "\n"
   ]
  },
  {
   "cell_type": "code",
   "execution_count": 44,
   "id": "ee7081ff-d895-4286-9d91-0432d90cd922",
   "metadata": {},
   "outputs": [],
   "source": [
    "def work(self, hours):\n",
    "        print(f\"Manager is yelling at people for {hours} hours.\")\n",
    "\n",
    "\n"
   ]
  },
  {
   "cell_type": "code",
   "execution_count": 49,
   "id": "301c0d28-9899-427d-af05-f4e97217bd6f",
   "metadata": {},
   "outputs": [],
   "source": [
    "class Secretary(SalaryEmployee):\n",
    "    def __init__(self, weekly_salary):\n",
    "        super().__init__(weekly_salary)\n",
    "\n"
   ]
  },
  {
   "cell_type": "code",
   "execution_count": 51,
   "id": "60320574-32f0-43a3-af83-d2e798fda8f2",
   "metadata": {},
   "outputs": [],
   "source": [
    "class Secretary(SalaryEmployee):\n",
    "    def __init__(self, weekly_salary):\n",
    "        super().__init__(weekly_salary)\n",
    "\n"
   ]
  },
  {
   "cell_type": "code",
   "execution_count": 53,
   "id": "11f2e896-f826-4f82-a6ef-c727b00e4cd0",
   "metadata": {},
   "outputs": [],
   "source": [
    "def work(self, hours):\n",
    "        print(f\"Secretary is doing paperwork for {hours} hours.\")\n",
    "\n",
    "\n"
   ]
  },
  {
   "cell_type": "code",
   "execution_count": 55,
   "id": "107ef8e6-2942-4fd6-b22b-81b8e8591a0f",
   "metadata": {},
   "outputs": [],
   "source": [
    "class SalesPerson(SalaryEmployee):\n",
    "    def __init__(self, weekly_salary, commission_per_sale):\n",
    "        super().__init__(weekly_salary)\n",
    "        self.commission_per_sale = commission_per_sale\n"
   ]
  },
  {
   "cell_type": "code",
   "execution_count": 57,
   "id": "7d8726a4-52ec-40e9-bede-9324c619c8d1",
   "metadata": {},
   "outputs": [],
   "source": [
    "\n",
    "    def calculate_payroll(self):\n",
    "        payroll = super().calculate_payroll()\n",
    "        # Assuming some sales happened\n",
    "        payroll += self.commission_per_sale * 3  # Example: 3 sales\n",
    "        return payroll\n",
    "\n"
   ]
  },
  {
   "cell_type": "code",
   "execution_count": 59,
   "id": "623c0f04-1d8a-4fb5-a35b-d2c99f1e139a",
   "metadata": {},
   "outputs": [],
   "source": [
    " def work(self, hours):\n",
    "        print(f\"SalesPerson is making calls for {hours} hours.\")\n",
    "\n",
    "\n"
   ]
  },
  {
   "cell_type": "code",
   "execution_count": 61,
   "id": "e931d6ee-a97f-497c-beec-e4ca52339cc1",
   "metadata": {},
   "outputs": [],
   "source": [
    "class FactoryWorker:\n",
    "    def __init__(self, hourly_rate):\n",
    "        self.hourly_rate = hourly_rate\n",
    "\n"
   ]
  },
  {
   "cell_type": "code",
   "execution_count": 66,
   "id": "e4b51ca7-aac0-4a75-98b2-8b631e729333",
   "metadata": {},
   "outputs": [],
   "source": [
    "class Employee:\n",
    "    def work(self, hours):\n",
    "        print(f\"Working for {hours} hours\")\n"
   ]
  },
  {
   "cell_type": "code",
   "execution_count": 72,
   "id": "13e9f84a-56c6-473c-b8da-f183b048654a",
   "metadata": {},
   "outputs": [],
   "source": [
    "# Example usage\n",
    "manager = Manager(weekly_salary=1500)\n",
    "secretary = Secretary(weekly_salary=1200)\n",
    "sales_person = SalesPerson(weekly_salary=1000, commission_per_sale=100)\n",
    "factory_worker = FactoryWorker(hourly_rate=25)\n",
    "\n"
   ]
  },
  {
   "cell_type": "markdown",
   "id": "137539dc-c7cb-4780-b04c-919cc9dbe614",
   "metadata": {},
   "source": [
    "# Problem 3:"
   ]
  },
  {
   "cell_type": "code",
   "execution_count": 78,
   "id": "330d20ac-cce2-462c-a7c3-1e976127684b",
   "metadata": {},
   "outputs": [],
   "source": [
    "class Staff:\n",
    "    \"\"\"Base class for all staff members.\"\"\"\n",
    "\n",
    "    def __init__(self, name, employee_id):\n",
    "        self.name = name\n",
    "        self.employee_id = employee_id\n",
    "\n",
    "    def get_name(self):\n",
    "        return self.name\n",
    "\n",
    "    def get_employee_id(self):\n",
    "        return self.employee_id\n",
    "\n",
    "    def __str__(self):\n",
    "        return f\"Name: {self.name}, Employee ID: {self.employee_id}\"\n",
    "\n",
    "\n",
    "class AdminStaff(Staff):\n",
    "    \"\"\"Class for administrative staff.\"\"\"\n",
    "\n",
    "    def __init__(self, name, employee_id, role):\n",
    "        super().__init__(name, employee_id)\n",
    "        self.role = role\n",
    "\n",
    "    def get_role(self):\n",
    "        return self.role\n",
    "\n",
    "    def __str__(self):\n",
    "        return f\"{super().__str__()}, Role: {self.role}\"\n",
    "\n",
    "\n",
    "class FacultyStaff(Staff):\n",
    "    \"\"\"Class for faculty staff.\"\"\"\n",
    "\n",
    "    def __init__(self, name, employee_id, rank):\n",
    "        super().__init__(name, employee_id)\n",
    "        self.rank = rank\n",
    "\n",
    "    def get_rank(self):\n",
    "        return self.rank\n",
    "\n",
    "    def __str__(self):\n",
    "        return f\"{super().__str__()}, Rank: {self.rank}\"\n",
    "\n",
    "\n",
    "class Lecturer(FacultyStaff):\n",
    "    \"\"\"Class for Lecturer.\"\"\"\n",
    "\n",
    "    def __init__(self, name, employee_id):\n",
    "        super().__init__(name, employee_id, \"Lecturer\")\n",
    "\n",
    "\n",
    "class AssistantProfessor(FacultyStaff):\n",
    "    \"\"\"Class for Assistant Professor.\"\"\"\n",
    "\n",
    "    def __init__(self, name, employee_id):\n",
    "        super().__init__(name, employee_id, \"Assistant Professor\")\n",
    "\n",
    "\n",
    "class AssociateProfessor(FacultyStaff):\n",
    "    \"\"\"Class for Associate Professor.\"\"\"\n",
    "\n",
    "    def __init__(self, name, employee_id):\n",
    "        super().__init__(name, employee_id, \"Associate Professor\")\n",
    "\n",
    "\n",
    "class Professor(FacultyStaff):\n",
    "    \"\"\"Class for Professor.\"\"\"\n",
    "\n",
    "    def __init__(self, name, employee_id):\n",
    "        super().__init__(name, employee_id, \"Professor\")\n",
    "\n",
    "\n",
    "class LabEngineer(AdminStaff):\n",
    "    \"\"\"Class for Lab Engineer.\"\"\"\n",
    "\n",
    "    def __init__(self, name, employee_id):\n",
    "        super().__init__(name, employee_id, \"Lab Engineer\")\n",
    "\n",
    "\n",
    "class LabTechnician(AdminStaff):\n",
    "    \"\"\"Class for Lab Technician.\"\"\"\n",
    "\n",
    "    def __init__(self, name, employee_id):\n",
    "        super().__init__(name, employee_id, \"Lab Technician\")\n",
    "\n",
    "\n",
    "class LabAssistant(AdminStaff):\n",
    "    \"\"\"Class for Lab Assistant.\"\"\"\n",
    "\n",
    "    def __init__(self, name, employee_id):\n",
    "        super().__init__(name, employee_id, \"Lab Assistant\")\n",
    "\n",
    "\n",
    "class LabAttendant(AdminStaff):\n",
    "    \"\"\"Class for Lab Attendant.\"\"\"\n",
    "\n",
    "    def __init__(self, name, employee_id):\n",
    "        super().__init__(name, employee_id, \"Lab Attendant\")"
   ]
  },
  {
   "cell_type": "code",
   "execution_count": null,
   "id": "78ed9efe-9921-4c85-a913-db8cf25b5b58",
   "metadata": {},
   "outputs": [],
   "source": []
  },
  {
   "cell_type": "code",
   "execution_count": null,
   "id": "cae551a7-adc8-4d1a-b2ce-2d6451eb2ab4",
   "metadata": {},
   "outputs": [],
   "source": []
  },
  {
   "cell_type": "code",
   "execution_count": null,
   "id": "d62a0110-dc85-4757-8a71-2b434b6295e4",
   "metadata": {},
   "outputs": [],
   "source": []
  }
 ],
 "metadata": {
  "kernelspec": {
   "display_name": "Python 3 (ipykernel)",
   "language": "python",
   "name": "python3"
  },
  "language_info": {
   "codemirror_mode": {
    "name": "ipython",
    "version": 3
   },
   "file_extension": ".py",
   "mimetype": "text/x-python",
   "name": "python",
   "nbconvert_exporter": "python",
   "pygments_lexer": "ipython3",
   "version": "3.12.4"
  }
 },
 "nbformat": 4,
 "nbformat_minor": 5
}
