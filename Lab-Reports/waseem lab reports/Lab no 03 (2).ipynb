{
 "cells": [
  {
   "cell_type": "markdown",
   "id": "20647fd0-6c93-4965-b72d-c1a670394590",
   "metadata": {},
   "source": [
    "# Lab Report Work"
   ]
  },
  {
   "cell_type": "code",
   "execution_count": null,
   "id": "eb91fd6b-f310-4325-8859-d10dcd15d7d0",
   "metadata": {},
   "outputs": [],
   "source": []
  },
  {
   "cell_type": "code",
   "execution_count": 2,
   "id": "ff70f56b-e8b0-491b-a930-a4e20bed1cab",
   "metadata": {},
   "outputs": [],
   "source": [
    "student_data = [\n",
    "    [\"Alice\", 1234, 3.75, [3.2, 3.5, 3.8, 3.9]],\n",
    "    [\"Bob\", 5678, 3.25, [3.0, 3.3, 3.1, 3.4]],\n",
    "    [\"Charlie\", 9012, 3.8, [3.9, 3.8, 3.7, 3.9]],\n",
    "]"
   ]
  },
  {
   "cell_type": "code",
   "execution_count": 4,
   "id": "08ac8afd-09f8-43c5-a9bd-7f43ce351f87",
   "metadata": {},
   "outputs": [],
   "source": [
    "student_data = [\n",
    "    [name, reg_no, cgpa, [sem1, sem2, sem3, sem4]]\n",
    "    for name, reg_no, cgpa, [sem1, sem2, sem3, sem4] in [\n",
    "        (\"Alice\", 1234, 3.75, [3.2, 3.5, 3.8, 3.9]),\n",
    "        (\"Bob\", 5678, 3.25, [3.0, 3.3, 3.1, 3.4]),\n",
    "        (\"Charlie\", 9012, 3.8, [3.9, 3.8, 3.7, 3.9]),\n",
    "    ]\n",
    "]"
   ]
  },
  {
   "cell_type": "code",
   "execution_count": 10,
   "id": "af130db5-27d3-4cc5-bb55-f2700164b071",
   "metadata": {},
   "outputs": [
    {
     "name": "stdout",
     "output_type": "stream",
     "text": [
      "1\n",
      "2\n",
      "3\n",
      "4\n",
      "5\n",
      "6\n",
      "7\n",
      "8\n",
      "9\n"
     ]
    }
   ],
   "source": [
    "x = [[1, 2, 3], [4, 5, 6], [7, 8, 9]]  # Example list of lists\n",
    "for i in x:\n",
    "    if isinstance(i, list):\n",
    "        for j in i:\n",
    "            print(j)\n"
   ]
  },
  {
   "cell_type": "markdown",
   "id": "42506cfa-7f91-467a-abf1-e31e1e3a29b2",
   "metadata": {},
   "source": [
    "# Lab practice "
   ]
  },
  {
   "cell_type": "code",
   "execution_count": 13,
   "id": "b2a08d80-1a9b-4979-9059-83dd103a94e8",
   "metadata": {},
   "outputs": [],
   "source": [
    "integer_list = [10, -5, 0, 42, 123]"
   ]
  },
  {
   "cell_type": "code",
   "execution_count": 15,
   "id": "5dd0d25f-1e37-41aa-8f79-01b78df768a5",
   "metadata": {},
   "outputs": [],
   "source": [
    "student_data = [\n",
    "    [\"Alice\", 1234, 3.75, [3.2, 3.5, 3.8, 3.9]],\n",
    "    [\"Bob\", 5678, 3.25, [3.0, 3.3, 3.1, 3.4]],\n",
    "    [\"Charlie\", 9012, 3.8, [3.9, 3.8, 3.7, 3.9]]\n",
    "]"
   ]
  },
  {
   "cell_type": "code",
   "execution_count": 17,
   "id": "ef2d9126-e7b4-4e7e-b798-0c0fa3e2664f",
   "metadata": {},
   "outputs": [
    {
     "name": "stdout",
     "output_type": "stream",
     "text": [
      "3.75\n"
     ]
    }
   ],
   "source": [
    "print(student_data[0][2])  # Prints the CGPA of the first student (Alice)"
   ]
  },
  {
   "cell_type": "code",
   "execution_count": 19,
   "id": "3e872539-fbf0-4c4f-8c8e-794f57826150",
   "metadata": {},
   "outputs": [
    {
     "name": "stdout",
     "output_type": "stream",
     "text": [
      "10\n",
      "-5\n",
      "0\n",
      "42\n",
      "123\n"
     ]
    }
   ],
   "source": [
    "i = 0\n",
    "while i < len(integer_list):\n",
    "    print(integer_list[i])\n",
    "    i += 1"
   ]
  },
  {
   "cell_type": "code",
   "execution_count": 21,
   "id": "ba181842-9f49-4a4a-ab0e-bb75229025d4",
   "metadata": {},
   "outputs": [
    {
     "name": "stdout",
     "output_type": "stream",
     "text": [
      "[3.2, 3.5, 3.8, 3.9]\n"
     ]
    }
   ],
   "source": [
    "print(student_data[0][-1])  # Accesses the GPA list for the first student"
   ]
  },
  {
   "cell_type": "code",
   "execution_count": 23,
   "id": "613c49e3-1732-4733-b23a-1a5b052e380f",
   "metadata": {},
   "outputs": [],
   "source": [
    "first_20_integers = list(range(21))  # range(21) generates numbers from 0 to 20"
   ]
  },
  {
   "cell_type": "code",
   "execution_count": 25,
   "id": "25f8ea9f-f081-459a-9889-4cc63b383460",
   "metadata": {},
   "outputs": [],
   "source": [
    "odd_integers = list(range(21, 41, 2))  # Start at 21, increment by 2 to get odd numbers"
   ]
  },
  {
   "cell_type": "code",
   "execution_count": 27,
   "id": "87cafe40-19a8-46f4-8bf9-db7e7dd94ab8",
   "metadata": {},
   "outputs": [
    {
     "name": "stdout",
     "output_type": "stream",
     "text": [
      "Husain is in the list\n",
      "Ali is not in the list\n"
     ]
    }
   ],
   "source": [
    "Student = [\"Ibrahim\", \"Husain\", \"Irfan\", \"Ayub\", \"Usman\"]\n",
    "\n",
    "if \"Husain\" in Student:\n",
    "    print(\"Husain is in the list\")\n",
    "\n",
    "if \"Ali\" not in Student:\n",
    "    print(\"Ali is not in the list\")"
   ]
  },
  {
   "cell_type": "code",
   "execution_count": 29,
   "id": "8a86101d-4535-4c31-8de6-e91b02451014",
   "metadata": {},
   "outputs": [
    {
     "name": "stdout",
     "output_type": "stream",
     "text": [
      "Ibrahim\n",
      "Husain\n",
      "Irfan\n",
      "Ayub\n",
      "Usman\n"
     ]
    }
   ],
   "source": [
    "for student in Student:\n",
    "    print(student)"
   ]
  },
  {
   "cell_type": "code",
   "execution_count": 31,
   "id": "7bf78954-2e04-4ee6-ba3f-1808149e07f8",
   "metadata": {},
   "outputs": [
    {
     "name": "stdout",
     "output_type": "stream",
     "text": [
      "Initial List: [1, 2, 3, 4]\n"
     ]
    }
   ],
   "source": [
    "my_list = [1, 2, 3, 4] \n",
    "print(\"Initial List:\", my_list)"
   ]
  },
  {
   "cell_type": "code",
   "execution_count": 33,
   "id": "9b625b3c-f274-4e2b-a343-6379a21da3b7",
   "metadata": {},
   "outputs": [
    {
     "name": "stdout",
     "output_type": "stream",
     "text": [
      "After append(5): [1, 2, 3, 4, 5]\n"
     ]
    }
   ],
   "source": [
    "my_list.append(5) \n",
    "print(\"After append(5):\", my_list)"
   ]
  },
  {
   "cell_type": "code",
   "execution_count": 35,
   "id": "2123eed6-d7a0-4065-a577-3f193eeb9f42",
   "metadata": {},
   "outputs": [
    {
     "name": "stdout",
     "output_type": "stream",
     "text": [
      "After extend([6, 7]): [1, 2, 3, 4, 5, 6, 7]\n"
     ]
    }
   ],
   "source": [
    "my_list.extend([6, 7]) \n",
    "print(\"After extend([6, 7]):\", my_list)"
   ]
  },
  {
   "cell_type": "code",
   "execution_count": 37,
   "id": "127b7e73-5a15-4cfc-92af-ef0dfefea468",
   "metadata": {},
   "outputs": [
    {
     "name": "stdout",
     "output_type": "stream",
     "text": [
      "After insert(2, 10): [1, 2, 10, 3, 4, 5, 6, 7]\n"
     ]
    }
   ],
   "source": [
    "my_list.insert(2, 10) \n",
    "print(\"After insert(2, 10):\", my_list)"
   ]
  },
  {
   "cell_type": "code",
   "execution_count": 39,
   "id": "29e83f29-6c66-4ba8-8bf1-767810b559ea",
   "metadata": {},
   "outputs": [
    {
     "name": "stdout",
     "output_type": "stream",
     "text": [
      "After remove(3): [1, 2, 10, 4, 5, 6, 7]\n"
     ]
    }
   ],
   "source": [
    "my_list.remove(3) \n",
    "print(\"After remove(3):\", my_list)"
   ]
  },
  {
   "cell_type": "code",
   "execution_count": 41,
   "id": "70663f13-a37d-4f9d-96f9-1145b8385e3e",
   "metadata": {},
   "outputs": [
    {
     "name": "stdout",
     "output_type": "stream",
     "text": [
      "Removed element: 2\n",
      "After pop(1): [1, 10, 4, 5, 6, 7]\n"
     ]
    }
   ],
   "source": [
    "removed_element = my_list.pop(1) \n",
    "print(\"Removed element:\", removed_element) \n",
    "print(\"After pop(1):\", my_list)"
   ]
  },
  {
   "cell_type": "code",
   "execution_count": 43,
   "id": "8508bef5-6c42-4388-b000-ff2511a465f6",
   "metadata": {},
   "outputs": [
    {
     "name": "stdout",
     "output_type": "stream",
     "text": [
      "a\n",
      "bb\n",
      "ccc\n",
      "ddd\n",
      "ee\n",
      "ff\n",
      "g\n",
      "hh\n",
      "ii\n",
      "j\n"
     ]
    }
   ],
   "source": [
    "x = [\"a\", [\"bb\", [\"ccc\", \"ddd\"], \"ee\", \"ff\"], \"g\", [\"hh\", \"ii\"], \"j\"]\n",
    "\n",
    "# Using nested loops to access each element\n",
    "for item in x:\n",
    "    if isinstance(item, list): \n",
    "        for sub_item in item:\n",
    "            if isinstance(sub_item, list):\n",
    "                for inner_item in sub_item:\n",
    "                    print(inner_item) \n",
    "            else:\n",
    "                print(sub_item)\n",
    "    else:\n",
    "        print(item)"
   ]
  },
  {
   "cell_type": "code",
   "execution_count": 45,
   "id": "d866f6da-86cf-4bc5-95ba-bc9050906983",
   "metadata": {},
   "outputs": [],
   "source": [
    "letters = ('a', 'b', 'c', 'd', 'e')"
   ]
  },
  {
   "cell_type": "code",
   "execution_count": 47,
   "id": "7cfab686-1bc8-463c-86f6-418944ea8716",
   "metadata": {},
   "outputs": [
    {
     "name": "stdout",
     "output_type": "stream",
     "text": [
      "c\n",
      "e\n"
     ]
    }
   ],
   "source": [
    "third_letter = letters[2]  # Accessing the third element (index starts from 0)\n",
    "last_letter = letters[-1]  # Accessing the last element using negative indexing\n",
    "\n",
    "print(third_letter)  # Output: 'c'\n",
    "print(last_letter)  # Output: 'e'"
   ]
  },
  {
   "cell_type": "code",
   "execution_count": 49,
   "id": "0f4d8631-6a5b-4669-9452-52ba34366609",
   "metadata": {},
   "outputs": [
    {
     "name": "stdout",
     "output_type": "stream",
     "text": [
      "c\n",
      "e\n"
     ]
    }
   ],
   "source": [
    "third_letter = letters[2]  # Accessing the third element (index starts from 0)\n",
    "last_letter = letters[-1]  # Accessing the last element using negative indexing\n",
    "\n",
    "print(third_letter)  # Output: 'c'\n",
    "print(last_letter)  # Output: 'e'"
   ]
  },
  {
   "cell_type": "code",
   "execution_count": 51,
   "id": "89f8224e-fc8a-4296-82f4-62dfdd351cd9",
   "metadata": {},
   "outputs": [
    {
     "name": "stdout",
     "output_type": "stream",
     "text": [
      "[10, 2, 3]\n",
      "Tuples are immutable. Cannot modify elements.\n"
     ]
    }
   ],
   "source": [
    "my_list = [1, 2, 3]\n",
    "my_tuple = (1, 2, 3)\n",
    "\n",
    "# List is mutable\n",
    "my_list[0] = 10  # Modify the first element of the list\n",
    "print(my_list)  # Output: [10, 2, 3]\n",
    "\n",
    "# Tuple is immutable\n",
    "try:\n",
    "    my_tuple[0] = 10  # Attempt to modify the first element of the tuple\n",
    "except TypeError:\n",
    "    print(\"Tuples are immutable. Cannot modify elements.\")"
   ]
  },
  {
   "cell_type": "code",
   "execution_count": 53,
   "id": "2584c8de-bc8c-400b-9739-dbe2a01c01ef",
   "metadata": {},
   "outputs": [
    {
     "name": "stdout",
     "output_type": "stream",
     "text": [
      "Tuples are immutable. Cannot modify elements.\n"
     ]
    }
   ],
   "source": [
    "num = (1, 2, 3, 4)\n",
    "\n",
    "# Attempt to modify the element at index 2\n",
    "try:\n",
    "    num[2] = 9 \n",
    "except TypeError:\n",
    "    print(\"Tuples are immutable. Cannot modify elements.\")"
   ]
  },
  {
   "cell_type": "markdown",
   "id": "6d44880e-9e03-4ba7-84ec-919267aab96b",
   "metadata": {},
   "source": [
    "# Dictionary:"
   ]
  },
  {
   "cell_type": "code",
   "execution_count": 1,
   "id": "0731fd0c-dbbf-4cda-a221-26271ec20ab7",
   "metadata": {},
   "outputs": [],
   "source": [
    "Fd= { 'one': 'aik', 'three': 'teen', 'ten' : 'das', 'fifteen' : 'pandra' }"
   ]
  },
  {
   "cell_type": "code",
   "execution_count": 3,
   "id": "2f6cd3b5-f311-43f8-9c63-22416ce55942",
   "metadata": {},
   "outputs": [
    {
     "name": "stdout",
     "output_type": "stream",
     "text": [
      "{'one': 'aik', 'three': 'teen', 'ten': 'das', 'fifteen': 'pandra'}\n"
     ]
    }
   ],
   "source": [
    "print(Fd)"
   ]
  },
  {
   "cell_type": "code",
   "execution_count": 5,
   "id": "df7fe2f4-6a20-412b-8573-e10aab440c49",
   "metadata": {},
   "outputs": [
    {
     "name": "stdout",
     "output_type": "stream",
     "text": [
      "aik\n"
     ]
    }
   ],
   "source": [
    "print(Fd['one'])"
   ]
  },
  {
   "cell_type": "code",
   "execution_count": 7,
   "id": "82354db9-9654-4c3e-9858-7c984660c2e8",
   "metadata": {},
   "outputs": [
    {
     "name": "stdout",
     "output_type": "stream",
     "text": [
      "das\n"
     ]
    }
   ],
   "source": [
    "print(Fd['ten'])"
   ]
  },
  {
   "cell_type": "code",
   "execution_count": 9,
   "id": "1b949848-0d0c-4f14-a7c8-a1b7138eb81d",
   "metadata": {},
   "outputs": [
    {
     "name": "stdout",
     "output_type": "stream",
     "text": [
      "{'one': 'aik', 'ten': 'das', 'fifteen': 'pandra'}\n"
     ]
    }
   ],
   "source": [
    "del Fd['three'] \n",
    "print(Fd)"
   ]
  },
  {
   "cell_type": "code",
   "execution_count": 11,
   "id": "4aa15889-ed7f-46a1-825e-93e6f27873d8",
   "metadata": {},
   "outputs": [
    {
     "name": "stdout",
     "output_type": "stream",
     "text": [
      "3\n"
     ]
    }
   ],
   "source": [
    "print(len(Fd))"
   ]
  },
  {
   "cell_type": "code",
   "execution_count": 13,
   "id": "a818586c-528c-4060-bfc6-fdcf4ab4e5ac",
   "metadata": {},
   "outputs": [
    {
     "name": "stdout",
     "output_type": "stream",
     "text": [
      "['one', 'ten', 'fifteen']\n"
     ]
    }
   ],
   "source": [
    "print(list(Fd.keys()))"
   ]
  },
  {
   "cell_type": "code",
   "execution_count": 15,
   "id": "88f26b0b-b015-476f-8451-75ec405b700f",
   "metadata": {},
   "outputs": [
    {
     "name": "stdout",
     "output_type": "stream",
     "text": [
      "['aik', 'das', 'pandra']\n"
     ]
    }
   ],
   "source": [
    "print(list(Fd.values()))"
   ]
  },
  {
   "cell_type": "code",
   "execution_count": 17,
   "id": "05a89ff1-251b-4d24-b96b-930db5917047",
   "metadata": {},
   "outputs": [
    {
     "name": "stdout",
     "output_type": "stream",
     "text": [
      "[('one', 'aik'), ('ten', 'das'), ('fifteen', 'pandra')]\n"
     ]
    }
   ],
   "source": [
    "print(list(Fd.items()))"
   ]
  },
  {
   "cell_type": "code",
   "execution_count": 32,
   "id": "15c3d5e6-d354-4e2c-b8ef-d40b5d3338c5",
   "metadata": {},
   "outputs": [
    {
     "name": "stdout",
     "output_type": "stream",
     "text": [
      "True\n",
      "True\n"
     ]
    }
   ],
   "source": [
    "Fd = {'one': 1, 'two': 2}\n",
    "\n",
    "# Check if 'one' and 'two' keys exist in Fd\n",
    "print('one' in Fd)\n",
    "print('two' in Fd)\n"
   ]
  },
  {
   "cell_type": "code",
   "execution_count": 34,
   "id": "5c11f776-7d64-4ac4-bd8e-11eab120a79c",
   "metadata": {},
   "outputs": [],
   "source": [
    "copy = Fd.copy()\n",
    "alias = Fd"
   ]
  },
  {
   "cell_type": "code",
   "execution_count": 36,
   "id": "1b5a08e2-c9aa-43b3-af50-2663de6cc285",
   "metadata": {},
   "outputs": [
    {
     "name": "stdout",
     "output_type": "stream",
     "text": [
      "{'one': 1, 'two': 2, 'three': '3'}\n"
     ]
    }
   ],
   "source": [
    "alias['three'] = '3'\n",
    "print(alias)"
   ]
  },
  {
   "cell_type": "code",
   "execution_count": 38,
   "id": "7df9ffe8-1c06-43b3-b796-2ac52fe43a2a",
   "metadata": {},
   "outputs": [
    {
     "name": "stdout",
     "output_type": "stream",
     "text": [
      "{'one': 1, 'two': 2, 'three': '3'}\n"
     ]
    }
   ],
   "source": [
    "print(Fd)"
   ]
  },
  {
   "cell_type": "code",
   "execution_count": 40,
   "id": "d4087599-0d51-4f21-a92d-9bdb0899a5bd",
   "metadata": {},
   "outputs": [
    {
     "name": "stdout",
     "output_type": "stream",
     "text": [
      "{'one': 1, 'two': 2, 'three': '3'}\n"
     ]
    }
   ],
   "source": [
    "copy['three'] = '3'\n",
    "print(copy)"
   ]
  },
  {
   "cell_type": "code",
   "execution_count": 42,
   "id": "04d82612-380d-4681-9f8e-53f0d1a73d24",
   "metadata": {},
   "outputs": [
    {
     "name": "stdout",
     "output_type": "stream",
     "text": [
      "{'one': 1, 'two': 2, 'three': '3'}\n"
     ]
    }
   ],
   "source": [
    "print(Fd)"
   ]
  },
  {
   "cell_type": "code",
   "execution_count": 44,
   "id": "ecfc6db7-a597-4583-abde-5cd69a4faebc",
   "metadata": {},
   "outputs": [],
   "source": [
    "my_dict = {\n",
    "    \"name\": \"Alice\",\n",
    "    \"age\": 30,\n",
    "    \"city\": \"New York\",\n",
    "    \"occupation\": \"Engineer\"\n",
    "}"
   ]
  },
  {
   "cell_type": "code",
   "execution_count": 46,
   "id": "7c424021-d6cd-4606-be84-142a5fd9fa31",
   "metadata": {},
   "outputs": [
    {
     "name": "stdout",
     "output_type": "stream",
     "text": [
      "{}\n"
     ]
    }
   ],
   "source": [
    "my_dict.clear()\n",
    "print(my_dict)  # Output: {}"
   ]
  },
  {
   "cell_type": "code",
   "execution_count": 48,
   "id": "5a682e89-557d-4c9f-9587-4f46210a8174",
   "metadata": {},
   "outputs": [
    {
     "name": "stdout",
     "output_type": "stream",
     "text": [
      "None\n",
      "0\n",
      "N/A\n"
     ]
    }
   ],
   "source": [
    "name = my_dict.get(\"name\") \n",
    "print(name)  # Output: Alice\n",
    "\n",
    "age = my_dict.get(\"age\", 0) \n",
    "print(age)  # Output: 30\n",
    "\n",
    "unknown_key = my_dict.get(\"country\", \"N/A\") \n",
    "print(unknown_key)  # Output: N/A"
   ]
  },
  {
   "cell_type": "code",
   "execution_count": 50,
   "id": "b447af81-9981-4ab0-842c-3c0421bcbd36",
   "metadata": {},
   "outputs": [
    {
     "name": "stdout",
     "output_type": "stream",
     "text": [
      "dict_items([])\n"
     ]
    }
   ],
   "source": [
    "items = my_dict.items()\n",
    "print(items)  # Output: dict_items([('name', 'Alice'), ('age', 30), ('city', 'New York'), ('occupation', 'Engineer')])"
   ]
  },
  {
   "cell_type": "code",
   "execution_count": 52,
   "id": "9ae9aed5-5a56-4727-8401-d4919ef52e90",
   "metadata": {},
   "outputs": [
    {
     "name": "stdout",
     "output_type": "stream",
     "text": [
      "dict_keys([])\n"
     ]
    }
   ],
   "source": [
    "keys = my_dict.keys()\n",
    "print(keys)  # Output: dict_keys(['name', 'age', 'city', 'occupation'])"
   ]
  },
  {
   "cell_type": "code",
   "execution_count": 54,
   "id": "55ead21a-25cc-45f9-9e1a-3ac282cecce7",
   "metadata": {},
   "outputs": [
    {
     "name": "stdout",
     "output_type": "stream",
     "text": [
      "dict_values([])\n"
     ]
    }
   ],
   "source": [
    "values = my_dict.values()\n",
    "print(values)  # Output: dict_values(['Alice', 30, 'New York', 'Engineer'])"
   ]
  },
  {
   "cell_type": "markdown",
   "id": "83258af5-f855-46c1-b896-65b6ca940c88",
   "metadata": {},
   "source": [
    "# List comprehensions:"
   ]
  },
  {
   "cell_type": "code",
   "execution_count": 57,
   "id": "79b2ce6e-07f0-4357-bdba-4c5cf98a5de8",
   "metadata": {},
   "outputs": [
    {
     "name": "stdout",
     "output_type": "stream",
     "text": [
      "[0, 1, 4, 9, 16, 25, 36, 49, 64, 81]\n"
     ]
    }
   ],
   "source": [
    "squares = []\n",
    "for x in range(10):\n",
    "    squares.append(x * x)\n",
    "\n",
    "print(squares)"
   ]
  },
  {
   "cell_type": "code",
   "execution_count": 59,
   "id": "fe3ab79f-92be-4d31-9275-0491a5e02a06",
   "metadata": {},
   "outputs": [
    {
     "name": "stdout",
     "output_type": "stream",
     "text": [
      "[0, 1, 4, 9, 16, 25, 36, 49, 64, 81]\n"
     ]
    }
   ],
   "source": [
    "squares = [x * x for x in range(10)]\n",
    "print(squares)"
   ]
  },
  {
   "cell_type": "code",
   "execution_count": 61,
   "id": "4466048d-d8a2-4a4c-b749-584770a53ad6",
   "metadata": {},
   "outputs": [
    {
     "name": "stdout",
     "output_type": "stream",
     "text": [
      "[0, 1, 8, 27, 64, 125, 216, 343, 512, 729]\n",
      "[0, 2, 4, 6, 8, 10, 12, 14, 16, 18]\n"
     ]
    }
   ],
   "source": [
    "# Cubes of numbers\n",
    "cubes = [x**3 for x in range(10)] \n",
    "print(cubes) \n",
    "\n",
    "# Doubles of numbers\n",
    "doubles = [2*x for x in range(10)]\n",
    "print(doubles)"
   ]
  },
  {
   "cell_type": "code",
   "execution_count": 63,
   "id": "b9d2e5f5-cc00-48e7-924e-01a6b39c6a12",
   "metadata": {},
   "outputs": [
    {
     "name": "stdout",
     "output_type": "stream",
     "text": [
      "[0, 4, 16, 36, 64]\n"
     ]
    }
   ],
   "source": [
    "even_squares = [x * x for x in range(10) if x % 2 == 0]\n",
    "print(even_squares)"
   ]
  },
  {
   "cell_type": "code",
   "execution_count": 69,
   "id": "fd79c379-c832-4104-8d23-ffa4a79132eb",
   "metadata": {},
   "outputs": [
    {
     "name": "stdout",
     "output_type": "stream",
     "text": [
      "[4, 8]\n"
     ]
    }
   ],
   "source": [
    "collection = [1, 2, 3, 4, 5]  # Define the collection\n",
    "values = []\n",
    "for item in collection:\n",
    "    if item % 2 == 0:  # Example condition\n",
    "        values.append(item * 2)  # Example expression\n",
    "print(values)\n"
   ]
  },
  {
   "cell_type": "code",
   "execution_count": null,
   "id": "4c6752b8-01a5-4cab-bf5a-d910b68dce6e",
   "metadata": {},
   "outputs": [],
   "source": []
  },
  {
   "cell_type": "code",
   "execution_count": null,
   "id": "a2b3f6fb-1aa4-4098-8eda-5225456dbea7",
   "metadata": {},
   "outputs": [],
   "source": []
  },
  {
   "cell_type": "code",
   "execution_count": null,
   "id": "ab7a0ba8-2d52-41f4-97e7-2c4ddec7bb9d",
   "metadata": {},
   "outputs": [],
   "source": []
  }
 ],
 "metadata": {
  "kernelspec": {
   "display_name": "Python 3 (ipykernel)",
   "language": "python",
   "name": "python3"
  },
  "language_info": {
   "codemirror_mode": {
    "name": "ipython",
    "version": 3
   },
   "file_extension": ".py",
   "mimetype": "text/x-python",
   "name": "python",
   "nbconvert_exporter": "python",
   "pygments_lexer": "ipython3",
   "version": "3.12.4"
  }
 },
 "nbformat": 4,
 "nbformat_minor": 5
}
